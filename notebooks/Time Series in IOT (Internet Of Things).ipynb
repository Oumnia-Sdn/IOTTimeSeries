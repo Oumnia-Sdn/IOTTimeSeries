{
 "cells": [
  {
   "cell_type": "markdown",
   "id": "98745d7c",
   "metadata": {},
   "source": [
    "# Context"
   ]
  },
  {
   "cell_type": "markdown",
   "id": "7ea4ebfb",
   "metadata": {},
   "source": [
    "JanataHackaton: Machine Learning for IoT\n",
    "\n",
    "\n",
    "IoT devices are becoming popular nowadays. The widespread use of IoT yields huge amounts of raw data. This data can be effectively processed by using machine learning to derive many useful insights that can become game changers and affect our lives deeply.\n"
   ]
  },
  {
   "cell_type": "markdown",
   "id": "1fd24cf6",
   "metadata": {},
   "source": [
    "## Problem statement \n",
    "\n",
    "This analysis is part of the JanataHack. \n",
    "We're working with our government to transform our city into a smart city. the vision is to convert it into a digital and intelligent city to improve the efficiency of services for the citizens.\n",
    "\n",
    "One of the problems faced by the government is traffic. Through this analysis, we need to manage the traffic of the city better and provide input infrasctructure planning for the future.\n",
    "\n",
    "The gov wants to implement a robust traffic system by being prepared for peaks. They would like to understand the traffic patterns of the 4 junctions, on holidays, yearly occasions and their difference with normal working days."
   ]
  },
  {
   "cell_type": "markdown",
   "id": "54018389",
   "metadata": {},
   "source": [
    "## Mission\n",
    "\n",
    "Our mission is to predict traffic in each of the 4 junctions for the next 4 months based on historical data of the past 20 months."
   ]
  },
  {
   "cell_type": "markdown",
   "id": "f5b1a8c9",
   "metadata": {},
   "source": [
    "# Environment setting & data loading "
   ]
  },
  {
   "cell_type": "code",
   "execution_count": 1,
   "id": "5fd508a8",
   "metadata": {},
   "outputs": [],
   "source": [
    "import pandas as pd\n",
    "import numpy as np\n",
    "from datetime import datetime\n",
    "import time\n",
    "\n",
    "''' Data visualisation'''\n",
    "import matplotlib.pyplot as plt\n",
    "import seaborn as sns\n",
    "import warnings\n",
    "\n",
    "''' Scikit-Learn'''\n",
    "from sklearn.model_selection import train_test_split\n",
    "from sklearn.preprocessing import StandardScaler, RobustScaler\n",
    "from sklearn.preprocessing import OneHotEncoder\n",
    "from sklearn.model_selection import cross_validate\n",
    "from sklearn.model_selection import GridSearchCV\n",
    "from sklearn.model_selection import RandomizedSearchCV\n",
    "from sklearn import set_config\n",
    "\n",
    "set_config(display='diagram')\n",
    "from sklearn.compose import ColumnTransformer\n",
    "from sklearn.compose import make_column_selector\n",
    "from sklearn.metrics import confusion_matrix\n",
    "\n",
    "''' pipeline, preproc and models '''\n",
    "from imblearn.pipeline import Pipeline\n",
    "from sklearn.linear_model import LinearRegression, SGDRegressor\n",
    "from sklearn.ensemble import RandomForestRegressor , BaggingRegressor , GradientBoostingRegressor, VotingRegressor\n",
    "from xgboost import XGBRegressor\n"
   ]
  },
  {
   "cell_type": "code",
   "execution_count": 2,
   "id": "390e8efd",
   "metadata": {},
   "outputs": [],
   "source": [
    "# load data \n",
    "data= pd.read_csv('../IOTTimeSeries/data/train_ML_IOT.csv')\n",
    "test_data= pd.read_csv('../IOTTimeSeries/data/test_ML_IOT.csv')"
   ]
  },
  {
   "cell_type": "code",
   "execution_count": 3,
   "id": "8ab8f292",
   "metadata": {
    "scrolled": true
   },
   "outputs": [
    {
     "data": {
      "text/html": [
       "<div>\n",
       "<style scoped>\n",
       "    .dataframe tbody tr th:only-of-type {\n",
       "        vertical-align: middle;\n",
       "    }\n",
       "\n",
       "    .dataframe tbody tr th {\n",
       "        vertical-align: top;\n",
       "    }\n",
       "\n",
       "    .dataframe thead th {\n",
       "        text-align: right;\n",
       "    }\n",
       "</style>\n",
       "<table border=\"1\" class=\"dataframe\">\n",
       "  <thead>\n",
       "    <tr style=\"text-align: right;\">\n",
       "      <th></th>\n",
       "      <th>DateTime</th>\n",
       "      <th>Junction</th>\n",
       "      <th>Vehicles</th>\n",
       "      <th>ID</th>\n",
       "    </tr>\n",
       "  </thead>\n",
       "  <tbody>\n",
       "    <tr>\n",
       "      <th>0</th>\n",
       "      <td>2015-11-01 00:00:00</td>\n",
       "      <td>1</td>\n",
       "      <td>15</td>\n",
       "      <td>20151101001</td>\n",
       "    </tr>\n",
       "    <tr>\n",
       "      <th>1</th>\n",
       "      <td>2015-11-01 01:00:00</td>\n",
       "      <td>1</td>\n",
       "      <td>13</td>\n",
       "      <td>20151101011</td>\n",
       "    </tr>\n",
       "    <tr>\n",
       "      <th>2</th>\n",
       "      <td>2015-11-01 02:00:00</td>\n",
       "      <td>1</td>\n",
       "      <td>10</td>\n",
       "      <td>20151101021</td>\n",
       "    </tr>\n",
       "    <tr>\n",
       "      <th>3</th>\n",
       "      <td>2015-11-01 03:00:00</td>\n",
       "      <td>1</td>\n",
       "      <td>7</td>\n",
       "      <td>20151101031</td>\n",
       "    </tr>\n",
       "    <tr>\n",
       "      <th>4</th>\n",
       "      <td>2015-11-01 04:00:00</td>\n",
       "      <td>1</td>\n",
       "      <td>9</td>\n",
       "      <td>20151101041</td>\n",
       "    </tr>\n",
       "  </tbody>\n",
       "</table>\n",
       "</div>"
      ],
      "text/plain": [
       "              DateTime  Junction  Vehicles           ID\n",
       "0  2015-11-01 00:00:00         1        15  20151101001\n",
       "1  2015-11-01 01:00:00         1        13  20151101011\n",
       "2  2015-11-01 02:00:00         1        10  20151101021\n",
       "3  2015-11-01 03:00:00         1         7  20151101031\n",
       "4  2015-11-01 04:00:00         1         9  20151101041"
      ]
     },
     "execution_count": 3,
     "metadata": {},
     "output_type": "execute_result"
    }
   ],
   "source": [
    "data.head()"
   ]
  },
  {
   "cell_type": "code",
   "execution_count": 4,
   "id": "98b102cf",
   "metadata": {},
   "outputs": [
    {
     "data": {
      "text/html": [
       "<div>\n",
       "<style scoped>\n",
       "    .dataframe tbody tr th:only-of-type {\n",
       "        vertical-align: middle;\n",
       "    }\n",
       "\n",
       "    .dataframe tbody tr th {\n",
       "        vertical-align: top;\n",
       "    }\n",
       "\n",
       "    .dataframe thead th {\n",
       "        text-align: right;\n",
       "    }\n",
       "</style>\n",
       "<table border=\"1\" class=\"dataframe\">\n",
       "  <thead>\n",
       "    <tr style=\"text-align: right;\">\n",
       "      <th></th>\n",
       "      <th>DateTime</th>\n",
       "      <th>Junction</th>\n",
       "      <th>ID</th>\n",
       "    </tr>\n",
       "  </thead>\n",
       "  <tbody>\n",
       "    <tr>\n",
       "      <th>11803</th>\n",
       "      <td>2017-10-31 19:00:00</td>\n",
       "      <td>4</td>\n",
       "      <td>20171031194</td>\n",
       "    </tr>\n",
       "    <tr>\n",
       "      <th>11804</th>\n",
       "      <td>2017-10-31 20:00:00</td>\n",
       "      <td>4</td>\n",
       "      <td>20171031204</td>\n",
       "    </tr>\n",
       "    <tr>\n",
       "      <th>11805</th>\n",
       "      <td>2017-10-31 21:00:00</td>\n",
       "      <td>4</td>\n",
       "      <td>20171031214</td>\n",
       "    </tr>\n",
       "    <tr>\n",
       "      <th>11806</th>\n",
       "      <td>2017-10-31 22:00:00</td>\n",
       "      <td>4</td>\n",
       "      <td>20171031224</td>\n",
       "    </tr>\n",
       "    <tr>\n",
       "      <th>11807</th>\n",
       "      <td>2017-10-31 23:00:00</td>\n",
       "      <td>4</td>\n",
       "      <td>20171031234</td>\n",
       "    </tr>\n",
       "  </tbody>\n",
       "</table>\n",
       "</div>"
      ],
      "text/plain": [
       "                  DateTime  Junction           ID\n",
       "11803  2017-10-31 19:00:00         4  20171031194\n",
       "11804  2017-10-31 20:00:00         4  20171031204\n",
       "11805  2017-10-31 21:00:00         4  20171031214\n",
       "11806  2017-10-31 22:00:00         4  20171031224\n",
       "11807  2017-10-31 23:00:00         4  20171031234"
      ]
     },
     "execution_count": 4,
     "metadata": {},
     "output_type": "execute_result"
    }
   ],
   "source": [
    "test_data.tail()"
   ]
  },
  {
   "cell_type": "markdown",
   "id": "cdffb35f",
   "metadata": {},
   "source": [
    "# EDA "
   ]
  },
  {
   "cell_type": "code",
   "execution_count": 5,
   "id": "c9a47cd5",
   "metadata": {},
   "outputs": [
    {
     "name": "stdout",
     "output_type": "stream",
     "text": [
      "(48120, 4) (11808, 3)\n"
     ]
    }
   ],
   "source": [
    "# data shape\n",
    "print(data.shape , test_data.shape)"
   ]
  },
  {
   "cell_type": "code",
   "execution_count": 6,
   "id": "d7bfd3c4",
   "metadata": {
    "scrolled": true
   },
   "outputs": [
    {
     "name": "stdout",
     "output_type": "stream",
     "text": [
      "<class 'pandas.core.frame.DataFrame'>\n",
      "RangeIndex: 48120 entries, 0 to 48119\n",
      "Data columns (total 4 columns):\n",
      " #   Column    Non-Null Count  Dtype \n",
      "---  ------    --------------  ----- \n",
      " 0   DateTime  48120 non-null  object\n",
      " 1   Junction  48120 non-null  int64 \n",
      " 2   Vehicles  48120 non-null  int64 \n",
      " 3   ID        48120 non-null  int64 \n",
      "dtypes: int64(3), object(1)\n",
      "memory usage: 1.5+ MB\n"
     ]
    }
   ],
   "source": [
    "#train info \n",
    "data.info()"
   ]
  },
  {
   "cell_type": "code",
   "execution_count": 7,
   "id": "1a4bace6",
   "metadata": {
    "scrolled": true
   },
   "outputs": [
    {
     "name": "stdout",
     "output_type": "stream",
     "text": [
      "<class 'pandas.core.frame.DataFrame'>\n",
      "RangeIndex: 11808 entries, 0 to 11807\n",
      "Data columns (total 3 columns):\n",
      " #   Column    Non-Null Count  Dtype \n",
      "---  ------    --------------  ----- \n",
      " 0   DateTime  11808 non-null  object\n",
      " 1   Junction  11808 non-null  int64 \n",
      " 2   ID        11808 non-null  int64 \n",
      "dtypes: int64(2), object(1)\n",
      "memory usage: 276.9+ KB\n"
     ]
    }
   ],
   "source": [
    "test_data.info()"
   ]
  },
  {
   "cell_type": "code",
   "execution_count": 8,
   "id": "5399cde5",
   "metadata": {
    "scrolled": true
   },
   "outputs": [
    {
     "data": {
      "text/html": [
       "<div>\n",
       "<style scoped>\n",
       "    .dataframe tbody tr th:only-of-type {\n",
       "        vertical-align: middle;\n",
       "    }\n",
       "\n",
       "    .dataframe tbody tr th {\n",
       "        vertical-align: top;\n",
       "    }\n",
       "\n",
       "    .dataframe thead th {\n",
       "        text-align: right;\n",
       "    }\n",
       "</style>\n",
       "<table border=\"1\" class=\"dataframe\">\n",
       "  <thead>\n",
       "    <tr style=\"text-align: right;\">\n",
       "      <th></th>\n",
       "      <th>Junction</th>\n",
       "      <th>Vehicles</th>\n",
       "      <th>ID</th>\n",
       "    </tr>\n",
       "  </thead>\n",
       "  <tbody>\n",
       "    <tr>\n",
       "      <th>count</th>\n",
       "      <td>48120.000000</td>\n",
       "      <td>48120.000000</td>\n",
       "      <td>4.812000e+04</td>\n",
       "    </tr>\n",
       "    <tr>\n",
       "      <th>mean</th>\n",
       "      <td>2.180549</td>\n",
       "      <td>22.791334</td>\n",
       "      <td>2.016330e+10</td>\n",
       "    </tr>\n",
       "    <tr>\n",
       "      <th>std</th>\n",
       "      <td>0.966955</td>\n",
       "      <td>20.750063</td>\n",
       "      <td>5.944854e+06</td>\n",
       "    </tr>\n",
       "    <tr>\n",
       "      <th>min</th>\n",
       "      <td>1.000000</td>\n",
       "      <td>1.000000</td>\n",
       "      <td>2.015110e+10</td>\n",
       "    </tr>\n",
       "    <tr>\n",
       "      <th>25%</th>\n",
       "      <td>1.000000</td>\n",
       "      <td>9.000000</td>\n",
       "      <td>2.016042e+10</td>\n",
       "    </tr>\n",
       "    <tr>\n",
       "      <th>50%</th>\n",
       "      <td>2.000000</td>\n",
       "      <td>15.000000</td>\n",
       "      <td>2.016093e+10</td>\n",
       "    </tr>\n",
       "    <tr>\n",
       "      <th>75%</th>\n",
       "      <td>3.000000</td>\n",
       "      <td>29.000000</td>\n",
       "      <td>2.017023e+10</td>\n",
       "    </tr>\n",
       "    <tr>\n",
       "      <th>max</th>\n",
       "      <td>4.000000</td>\n",
       "      <td>180.000000</td>\n",
       "      <td>2.017063e+10</td>\n",
       "    </tr>\n",
       "  </tbody>\n",
       "</table>\n",
       "</div>"
      ],
      "text/plain": [
       "           Junction      Vehicles            ID\n",
       "count  48120.000000  48120.000000  4.812000e+04\n",
       "mean       2.180549     22.791334  2.016330e+10\n",
       "std        0.966955     20.750063  5.944854e+06\n",
       "min        1.000000      1.000000  2.015110e+10\n",
       "25%        1.000000      9.000000  2.016042e+10\n",
       "50%        2.000000     15.000000  2.016093e+10\n",
       "75%        3.000000     29.000000  2.017023e+10\n",
       "max        4.000000    180.000000  2.017063e+10"
      ]
     },
     "execution_count": 8,
     "metadata": {},
     "output_type": "execute_result"
    }
   ],
   "source": [
    "# train data description\n",
    "data.describe()"
   ]
  },
  {
   "cell_type": "code",
   "execution_count": 9,
   "id": "f9287634",
   "metadata": {
    "scrolled": true
   },
   "outputs": [
    {
     "data": {
      "text/html": [
       "<div>\n",
       "<style scoped>\n",
       "    .dataframe tbody tr th:only-of-type {\n",
       "        vertical-align: middle;\n",
       "    }\n",
       "\n",
       "    .dataframe tbody tr th {\n",
       "        vertical-align: top;\n",
       "    }\n",
       "\n",
       "    .dataframe thead th {\n",
       "        text-align: right;\n",
       "    }\n",
       "</style>\n",
       "<table border=\"1\" class=\"dataframe\">\n",
       "  <thead>\n",
       "    <tr style=\"text-align: right;\">\n",
       "      <th></th>\n",
       "      <th>Junction</th>\n",
       "      <th>ID</th>\n",
       "    </tr>\n",
       "  </thead>\n",
       "  <tbody>\n",
       "    <tr>\n",
       "      <th>count</th>\n",
       "      <td>11808.000000</td>\n",
       "      <td>1.180800e+04</td>\n",
       "    </tr>\n",
       "    <tr>\n",
       "      <th>mean</th>\n",
       "      <td>2.500000</td>\n",
       "      <td>2.017087e+10</td>\n",
       "    </tr>\n",
       "    <tr>\n",
       "      <th>std</th>\n",
       "      <td>1.118081</td>\n",
       "      <td>1.124665e+05</td>\n",
       "    </tr>\n",
       "    <tr>\n",
       "      <th>min</th>\n",
       "      <td>1.000000</td>\n",
       "      <td>2.017070e+10</td>\n",
       "    </tr>\n",
       "    <tr>\n",
       "      <th>25%</th>\n",
       "      <td>1.750000</td>\n",
       "      <td>2.017073e+10</td>\n",
       "    </tr>\n",
       "    <tr>\n",
       "      <th>50%</th>\n",
       "      <td>2.500000</td>\n",
       "      <td>2.017083e+10</td>\n",
       "    </tr>\n",
       "    <tr>\n",
       "      <th>75%</th>\n",
       "      <td>3.250000</td>\n",
       "      <td>2.017100e+10</td>\n",
       "    </tr>\n",
       "    <tr>\n",
       "      <th>max</th>\n",
       "      <td>4.000000</td>\n",
       "      <td>2.017103e+10</td>\n",
       "    </tr>\n",
       "  </tbody>\n",
       "</table>\n",
       "</div>"
      ],
      "text/plain": [
       "           Junction            ID\n",
       "count  11808.000000  1.180800e+04\n",
       "mean       2.500000  2.017087e+10\n",
       "std        1.118081  1.124665e+05\n",
       "min        1.000000  2.017070e+10\n",
       "25%        1.750000  2.017073e+10\n",
       "50%        2.500000  2.017083e+10\n",
       "75%        3.250000  2.017100e+10\n",
       "max        4.000000  2.017103e+10"
      ]
     },
     "execution_count": 9,
     "metadata": {},
     "output_type": "execute_result"
    }
   ],
   "source": [
    "# test data description\n",
    "test_data.describe()"
   ]
  },
  {
   "cell_type": "code",
   "execution_count": 10,
   "id": "c46553b0",
   "metadata": {},
   "outputs": [
    {
     "data": {
      "text/plain": [
       "0.0"
      ]
     },
     "execution_count": 10,
     "metadata": {},
     "output_type": "execute_result"
    }
   ],
   "source": [
    "#check for data leakage\n",
    "np.intersect1d(data['ID'], test_data['ID']).shape[0]/data['ID'].nunique()"
   ]
  },
  {
   "cell_type": "code",
   "execution_count": 11,
   "id": "dea9b2d8",
   "metadata": {},
   "outputs": [],
   "source": [
    "# Dropping ID column \n",
    "data.drop(['ID'], axis=1, inplace=True)\n",
    "test_ID= test_data['ID']\n",
    "test_data.drop(['ID'], axis=1, inplace=True)"
   ]
  },
  {
   "cell_type": "markdown",
   "id": "8e5fe156",
   "metadata": {},
   "source": [
    "## duplicates "
   ]
  },
  {
   "cell_type": "code",
   "execution_count": 12,
   "id": "cc21d96f",
   "metadata": {},
   "outputs": [
    {
     "name": "stdout",
     "output_type": "stream",
     "text": [
      "before removing duplicates - No of rows : 48120\n",
      "duplicated rows in train data: 0\n",
      "No of rows after removing duplicates: 48120\n"
     ]
    }
   ],
   "source": [
    "print('before removing duplicates - No of rows :', len(data))\n",
    "duplicates= data.duplicated()\n",
    "print('duplicated rows in train data:', duplicates.sum())\n",
    "data.drop_duplicates(inplace=True)\n",
    "print('No of rows after removing duplicates:', len(data))"
   ]
  },
  {
   "cell_type": "code",
   "execution_count": 13,
   "id": "0f3f13bb",
   "metadata": {},
   "outputs": [
    {
     "name": "stdout",
     "output_type": "stream",
     "text": [
      "before removing duplicates - No of rows : 11808\n",
      "duplicated rows in train data: 0\n",
      "No of rows after removing duplicates: 11808\n"
     ]
    }
   ],
   "source": [
    "print('before removing duplicates - No of rows :', len(test_data))\n",
    "duplicates_test= test_data.duplicated()\n",
    "print('duplicated rows in train data:', duplicates_test.sum())\n",
    "test_data.drop_duplicates(inplace=True)\n",
    "print('No of rows after removing duplicates:', len(test_data))"
   ]
  },
  {
   "cell_type": "markdown",
   "id": "ff9e6de7",
   "metadata": {},
   "source": [
    "## Missing values "
   ]
  },
  {
   "cell_type": "code",
   "execution_count": 14,
   "id": "35c10d5f",
   "metadata": {},
   "outputs": [
    {
     "name": "stdout",
     "output_type": "stream",
     "text": [
      "DateTime    0\n",
      "Junction    0\n",
      "Vehicles    0\n",
      "dtype: int64\n",
      "\n",
      "\n",
      "DateTime    0\n",
      "Junction    0\n",
      "dtype: int64\n"
     ]
    }
   ],
   "source": [
    "print(data.isnull().sum())\n",
    "print('\\n')\n",
    "print(test_data.isnull().sum())"
   ]
  },
  {
   "cell_type": "markdown",
   "id": "a9435363",
   "metadata": {},
   "source": [
    "## Dtypes"
   ]
  },
  {
   "cell_type": "code",
   "execution_count": 15,
   "id": "8f98cd48",
   "metadata": {
    "scrolled": true
   },
   "outputs": [
    {
     "name": "stdout",
     "output_type": "stream",
     "text": [
      "<class 'pandas.core.frame.DataFrame'>\n",
      "Int64Index: 48120 entries, 0 to 48119\n",
      "Data columns (total 3 columns):\n",
      " #   Column    Non-Null Count  Dtype \n",
      "---  ------    --------------  ----- \n",
      " 0   DateTime  48120 non-null  object\n",
      " 1   Junction  48120 non-null  int64 \n",
      " 2   Vehicles  48120 non-null  int64 \n",
      "dtypes: int64(2), object(1)\n",
      "memory usage: 1.5+ MB\n"
     ]
    }
   ],
   "source": [
    "data.info()"
   ]
  },
  {
   "cell_type": "code",
   "execution_count": 16,
   "id": "7dd339c5",
   "metadata": {},
   "outputs": [
    {
     "name": "stdout",
     "output_type": "stream",
     "text": [
      "4\n",
      "4\n"
     ]
    }
   ],
   "source": [
    "print(data.Junction.nunique())\n",
    "print(test_data.Junction.nunique())"
   ]
  },
  {
   "cell_type": "code",
   "execution_count": 17,
   "id": "52e1ceab",
   "metadata": {},
   "outputs": [],
   "source": [
    "# converting Datetime column in datetime object \n",
    "data['DateTime']= pd.to_datetime(data.DateTime)\n",
    "test_data['DateTime']= pd.to_datetime(test_data.DateTime)"
   ]
  },
  {
   "cell_type": "code",
   "execution_count": 18,
   "id": "2bb9bc74",
   "metadata": {},
   "outputs": [
    {
     "name": "stdout",
     "output_type": "stream",
     "text": [
      "<class 'pandas.core.frame.DataFrame'>\n",
      "Int64Index: 48120 entries, 0 to 48119\n",
      "Data columns (total 3 columns):\n",
      " #   Column    Non-Null Count  Dtype         \n",
      "---  ------    --------------  -----         \n",
      " 0   DateTime  48120 non-null  datetime64[ns]\n",
      " 1   Junction  48120 non-null  int64         \n",
      " 2   Vehicles  48120 non-null  int64         \n",
      "dtypes: datetime64[ns](1), int64(2)\n",
      "memory usage: 1.5 MB\n",
      "None\n",
      "\n",
      "\n",
      "<class 'pandas.core.frame.DataFrame'>\n",
      "Int64Index: 11808 entries, 0 to 11807\n",
      "Data columns (total 2 columns):\n",
      " #   Column    Non-Null Count  Dtype         \n",
      "---  ------    --------------  -----         \n",
      " 0   DateTime  11808 non-null  datetime64[ns]\n",
      " 1   Junction  11808 non-null  int64         \n",
      "dtypes: datetime64[ns](1), int64(1)\n",
      "memory usage: 276.8 KB\n",
      "None\n"
     ]
    }
   ],
   "source": [
    "print(data.info())\n",
    "print('\\n')\n",
    "print(test_data.info())"
   ]
  },
  {
   "cell_type": "markdown",
   "id": "0ee7932c",
   "metadata": {},
   "source": [
    "## Features Engineering "
   ]
  },
  {
   "cell_type": "code",
   "execution_count": 19,
   "id": "11e76c90",
   "metadata": {},
   "outputs": [],
   "source": [
    "import warnings\n",
    "warnings.filterwarnings(\"ignore\")"
   ]
  },
  {
   "cell_type": "markdown",
   "id": "0c136f82",
   "metadata": {},
   "source": [
    "## Features creation "
   ]
  },
  {
   "cell_type": "code",
   "execution_count": 20,
   "id": "9ad5ecac",
   "metadata": {},
   "outputs": [],
   "source": [
    "#creating features from the timestamp\n",
    "\n",
    "data['Time'] = [((date.hour*60+(date.minute))*60)+date.second for date in data.DateTime]\n",
    "data['dayofweek'] = data['DateTime'].dt.dayofweek\n",
    "data['dayofmonth'] = data['DateTime'].dt.day\n",
    "data['weekofyear'] = data['DateTime'].dt.weekofyear\n"
   ]
  },
  {
   "cell_type": "code",
   "execution_count": 21,
   "id": "617a2bc9",
   "metadata": {},
   "outputs": [],
   "source": [
    "#creating features from the timestamp in the test data \n",
    "\n",
    "test_data['Time'] = [((date.hour*60+(date.minute))*60)+date.second for date in test_data.DateTime]\n",
    "test_data['dayofweek'] = test_data['DateTime'].dt.dayofweek\n",
    "test_data['dayofmonth'] = test_data['DateTime'].dt.day\n",
    "test_data['weekofyear'] = test_data['DateTime'].dt.weekofyear"
   ]
  },
  {
   "cell_type": "code",
   "execution_count": 22,
   "id": "f2d9ecd3",
   "metadata": {
    "scrolled": true
   },
   "outputs": [
    {
     "name": "stdout",
     "output_type": "stream",
     "text": [
      "<class 'pandas.core.frame.DataFrame'>\n",
      "Int64Index: 48120 entries, 0 to 48119\n",
      "Data columns (total 7 columns):\n",
      " #   Column      Non-Null Count  Dtype         \n",
      "---  ------      --------------  -----         \n",
      " 0   DateTime    48120 non-null  datetime64[ns]\n",
      " 1   Junction    48120 non-null  int64         \n",
      " 2   Vehicles    48120 non-null  int64         \n",
      " 3   Time        48120 non-null  int64         \n",
      " 4   dayofweek   48120 non-null  int64         \n",
      " 5   dayofmonth  48120 non-null  int64         \n",
      " 6   weekofyear  48120 non-null  int64         \n",
      "dtypes: datetime64[ns](1), int64(6)\n",
      "memory usage: 2.9 MB\n"
     ]
    }
   ],
   "source": [
    "# train data info with the newly created features\n",
    "data.info()"
   ]
  },
  {
   "cell_type": "code",
   "execution_count": 23,
   "id": "252be00a",
   "metadata": {
    "scrolled": false
   },
   "outputs": [
    {
     "data": {
      "text/plain": [
       "DateTime      14592\n",
       "Junction          4\n",
       "Vehicles        141\n",
       "Time             24\n",
       "dayofweek         7\n",
       "dayofmonth       31\n",
       "weekofyear       53\n",
       "dtype: int64"
      ]
     },
     "execution_count": 23,
     "metadata": {},
     "output_type": "execute_result"
    }
   ],
   "source": [
    "#checking if there are anhy potential categorical variables\n",
    "data.nunique()"
   ]
  },
  {
   "cell_type": "code",
   "execution_count": 24,
   "id": "18ffc06a",
   "metadata": {},
   "outputs": [
    {
     "data": {
      "text/html": [
       "<div>\n",
       "<style scoped>\n",
       "    .dataframe tbody tr th:only-of-type {\n",
       "        vertical-align: middle;\n",
       "    }\n",
       "\n",
       "    .dataframe tbody tr th {\n",
       "        vertical-align: top;\n",
       "    }\n",
       "\n",
       "    .dataframe thead th {\n",
       "        text-align: right;\n",
       "    }\n",
       "</style>\n",
       "<table border=\"1\" class=\"dataframe\">\n",
       "  <thead>\n",
       "    <tr style=\"text-align: right;\">\n",
       "      <th></th>\n",
       "      <th>DateTime</th>\n",
       "      <th>Junction</th>\n",
       "      <th>Vehicles</th>\n",
       "      <th>Time</th>\n",
       "      <th>dayofweek</th>\n",
       "      <th>dayofmonth</th>\n",
       "      <th>weekofyear</th>\n",
       "    </tr>\n",
       "  </thead>\n",
       "  <tbody>\n",
       "    <tr>\n",
       "      <th>0</th>\n",
       "      <td>2015-11-01 00:00:00</td>\n",
       "      <td>1</td>\n",
       "      <td>15</td>\n",
       "      <td>0</td>\n",
       "      <td>6</td>\n",
       "      <td>1</td>\n",
       "      <td>44</td>\n",
       "    </tr>\n",
       "    <tr>\n",
       "      <th>1</th>\n",
       "      <td>2015-11-01 01:00:00</td>\n",
       "      <td>1</td>\n",
       "      <td>13</td>\n",
       "      <td>3600</td>\n",
       "      <td>6</td>\n",
       "      <td>1</td>\n",
       "      <td>44</td>\n",
       "    </tr>\n",
       "    <tr>\n",
       "      <th>2</th>\n",
       "      <td>2015-11-01 02:00:00</td>\n",
       "      <td>1</td>\n",
       "      <td>10</td>\n",
       "      <td>7200</td>\n",
       "      <td>6</td>\n",
       "      <td>1</td>\n",
       "      <td>44</td>\n",
       "    </tr>\n",
       "    <tr>\n",
       "      <th>3</th>\n",
       "      <td>2015-11-01 03:00:00</td>\n",
       "      <td>1</td>\n",
       "      <td>7</td>\n",
       "      <td>10800</td>\n",
       "      <td>6</td>\n",
       "      <td>1</td>\n",
       "      <td>44</td>\n",
       "    </tr>\n",
       "    <tr>\n",
       "      <th>4</th>\n",
       "      <td>2015-11-01 04:00:00</td>\n",
       "      <td>1</td>\n",
       "      <td>9</td>\n",
       "      <td>14400</td>\n",
       "      <td>6</td>\n",
       "      <td>1</td>\n",
       "      <td>44</td>\n",
       "    </tr>\n",
       "  </tbody>\n",
       "</table>\n",
       "</div>"
      ],
      "text/plain": [
       "             DateTime  Junction  Vehicles   Time  dayofweek  dayofmonth  \\\n",
       "0 2015-11-01 00:00:00         1        15      0          6           1   \n",
       "1 2015-11-01 01:00:00         1        13   3600          6           1   \n",
       "2 2015-11-01 02:00:00         1        10   7200          6           1   \n",
       "3 2015-11-01 03:00:00         1         7  10800          6           1   \n",
       "4 2015-11-01 04:00:00         1         9  14400          6           1   \n",
       "\n",
       "   weekofyear  \n",
       "0          44  \n",
       "1          44  \n",
       "2          44  \n",
       "3          44  \n",
       "4          44  "
      ]
     },
     "execution_count": 24,
     "metadata": {},
     "output_type": "execute_result"
    }
   ],
   "source": [
    "data.head()"
   ]
  },
  {
   "cell_type": "markdown",
   "id": "5f492c3f",
   "metadata": {},
   "source": [
    "## Features  selection and preproc "
   ]
  },
  {
   "cell_type": "code",
   "execution_count": 25,
   "id": "d6b1d211",
   "metadata": {},
   "outputs": [],
   "source": [
    "# convert DateTime timestamp to seconds\n",
    "data['DateTime']= [time.mktime(date.timetuple()) for date in data.DateTime]\n",
    "test_data['DateTime']= [time.mktime(date.timetuple()) for date in test_data.DateTime]"
   ]
  },
  {
   "cell_type": "code",
   "execution_count": 26,
   "id": "77349100",
   "metadata": {
    "scrolled": true
   },
   "outputs": [
    {
     "data": {
      "text/plain": [
       "'Data Head & Tail :'"
      ]
     },
     "metadata": {},
     "output_type": "display_data"
    },
    {
     "data": {
      "text/html": [
       "<div>\n",
       "<style scoped>\n",
       "    .dataframe tbody tr th:only-of-type {\n",
       "        vertical-align: middle;\n",
       "    }\n",
       "\n",
       "    .dataframe tbody tr th {\n",
       "        vertical-align: top;\n",
       "    }\n",
       "\n",
       "    .dataframe thead th {\n",
       "        text-align: right;\n",
       "    }\n",
       "</style>\n",
       "<table border=\"1\" class=\"dataframe\">\n",
       "  <thead>\n",
       "    <tr style=\"text-align: right;\">\n",
       "      <th></th>\n",
       "      <th>DateTime</th>\n",
       "      <th>Junction</th>\n",
       "      <th>Vehicles</th>\n",
       "      <th>Time</th>\n",
       "      <th>dayofweek</th>\n",
       "      <th>dayofmonth</th>\n",
       "      <th>weekofyear</th>\n",
       "    </tr>\n",
       "  </thead>\n",
       "  <tbody>\n",
       "    <tr>\n",
       "      <th>0</th>\n",
       "      <td>1.446332e+09</td>\n",
       "      <td>1</td>\n",
       "      <td>15</td>\n",
       "      <td>0</td>\n",
       "      <td>6</td>\n",
       "      <td>1</td>\n",
       "      <td>44</td>\n",
       "    </tr>\n",
       "    <tr>\n",
       "      <th>1</th>\n",
       "      <td>1.446336e+09</td>\n",
       "      <td>1</td>\n",
       "      <td>13</td>\n",
       "      <td>3600</td>\n",
       "      <td>6</td>\n",
       "      <td>1</td>\n",
       "      <td>44</td>\n",
       "    </tr>\n",
       "    <tr>\n",
       "      <th>2</th>\n",
       "      <td>1.446340e+09</td>\n",
       "      <td>1</td>\n",
       "      <td>10</td>\n",
       "      <td>7200</td>\n",
       "      <td>6</td>\n",
       "      <td>1</td>\n",
       "      <td>44</td>\n",
       "    </tr>\n",
       "    <tr>\n",
       "      <th>48118</th>\n",
       "      <td>1.498853e+09</td>\n",
       "      <td>4</td>\n",
       "      <td>22</td>\n",
       "      <td>79200</td>\n",
       "      <td>4</td>\n",
       "      <td>30</td>\n",
       "      <td>26</td>\n",
       "    </tr>\n",
       "    <tr>\n",
       "      <th>48119</th>\n",
       "      <td>1.498856e+09</td>\n",
       "      <td>4</td>\n",
       "      <td>12</td>\n",
       "      <td>82800</td>\n",
       "      <td>4</td>\n",
       "      <td>30</td>\n",
       "      <td>26</td>\n",
       "    </tr>\n",
       "  </tbody>\n",
       "</table>\n",
       "</div>"
      ],
      "text/plain": [
       "           DateTime  Junction  Vehicles   Time  dayofweek  dayofmonth  \\\n",
       "0      1.446332e+09         1        15      0          6           1   \n",
       "1      1.446336e+09         1        13   3600          6           1   \n",
       "2      1.446340e+09         1        10   7200          6           1   \n",
       "48118  1.498853e+09         4        22  79200          4          30   \n",
       "48119  1.498856e+09         4        12  82800          4          30   \n",
       "\n",
       "       weekofyear  \n",
       "0              44  \n",
       "1              44  \n",
       "2              44  \n",
       "48118          26  \n",
       "48119          26  "
      ]
     },
     "metadata": {},
     "output_type": "display_data"
    }
   ],
   "source": [
    "def display_head_tail(data, head_rows, tail_rows):\n",
    "    display(\"Data Head & Tail :\")\n",
    "    display(data.head(head_rows).append(data.tail(tail_rows)))\n",
    "    \n",
    "display_head_tail(data, head_rows=3, tail_rows=2)"
   ]
  },
  {
   "cell_type": "code",
   "execution_count": 27,
   "id": "e639ad9b",
   "metadata": {},
   "outputs": [],
   "source": [
    "#convert Junction , dayofweek, dayofmonth into string for onehotencoding\n",
    "''' train columns '''\n",
    "data['Junction']= data.Junction.astype('str') \n",
    "data['dayofweek']= data.dayofweek.astype('str') \n",
    "data['dayofmonth']= data.dayofmonth.astype('str') \n",
    "\n",
    "''' test columns '''\n",
    "test_data['Junction']= test_data.Junction.astype('str') \n",
    "test_data['dayofweek']= test_data.dayofweek.astype('str') \n",
    "test_data['dayofmonth']= test_data.dayofmonth.astype('str') "
   ]
  },
  {
   "cell_type": "code",
   "execution_count": 28,
   "id": "ec28f940",
   "metadata": {
    "scrolled": true
   },
   "outputs": [
    {
     "name": "stdout",
     "output_type": "stream",
     "text": [
      "Index(['DateTime', 'Junction', 'Vehicles', 'Time', 'dayofweek', 'dayofmonth',\n",
      "       'weekofyear'],\n",
      "      dtype='object')\n",
      "<class 'pandas.core.frame.DataFrame'>\n",
      "Int64Index: 48120 entries, 0 to 48119\n",
      "Data columns (total 7 columns):\n",
      " #   Column      Non-Null Count  Dtype  \n",
      "---  ------      --------------  -----  \n",
      " 0   DateTime    48120 non-null  float64\n",
      " 1   Junction    48120 non-null  object \n",
      " 2   Vehicles    48120 non-null  int64  \n",
      " 3   Time        48120 non-null  int64  \n",
      " 4   dayofweek   48120 non-null  object \n",
      " 5   dayofmonth  48120 non-null  object \n",
      " 6   weekofyear  48120 non-null  int64  \n",
      "dtypes: float64(1), int64(3), object(3)\n",
      "memory usage: 2.9+ MB\n",
      "None\n"
     ]
    }
   ],
   "source": [
    "print(data.columns)\n",
    "print(data.info())"
   ]
  },
  {
   "cell_type": "markdown",
   "id": "b74f74af",
   "metadata": {},
   "source": [
    "# Model"
   ]
  },
  {
   "cell_type": "code",
   "execution_count": 29,
   "id": "89129975",
   "metadata": {},
   "outputs": [
    {
     "name": "stdout",
     "output_type": "stream",
     "text": [
      "(38496, 6) (9624, 6) (38496,) (9624,)\n"
     ]
    }
   ],
   "source": [
    "# train test  split \n",
    "X= data.drop(['Vehicles'], axis=1)\n",
    "y= data.Vehicles\n",
    "\n",
    "X_train, X_test, y_train, y_test= train_test_split(X, y , test_size=0.2, random_state=42)\n",
    "print(X_train.shape , X_test.shape, y_train.shape, y_test.shape)"
   ]
  },
  {
   "cell_type": "markdown",
   "id": "c380808f",
   "metadata": {},
   "source": [
    "## Baseline model "
   ]
  },
  {
   "cell_type": "code",
   "execution_count": 30,
   "id": "7426be9b",
   "metadata": {},
   "outputs": [
    {
     "data": {
      "text/plain": [
       "0.0"
      ]
     },
     "execution_count": 30,
     "metadata": {},
     "output_type": "execute_result"
    }
   ],
   "source": [
    "#baseline model \n",
    "from sklearn.dummy import DummyRegressor\n",
    "dummy_regr = DummyRegressor(strategy=\"mean\")\n",
    "dummy_regr.fit(X, y)\n",
    "dummy_regr.score(X, y)"
   ]
  },
  {
   "cell_type": "code",
   "execution_count": 31,
   "id": "890f5a63",
   "metadata": {
    "scrolled": true
   },
   "outputs": [
    {
     "data": {
      "text/html": [
       "<div>\n",
       "<style scoped>\n",
       "    .dataframe tbody tr th:only-of-type {\n",
       "        vertical-align: middle;\n",
       "    }\n",
       "\n",
       "    .dataframe tbody tr th {\n",
       "        vertical-align: top;\n",
       "    }\n",
       "\n",
       "    .dataframe thead th {\n",
       "        text-align: right;\n",
       "    }\n",
       "</style>\n",
       "<table border=\"1\" class=\"dataframe\">\n",
       "  <thead>\n",
       "    <tr style=\"text-align: right;\">\n",
       "      <th></th>\n",
       "      <th>fit_time</th>\n",
       "      <th>score_time</th>\n",
       "      <th>test_r2</th>\n",
       "      <th>test_neg_mean_squared_error</th>\n",
       "    </tr>\n",
       "  </thead>\n",
       "  <tbody>\n",
       "    <tr>\n",
       "      <th>0</th>\n",
       "      <td>0.002666</td>\n",
       "      <td>0.000499</td>\n",
       "      <td>-6.680369e-07</td>\n",
       "      <td>-429.113603</td>\n",
       "    </tr>\n",
       "    <tr>\n",
       "      <th>1</th>\n",
       "      <td>0.002886</td>\n",
       "      <td>0.000495</td>\n",
       "      <td>-2.917894e-06</td>\n",
       "      <td>-436.540854</td>\n",
       "    </tr>\n",
       "    <tr>\n",
       "      <th>2</th>\n",
       "      <td>0.002815</td>\n",
       "      <td>0.000469</td>\n",
       "      <td>-9.692621e-05</td>\n",
       "      <td>-450.632990</td>\n",
       "    </tr>\n",
       "    <tr>\n",
       "      <th>3</th>\n",
       "      <td>0.002266</td>\n",
       "      <td>0.000437</td>\n",
       "      <td>-3.116473e-04</td>\n",
       "      <td>-424.468212</td>\n",
       "    </tr>\n",
       "    <tr>\n",
       "      <th>4</th>\n",
       "      <td>0.001899</td>\n",
       "      <td>0.000390</td>\n",
       "      <td>-6.826030e-05</td>\n",
       "      <td>-440.649658</td>\n",
       "    </tr>\n",
       "  </tbody>\n",
       "</table>\n",
       "</div>"
      ],
      "text/plain": [
       "   fit_time  score_time       test_r2  test_neg_mean_squared_error\n",
       "0  0.002666    0.000499 -6.680369e-07                  -429.113603\n",
       "1  0.002886    0.000495 -2.917894e-06                  -436.540854\n",
       "2  0.002815    0.000469 -9.692621e-05                  -450.632990\n",
       "3  0.002266    0.000437 -3.116473e-04                  -424.468212\n",
       "4  0.001899    0.000390 -6.826030e-05                  -440.649658"
      ]
     },
     "execution_count": 31,
     "metadata": {},
     "output_type": "execute_result"
    }
   ],
   "source": [
    "dummy = DummyRegressor(strategy=\"mean\")\n",
    "result_dummy = cross_validate(\n",
    "    dummy, X_train, y_train, cv=5, scoring=[\"r2\", \"neg_mean_squared_error\"], n_jobs=2\n",
    ")\n",
    "results= pd.DataFrame(result_dummy)\n",
    "results.head()\n"
   ]
  },
  {
   "cell_type": "code",
   "execution_count": 32,
   "id": "54190208",
   "metadata": {},
   "outputs": [
    {
     "name": "stdout",
     "output_type": "stream",
     "text": [
      "-9.60839520705914e-05\n",
      "-436.28106359790144\n"
     ]
    }
   ],
   "source": [
    "print(results.test_r2.mean())\n",
    "print(results.test_neg_mean_squared_error.mean())"
   ]
  },
  {
   "cell_type": "code",
   "execution_count": 33,
   "id": "b49bfe05",
   "metadata": {},
   "outputs": [
    {
     "data": {
      "text/html": [
       "<style>#sk-15789a50-40b7-4ebf-aee8-62ac4168d096 {color: black;background-color: white;}#sk-15789a50-40b7-4ebf-aee8-62ac4168d096 pre{padding: 0;}#sk-15789a50-40b7-4ebf-aee8-62ac4168d096 div.sk-toggleable {background-color: white;}#sk-15789a50-40b7-4ebf-aee8-62ac4168d096 label.sk-toggleable__label {cursor: pointer;display: block;width: 100%;margin-bottom: 0;padding: 0.3em;box-sizing: border-box;text-align: center;}#sk-15789a50-40b7-4ebf-aee8-62ac4168d096 label.sk-toggleable__label-arrow:before {content: \"▸\";float: left;margin-right: 0.25em;color: #696969;}#sk-15789a50-40b7-4ebf-aee8-62ac4168d096 label.sk-toggleable__label-arrow:hover:before {color: black;}#sk-15789a50-40b7-4ebf-aee8-62ac4168d096 div.sk-estimator:hover label.sk-toggleable__label-arrow:before {color: black;}#sk-15789a50-40b7-4ebf-aee8-62ac4168d096 div.sk-toggleable__content {max-height: 0;max-width: 0;overflow: hidden;text-align: left;background-color: #f0f8ff;}#sk-15789a50-40b7-4ebf-aee8-62ac4168d096 div.sk-toggleable__content pre {margin: 0.2em;color: black;border-radius: 0.25em;background-color: #f0f8ff;}#sk-15789a50-40b7-4ebf-aee8-62ac4168d096 input.sk-toggleable__control:checked~div.sk-toggleable__content {max-height: 200px;max-width: 100%;overflow: auto;}#sk-15789a50-40b7-4ebf-aee8-62ac4168d096 input.sk-toggleable__control:checked~label.sk-toggleable__label-arrow:before {content: \"▾\";}#sk-15789a50-40b7-4ebf-aee8-62ac4168d096 div.sk-estimator input.sk-toggleable__control:checked~label.sk-toggleable__label {background-color: #d4ebff;}#sk-15789a50-40b7-4ebf-aee8-62ac4168d096 div.sk-label input.sk-toggleable__control:checked~label.sk-toggleable__label {background-color: #d4ebff;}#sk-15789a50-40b7-4ebf-aee8-62ac4168d096 input.sk-hidden--visually {border: 0;clip: rect(1px 1px 1px 1px);clip: rect(1px, 1px, 1px, 1px);height: 1px;margin: -1px;overflow: hidden;padding: 0;position: absolute;width: 1px;}#sk-15789a50-40b7-4ebf-aee8-62ac4168d096 div.sk-estimator {font-family: monospace;background-color: #f0f8ff;border: 1px dotted black;border-radius: 0.25em;box-sizing: border-box;margin-bottom: 0.5em;}#sk-15789a50-40b7-4ebf-aee8-62ac4168d096 div.sk-estimator:hover {background-color: #d4ebff;}#sk-15789a50-40b7-4ebf-aee8-62ac4168d096 div.sk-parallel-item::after {content: \"\";width: 100%;border-bottom: 1px solid gray;flex-grow: 1;}#sk-15789a50-40b7-4ebf-aee8-62ac4168d096 div.sk-label:hover label.sk-toggleable__label {background-color: #d4ebff;}#sk-15789a50-40b7-4ebf-aee8-62ac4168d096 div.sk-serial::before {content: \"\";position: absolute;border-left: 1px solid gray;box-sizing: border-box;top: 2em;bottom: 0;left: 50%;}#sk-15789a50-40b7-4ebf-aee8-62ac4168d096 div.sk-serial {display: flex;flex-direction: column;align-items: center;background-color: white;padding-right: 0.2em;padding-left: 0.2em;}#sk-15789a50-40b7-4ebf-aee8-62ac4168d096 div.sk-item {z-index: 1;}#sk-15789a50-40b7-4ebf-aee8-62ac4168d096 div.sk-parallel {display: flex;align-items: stretch;justify-content: center;background-color: white;}#sk-15789a50-40b7-4ebf-aee8-62ac4168d096 div.sk-parallel::before {content: \"\";position: absolute;border-left: 1px solid gray;box-sizing: border-box;top: 2em;bottom: 0;left: 50%;}#sk-15789a50-40b7-4ebf-aee8-62ac4168d096 div.sk-parallel-item {display: flex;flex-direction: column;position: relative;background-color: white;}#sk-15789a50-40b7-4ebf-aee8-62ac4168d096 div.sk-parallel-item:first-child::after {align-self: flex-end;width: 50%;}#sk-15789a50-40b7-4ebf-aee8-62ac4168d096 div.sk-parallel-item:last-child::after {align-self: flex-start;width: 50%;}#sk-15789a50-40b7-4ebf-aee8-62ac4168d096 div.sk-parallel-item:only-child::after {width: 0;}#sk-15789a50-40b7-4ebf-aee8-62ac4168d096 div.sk-dashed-wrapped {border: 1px dashed gray;margin: 0 0.4em 0.5em 0.4em;box-sizing: border-box;padding-bottom: 0.4em;background-color: white;position: relative;}#sk-15789a50-40b7-4ebf-aee8-62ac4168d096 div.sk-label label {font-family: monospace;font-weight: bold;background-color: white;display: inline-block;line-height: 1.2em;}#sk-15789a50-40b7-4ebf-aee8-62ac4168d096 div.sk-label-container {position: relative;z-index: 2;text-align: center;}#sk-15789a50-40b7-4ebf-aee8-62ac4168d096 div.sk-container {/* jupyter's `normalize.less` sets `[hidden] { display: none; }` but bootstrap.min.css set `[hidden] { display: none !important; }` so we also need the `!important` here to be able to override the default hidden behavior on the sphinx rendered scikit-learn.org. See: https://github.com/scikit-learn/scikit-learn/issues/21755 */display: inline-block !important;position: relative;}#sk-15789a50-40b7-4ebf-aee8-62ac4168d096 div.sk-text-repr-fallback {display: none;}</style><div id=\"sk-15789a50-40b7-4ebf-aee8-62ac4168d096\" class=\"sk-top-container\"><div class=\"sk-text-repr-fallback\"><pre>Pipeline(steps=[(&#x27;preproc&#x27;,\n",
       "                 ColumnTransformer(transformers=[(&#x27;ohe&#x27;, OneHotEncoder(),\n",
       "                                                  &lt;sklearn.compose._column_transformer.make_column_selector object at 0x17c4a5100&gt;)])),\n",
       "                (&#x27;lr&#x27;, LinearRegression())])</pre><b>Please rerun this cell to show the HTML repr or trust the notebook.</b></div><div class=\"sk-container\" hidden><div class=\"sk-item sk-dashed-wrapped\"><div class=\"sk-label-container\"><div class=\"sk-label sk-toggleable\"><input class=\"sk-toggleable__control sk-hidden--visually\" id=\"125be9b7-bac4-4dd4-a888-819b0bb23f2b\" type=\"checkbox\" ><label for=\"125be9b7-bac4-4dd4-a888-819b0bb23f2b\" class=\"sk-toggleable__label sk-toggleable__label-arrow\">Pipeline</label><div class=\"sk-toggleable__content\"><pre>Pipeline(steps=[(&#x27;preproc&#x27;,\n",
       "                 ColumnTransformer(transformers=[(&#x27;ohe&#x27;, OneHotEncoder(),\n",
       "                                                  &lt;sklearn.compose._column_transformer.make_column_selector object at 0x17c4a5100&gt;)])),\n",
       "                (&#x27;lr&#x27;, LinearRegression())])</pre></div></div></div><div class=\"sk-serial\"><div class=\"sk-item sk-dashed-wrapped\"><div class=\"sk-label-container\"><div class=\"sk-label sk-toggleable\"><input class=\"sk-toggleable__control sk-hidden--visually\" id=\"99f1a3a2-86d7-45f8-ac9a-5d2405cf92de\" type=\"checkbox\" ><label for=\"99f1a3a2-86d7-45f8-ac9a-5d2405cf92de\" class=\"sk-toggleable__label sk-toggleable__label-arrow\">preproc: ColumnTransformer</label><div class=\"sk-toggleable__content\"><pre>ColumnTransformer(transformers=[(&#x27;ohe&#x27;, OneHotEncoder(),\n",
       "                                 &lt;sklearn.compose._column_transformer.make_column_selector object at 0x17c4a5100&gt;)])</pre></div></div></div><div class=\"sk-parallel\"><div class=\"sk-parallel-item\"><div class=\"sk-item\"><div class=\"sk-label-container\"><div class=\"sk-label sk-toggleable\"><input class=\"sk-toggleable__control sk-hidden--visually\" id=\"fcee5cca-8bf3-436a-81f6-9c6a00fca31e\" type=\"checkbox\" ><label for=\"fcee5cca-8bf3-436a-81f6-9c6a00fca31e\" class=\"sk-toggleable__label sk-toggleable__label-arrow\">ohe</label><div class=\"sk-toggleable__content\"><pre>&lt;sklearn.compose._column_transformer.make_column_selector object at 0x17c4a5100&gt;</pre></div></div></div><div class=\"sk-serial\"><div class=\"sk-item\"><div class=\"sk-estimator sk-toggleable\"><input class=\"sk-toggleable__control sk-hidden--visually\" id=\"8d8eae67-ab32-495b-8def-d0735c35eaf2\" type=\"checkbox\" ><label for=\"8d8eae67-ab32-495b-8def-d0735c35eaf2\" class=\"sk-toggleable__label sk-toggleable__label-arrow\">OneHotEncoder</label><div class=\"sk-toggleable__content\"><pre>OneHotEncoder()</pre></div></div></div></div></div></div></div></div><div class=\"sk-item\"><div class=\"sk-estimator sk-toggleable\"><input class=\"sk-toggleable__control sk-hidden--visually\" id=\"5f8c7d77-4d3f-46ec-9c8c-fc90bf23007d\" type=\"checkbox\" ><label for=\"5f8c7d77-4d3f-46ec-9c8c-fc90bf23007d\" class=\"sk-toggleable__label sk-toggleable__label-arrow\">LinearRegression</label><div class=\"sk-toggleable__content\"><pre>LinearRegression()</pre></div></div></div></div></div></div></div>"
      ],
      "text/plain": [
       "Pipeline(steps=[('preproc',\n",
       "                 ColumnTransformer(transformers=[('ohe', OneHotEncoder(),\n",
       "                                                  <sklearn.compose._column_transformer.make_column_selector object at 0x17c4a5100>)])),\n",
       "                ('lr', LinearRegression())])"
      ]
     },
     "execution_count": 33,
     "metadata": {},
     "output_type": "execute_result"
    }
   ],
   "source": [
    "#preproc pipeline\n",
    "preproc= ColumnTransformer([\n",
    "    ('ohe', OneHotEncoder(), make_column_selector(dtype_include=['object','bool'])),\n",
    "    ])\n",
    "\n",
    "#model pipeline\n",
    "pipe= Pipeline([\n",
    "    ('preproc', preproc),\n",
    "    ('lr', LinearRegression())\n",
    "])\n",
    "pipe"
   ]
  },
  {
   "cell_type": "code",
   "execution_count": 34,
   "id": "a539cdd1",
   "metadata": {},
   "outputs": [
    {
     "data": {
      "text/plain": [
       "0.5361716459690211"
      ]
     },
     "execution_count": 34,
     "metadata": {},
     "output_type": "execute_result"
    }
   ],
   "source": [
    "#scoring on train data \n",
    "pipe.fit(X_train, y_train)\n",
    "pipe.score(X_train, y_train)"
   ]
  },
  {
   "cell_type": "code",
   "execution_count": 35,
   "id": "b9b3f858",
   "metadata": {},
   "outputs": [
    {
     "data": {
      "text/html": [
       "<style>#sk-25591f87-8808-4df0-af69-457c90f71090 {color: black;background-color: white;}#sk-25591f87-8808-4df0-af69-457c90f71090 pre{padding: 0;}#sk-25591f87-8808-4df0-af69-457c90f71090 div.sk-toggleable {background-color: white;}#sk-25591f87-8808-4df0-af69-457c90f71090 label.sk-toggleable__label {cursor: pointer;display: block;width: 100%;margin-bottom: 0;padding: 0.3em;box-sizing: border-box;text-align: center;}#sk-25591f87-8808-4df0-af69-457c90f71090 label.sk-toggleable__label-arrow:before {content: \"▸\";float: left;margin-right: 0.25em;color: #696969;}#sk-25591f87-8808-4df0-af69-457c90f71090 label.sk-toggleable__label-arrow:hover:before {color: black;}#sk-25591f87-8808-4df0-af69-457c90f71090 div.sk-estimator:hover label.sk-toggleable__label-arrow:before {color: black;}#sk-25591f87-8808-4df0-af69-457c90f71090 div.sk-toggleable__content {max-height: 0;max-width: 0;overflow: hidden;text-align: left;background-color: #f0f8ff;}#sk-25591f87-8808-4df0-af69-457c90f71090 div.sk-toggleable__content pre {margin: 0.2em;color: black;border-radius: 0.25em;background-color: #f0f8ff;}#sk-25591f87-8808-4df0-af69-457c90f71090 input.sk-toggleable__control:checked~div.sk-toggleable__content {max-height: 200px;max-width: 100%;overflow: auto;}#sk-25591f87-8808-4df0-af69-457c90f71090 input.sk-toggleable__control:checked~label.sk-toggleable__label-arrow:before {content: \"▾\";}#sk-25591f87-8808-4df0-af69-457c90f71090 div.sk-estimator input.sk-toggleable__control:checked~label.sk-toggleable__label {background-color: #d4ebff;}#sk-25591f87-8808-4df0-af69-457c90f71090 div.sk-label input.sk-toggleable__control:checked~label.sk-toggleable__label {background-color: #d4ebff;}#sk-25591f87-8808-4df0-af69-457c90f71090 input.sk-hidden--visually {border: 0;clip: rect(1px 1px 1px 1px);clip: rect(1px, 1px, 1px, 1px);height: 1px;margin: -1px;overflow: hidden;padding: 0;position: absolute;width: 1px;}#sk-25591f87-8808-4df0-af69-457c90f71090 div.sk-estimator {font-family: monospace;background-color: #f0f8ff;border: 1px dotted black;border-radius: 0.25em;box-sizing: border-box;margin-bottom: 0.5em;}#sk-25591f87-8808-4df0-af69-457c90f71090 div.sk-estimator:hover {background-color: #d4ebff;}#sk-25591f87-8808-4df0-af69-457c90f71090 div.sk-parallel-item::after {content: \"\";width: 100%;border-bottom: 1px solid gray;flex-grow: 1;}#sk-25591f87-8808-4df0-af69-457c90f71090 div.sk-label:hover label.sk-toggleable__label {background-color: #d4ebff;}#sk-25591f87-8808-4df0-af69-457c90f71090 div.sk-serial::before {content: \"\";position: absolute;border-left: 1px solid gray;box-sizing: border-box;top: 2em;bottom: 0;left: 50%;}#sk-25591f87-8808-4df0-af69-457c90f71090 div.sk-serial {display: flex;flex-direction: column;align-items: center;background-color: white;padding-right: 0.2em;padding-left: 0.2em;}#sk-25591f87-8808-4df0-af69-457c90f71090 div.sk-item {z-index: 1;}#sk-25591f87-8808-4df0-af69-457c90f71090 div.sk-parallel {display: flex;align-items: stretch;justify-content: center;background-color: white;}#sk-25591f87-8808-4df0-af69-457c90f71090 div.sk-parallel::before {content: \"\";position: absolute;border-left: 1px solid gray;box-sizing: border-box;top: 2em;bottom: 0;left: 50%;}#sk-25591f87-8808-4df0-af69-457c90f71090 div.sk-parallel-item {display: flex;flex-direction: column;position: relative;background-color: white;}#sk-25591f87-8808-4df0-af69-457c90f71090 div.sk-parallel-item:first-child::after {align-self: flex-end;width: 50%;}#sk-25591f87-8808-4df0-af69-457c90f71090 div.sk-parallel-item:last-child::after {align-self: flex-start;width: 50%;}#sk-25591f87-8808-4df0-af69-457c90f71090 div.sk-parallel-item:only-child::after {width: 0;}#sk-25591f87-8808-4df0-af69-457c90f71090 div.sk-dashed-wrapped {border: 1px dashed gray;margin: 0 0.4em 0.5em 0.4em;box-sizing: border-box;padding-bottom: 0.4em;background-color: white;position: relative;}#sk-25591f87-8808-4df0-af69-457c90f71090 div.sk-label label {font-family: monospace;font-weight: bold;background-color: white;display: inline-block;line-height: 1.2em;}#sk-25591f87-8808-4df0-af69-457c90f71090 div.sk-label-container {position: relative;z-index: 2;text-align: center;}#sk-25591f87-8808-4df0-af69-457c90f71090 div.sk-container {/* jupyter's `normalize.less` sets `[hidden] { display: none; }` but bootstrap.min.css set `[hidden] { display: none !important; }` so we also need the `!important` here to be able to override the default hidden behavior on the sphinx rendered scikit-learn.org. See: https://github.com/scikit-learn/scikit-learn/issues/21755 */display: inline-block !important;position: relative;}#sk-25591f87-8808-4df0-af69-457c90f71090 div.sk-text-repr-fallback {display: none;}</style><div id=\"sk-25591f87-8808-4df0-af69-457c90f71090\" class=\"sk-top-container\"><div class=\"sk-text-repr-fallback\"><pre>Pipeline(steps=[(&#x27;preproc&#x27;,\n",
       "                 ColumnTransformer(transformers=[(&#x27;ohe&#x27;, OneHotEncoder(),\n",
       "                                                  &lt;sklearn.compose._column_transformer.make_column_selector object at 0x17c4a5100&gt;)])),\n",
       "                (&#x27;xgb&#x27;,\n",
       "                 XGBRegressor(base_score=None, booster=None,\n",
       "                              colsample_bylevel=None, colsample_bynode=None,\n",
       "                              colsample_bytree=None, enable_categorical=False,\n",
       "                              gamma=None, gpu_id=None, importance_type=None,\n",
       "                              i...ction_constraints=None, learning_rate=None,\n",
       "                              max_delta_step=None, max_depth=None,\n",
       "                              min_child_weight=None, missing=nan,\n",
       "                              monotone_constraints=None, n_estimators=100,\n",
       "                              n_jobs=None, num_parallel_tree=None,\n",
       "                              predictor=None, random_state=None, reg_alpha=None,\n",
       "                              reg_lambda=None, scale_pos_weight=None,\n",
       "                              subsample=None, tree_method=None,\n",
       "                              validate_parameters=None, verbosity=None))])</pre><b>Please rerun this cell to show the HTML repr or trust the notebook.</b></div><div class=\"sk-container\" hidden><div class=\"sk-item sk-dashed-wrapped\"><div class=\"sk-label-container\"><div class=\"sk-label sk-toggleable\"><input class=\"sk-toggleable__control sk-hidden--visually\" id=\"db0bb918-c956-4221-8850-a9f540e65980\" type=\"checkbox\" ><label for=\"db0bb918-c956-4221-8850-a9f540e65980\" class=\"sk-toggleable__label sk-toggleable__label-arrow\">Pipeline</label><div class=\"sk-toggleable__content\"><pre>Pipeline(steps=[(&#x27;preproc&#x27;,\n",
       "                 ColumnTransformer(transformers=[(&#x27;ohe&#x27;, OneHotEncoder(),\n",
       "                                                  &lt;sklearn.compose._column_transformer.make_column_selector object at 0x17c4a5100&gt;)])),\n",
       "                (&#x27;xgb&#x27;,\n",
       "                 XGBRegressor(base_score=None, booster=None,\n",
       "                              colsample_bylevel=None, colsample_bynode=None,\n",
       "                              colsample_bytree=None, enable_categorical=False,\n",
       "                              gamma=None, gpu_id=None, importance_type=None,\n",
       "                              i...ction_constraints=None, learning_rate=None,\n",
       "                              max_delta_step=None, max_depth=None,\n",
       "                              min_child_weight=None, missing=nan,\n",
       "                              monotone_constraints=None, n_estimators=100,\n",
       "                              n_jobs=None, num_parallel_tree=None,\n",
       "                              predictor=None, random_state=None, reg_alpha=None,\n",
       "                              reg_lambda=None, scale_pos_weight=None,\n",
       "                              subsample=None, tree_method=None,\n",
       "                              validate_parameters=None, verbosity=None))])</pre></div></div></div><div class=\"sk-serial\"><div class=\"sk-item sk-dashed-wrapped\"><div class=\"sk-label-container\"><div class=\"sk-label sk-toggleable\"><input class=\"sk-toggleable__control sk-hidden--visually\" id=\"8a20552b-8381-4655-bb67-215248361391\" type=\"checkbox\" ><label for=\"8a20552b-8381-4655-bb67-215248361391\" class=\"sk-toggleable__label sk-toggleable__label-arrow\">preproc: ColumnTransformer</label><div class=\"sk-toggleable__content\"><pre>ColumnTransformer(transformers=[(&#x27;ohe&#x27;, OneHotEncoder(),\n",
       "                                 &lt;sklearn.compose._column_transformer.make_column_selector object at 0x17c4a5100&gt;)])</pre></div></div></div><div class=\"sk-parallel\"><div class=\"sk-parallel-item\"><div class=\"sk-item\"><div class=\"sk-label-container\"><div class=\"sk-label sk-toggleable\"><input class=\"sk-toggleable__control sk-hidden--visually\" id=\"f8db323e-11b6-4577-b842-dd66a397cfa1\" type=\"checkbox\" ><label for=\"f8db323e-11b6-4577-b842-dd66a397cfa1\" class=\"sk-toggleable__label sk-toggleable__label-arrow\">ohe</label><div class=\"sk-toggleable__content\"><pre>&lt;sklearn.compose._column_transformer.make_column_selector object at 0x17c4a5100&gt;</pre></div></div></div><div class=\"sk-serial\"><div class=\"sk-item\"><div class=\"sk-estimator sk-toggleable\"><input class=\"sk-toggleable__control sk-hidden--visually\" id=\"17c96ac0-a6c9-43e6-a0c5-27a7ff2d4451\" type=\"checkbox\" ><label for=\"17c96ac0-a6c9-43e6-a0c5-27a7ff2d4451\" class=\"sk-toggleable__label sk-toggleable__label-arrow\">OneHotEncoder</label><div class=\"sk-toggleable__content\"><pre>OneHotEncoder()</pre></div></div></div></div></div></div></div></div><div class=\"sk-item\"><div class=\"sk-estimator sk-toggleable\"><input class=\"sk-toggleable__control sk-hidden--visually\" id=\"c128d530-6337-4bef-b6a1-f5333b7e1f0c\" type=\"checkbox\" ><label for=\"c128d530-6337-4bef-b6a1-f5333b7e1f0c\" class=\"sk-toggleable__label sk-toggleable__label-arrow\">XGBRegressor</label><div class=\"sk-toggleable__content\"><pre>XGBRegressor(base_score=None, booster=None, colsample_bylevel=None,\n",
       "             colsample_bynode=None, colsample_bytree=None,\n",
       "             enable_categorical=False, gamma=None, gpu_id=None,\n",
       "             importance_type=None, interaction_constraints=None,\n",
       "             learning_rate=None, max_delta_step=None, max_depth=None,\n",
       "             min_child_weight=None, missing=nan, monotone_constraints=None,\n",
       "             n_estimators=100, n_jobs=None, num_parallel_tree=None,\n",
       "             predictor=None, random_state=None, reg_alpha=None, reg_lambda=None,\n",
       "             scale_pos_weight=None, subsample=None, tree_method=None,\n",
       "             validate_parameters=None, verbosity=None)</pre></div></div></div></div></div></div></div>"
      ],
      "text/plain": [
       "Pipeline(steps=[('preproc',\n",
       "                 ColumnTransformer(transformers=[('ohe', OneHotEncoder(),\n",
       "                                                  <sklearn.compose._column_transformer.make_column_selector object at 0x17c4a5100>)])),\n",
       "                ('xgb',\n",
       "                 XGBRegressor(base_score=None, booster=None,\n",
       "                              colsample_bylevel=None, colsample_bynode=None,\n",
       "                              colsample_bytree=None, enable_categorical=False,\n",
       "                              gamma=None, gpu_id=None, importance_type=None,\n",
       "                              i...ction_constraints=None, learning_rate=None,\n",
       "                              max_delta_step=None, max_depth=None,\n",
       "                              min_child_weight=None, missing=nan,\n",
       "                              monotone_constraints=None, n_estimators=100,\n",
       "                              n_jobs=None, num_parallel_tree=None,\n",
       "                              predictor=None, random_state=None, reg_alpha=None,\n",
       "                              reg_lambda=None, scale_pos_weight=None,\n",
       "                              subsample=None, tree_method=None,\n",
       "                              validate_parameters=None, verbosity=None))])"
      ]
     },
     "execution_count": 35,
     "metadata": {},
     "output_type": "execute_result"
    }
   ],
   "source": [
    "# XGboost\n",
    "#model pipeline\n",
    "pipe_xgb= Pipeline([\n",
    "    ('preproc', preproc),\n",
    "    ('xgb', XGBRegressor())\n",
    "])\n",
    "pipe_xgb"
   ]
  },
  {
   "cell_type": "code",
   "execution_count": 36,
   "id": "578ad052",
   "metadata": {},
   "outputs": [
    {
     "data": {
      "text/plain": [
       "0.6561893790162324"
      ]
     },
     "execution_count": 36,
     "metadata": {},
     "output_type": "execute_result"
    }
   ],
   "source": [
    "pipe_xgb.fit(X_train, y_train)\n",
    "pipe_xgb.score(X_train, y_train)"
   ]
  },
  {
   "cell_type": "code",
   "execution_count": 37,
   "id": "c9ff63d5",
   "metadata": {
    "scrolled": true
   },
   "outputs": [
    {
     "data": {
      "text/html": [
       "<style>#sk-fe6e6a37-e62d-432b-a0a6-591c76c050be {color: black;background-color: white;}#sk-fe6e6a37-e62d-432b-a0a6-591c76c050be pre{padding: 0;}#sk-fe6e6a37-e62d-432b-a0a6-591c76c050be div.sk-toggleable {background-color: white;}#sk-fe6e6a37-e62d-432b-a0a6-591c76c050be label.sk-toggleable__label {cursor: pointer;display: block;width: 100%;margin-bottom: 0;padding: 0.3em;box-sizing: border-box;text-align: center;}#sk-fe6e6a37-e62d-432b-a0a6-591c76c050be label.sk-toggleable__label-arrow:before {content: \"▸\";float: left;margin-right: 0.25em;color: #696969;}#sk-fe6e6a37-e62d-432b-a0a6-591c76c050be label.sk-toggleable__label-arrow:hover:before {color: black;}#sk-fe6e6a37-e62d-432b-a0a6-591c76c050be div.sk-estimator:hover label.sk-toggleable__label-arrow:before {color: black;}#sk-fe6e6a37-e62d-432b-a0a6-591c76c050be div.sk-toggleable__content {max-height: 0;max-width: 0;overflow: hidden;text-align: left;background-color: #f0f8ff;}#sk-fe6e6a37-e62d-432b-a0a6-591c76c050be div.sk-toggleable__content pre {margin: 0.2em;color: black;border-radius: 0.25em;background-color: #f0f8ff;}#sk-fe6e6a37-e62d-432b-a0a6-591c76c050be input.sk-toggleable__control:checked~div.sk-toggleable__content {max-height: 200px;max-width: 100%;overflow: auto;}#sk-fe6e6a37-e62d-432b-a0a6-591c76c050be input.sk-toggleable__control:checked~label.sk-toggleable__label-arrow:before {content: \"▾\";}#sk-fe6e6a37-e62d-432b-a0a6-591c76c050be div.sk-estimator input.sk-toggleable__control:checked~label.sk-toggleable__label {background-color: #d4ebff;}#sk-fe6e6a37-e62d-432b-a0a6-591c76c050be div.sk-label input.sk-toggleable__control:checked~label.sk-toggleable__label {background-color: #d4ebff;}#sk-fe6e6a37-e62d-432b-a0a6-591c76c050be input.sk-hidden--visually {border: 0;clip: rect(1px 1px 1px 1px);clip: rect(1px, 1px, 1px, 1px);height: 1px;margin: -1px;overflow: hidden;padding: 0;position: absolute;width: 1px;}#sk-fe6e6a37-e62d-432b-a0a6-591c76c050be div.sk-estimator {font-family: monospace;background-color: #f0f8ff;border: 1px dotted black;border-radius: 0.25em;box-sizing: border-box;margin-bottom: 0.5em;}#sk-fe6e6a37-e62d-432b-a0a6-591c76c050be div.sk-estimator:hover {background-color: #d4ebff;}#sk-fe6e6a37-e62d-432b-a0a6-591c76c050be div.sk-parallel-item::after {content: \"\";width: 100%;border-bottom: 1px solid gray;flex-grow: 1;}#sk-fe6e6a37-e62d-432b-a0a6-591c76c050be div.sk-label:hover label.sk-toggleable__label {background-color: #d4ebff;}#sk-fe6e6a37-e62d-432b-a0a6-591c76c050be div.sk-serial::before {content: \"\";position: absolute;border-left: 1px solid gray;box-sizing: border-box;top: 2em;bottom: 0;left: 50%;}#sk-fe6e6a37-e62d-432b-a0a6-591c76c050be div.sk-serial {display: flex;flex-direction: column;align-items: center;background-color: white;padding-right: 0.2em;padding-left: 0.2em;}#sk-fe6e6a37-e62d-432b-a0a6-591c76c050be div.sk-item {z-index: 1;}#sk-fe6e6a37-e62d-432b-a0a6-591c76c050be div.sk-parallel {display: flex;align-items: stretch;justify-content: center;background-color: white;}#sk-fe6e6a37-e62d-432b-a0a6-591c76c050be div.sk-parallel::before {content: \"\";position: absolute;border-left: 1px solid gray;box-sizing: border-box;top: 2em;bottom: 0;left: 50%;}#sk-fe6e6a37-e62d-432b-a0a6-591c76c050be div.sk-parallel-item {display: flex;flex-direction: column;position: relative;background-color: white;}#sk-fe6e6a37-e62d-432b-a0a6-591c76c050be div.sk-parallel-item:first-child::after {align-self: flex-end;width: 50%;}#sk-fe6e6a37-e62d-432b-a0a6-591c76c050be div.sk-parallel-item:last-child::after {align-self: flex-start;width: 50%;}#sk-fe6e6a37-e62d-432b-a0a6-591c76c050be div.sk-parallel-item:only-child::after {width: 0;}#sk-fe6e6a37-e62d-432b-a0a6-591c76c050be div.sk-dashed-wrapped {border: 1px dashed gray;margin: 0 0.4em 0.5em 0.4em;box-sizing: border-box;padding-bottom: 0.4em;background-color: white;position: relative;}#sk-fe6e6a37-e62d-432b-a0a6-591c76c050be div.sk-label label {font-family: monospace;font-weight: bold;background-color: white;display: inline-block;line-height: 1.2em;}#sk-fe6e6a37-e62d-432b-a0a6-591c76c050be div.sk-label-container {position: relative;z-index: 2;text-align: center;}#sk-fe6e6a37-e62d-432b-a0a6-591c76c050be div.sk-container {/* jupyter's `normalize.less` sets `[hidden] { display: none; }` but bootstrap.min.css set `[hidden] { display: none !important; }` so we also need the `!important` here to be able to override the default hidden behavior on the sphinx rendered scikit-learn.org. See: https://github.com/scikit-learn/scikit-learn/issues/21755 */display: inline-block !important;position: relative;}#sk-fe6e6a37-e62d-432b-a0a6-591c76c050be div.sk-text-repr-fallback {display: none;}</style><div id=\"sk-fe6e6a37-e62d-432b-a0a6-591c76c050be\" class=\"sk-top-container\"><div class=\"sk-text-repr-fallback\"><pre>Pipeline(steps=[(&#x27;preproc&#x27;,\n",
       "                 ColumnTransformer(transformers=[(&#x27;ohe&#x27;, OneHotEncoder(),\n",
       "                                                  &lt;sklearn.compose._column_transformer.make_column_selector object at 0x17c4a5100&gt;)])),\n",
       "                (&#x27;rfr&#x27;, RandomForestRegressor())])</pre><b>Please rerun this cell to show the HTML repr or trust the notebook.</b></div><div class=\"sk-container\" hidden><div class=\"sk-item sk-dashed-wrapped\"><div class=\"sk-label-container\"><div class=\"sk-label sk-toggleable\"><input class=\"sk-toggleable__control sk-hidden--visually\" id=\"b9c4a46e-67b2-4d7a-9c59-4409441c397b\" type=\"checkbox\" ><label for=\"b9c4a46e-67b2-4d7a-9c59-4409441c397b\" class=\"sk-toggleable__label sk-toggleable__label-arrow\">Pipeline</label><div class=\"sk-toggleable__content\"><pre>Pipeline(steps=[(&#x27;preproc&#x27;,\n",
       "                 ColumnTransformer(transformers=[(&#x27;ohe&#x27;, OneHotEncoder(),\n",
       "                                                  &lt;sklearn.compose._column_transformer.make_column_selector object at 0x17c4a5100&gt;)])),\n",
       "                (&#x27;rfr&#x27;, RandomForestRegressor())])</pre></div></div></div><div class=\"sk-serial\"><div class=\"sk-item sk-dashed-wrapped\"><div class=\"sk-label-container\"><div class=\"sk-label sk-toggleable\"><input class=\"sk-toggleable__control sk-hidden--visually\" id=\"9d7204ab-c0da-4342-bfdc-3635ffc8efc9\" type=\"checkbox\" ><label for=\"9d7204ab-c0da-4342-bfdc-3635ffc8efc9\" class=\"sk-toggleable__label sk-toggleable__label-arrow\">preproc: ColumnTransformer</label><div class=\"sk-toggleable__content\"><pre>ColumnTransformer(transformers=[(&#x27;ohe&#x27;, OneHotEncoder(),\n",
       "                                 &lt;sklearn.compose._column_transformer.make_column_selector object at 0x17c4a5100&gt;)])</pre></div></div></div><div class=\"sk-parallel\"><div class=\"sk-parallel-item\"><div class=\"sk-item\"><div class=\"sk-label-container\"><div class=\"sk-label sk-toggleable\"><input class=\"sk-toggleable__control sk-hidden--visually\" id=\"1fae301f-78f2-4e94-a048-5256e338e3d1\" type=\"checkbox\" ><label for=\"1fae301f-78f2-4e94-a048-5256e338e3d1\" class=\"sk-toggleable__label sk-toggleable__label-arrow\">ohe</label><div class=\"sk-toggleable__content\"><pre>&lt;sklearn.compose._column_transformer.make_column_selector object at 0x17c4a5100&gt;</pre></div></div></div><div class=\"sk-serial\"><div class=\"sk-item\"><div class=\"sk-estimator sk-toggleable\"><input class=\"sk-toggleable__control sk-hidden--visually\" id=\"7ee25376-24cf-4736-a6ae-73d09bd7a6b2\" type=\"checkbox\" ><label for=\"7ee25376-24cf-4736-a6ae-73d09bd7a6b2\" class=\"sk-toggleable__label sk-toggleable__label-arrow\">OneHotEncoder</label><div class=\"sk-toggleable__content\"><pre>OneHotEncoder()</pre></div></div></div></div></div></div></div></div><div class=\"sk-item\"><div class=\"sk-estimator sk-toggleable\"><input class=\"sk-toggleable__control sk-hidden--visually\" id=\"6f29b4d1-281d-4c11-9b13-446c5e9016ec\" type=\"checkbox\" ><label for=\"6f29b4d1-281d-4c11-9b13-446c5e9016ec\" class=\"sk-toggleable__label sk-toggleable__label-arrow\">RandomForestRegressor</label><div class=\"sk-toggleable__content\"><pre>RandomForestRegressor()</pre></div></div></div></div></div></div></div>"
      ],
      "text/plain": [
       "Pipeline(steps=[('preproc',\n",
       "                 ColumnTransformer(transformers=[('ohe', OneHotEncoder(),\n",
       "                                                  <sklearn.compose._column_transformer.make_column_selector object at 0x17c4a5100>)])),\n",
       "                ('rfr', RandomForestRegressor())])"
      ]
     },
     "execution_count": 37,
     "metadata": {},
     "output_type": "execute_result"
    }
   ],
   "source": [
    "# Random Forest Regressor\n",
    "#model pipeline\n",
    "pipe_rfr= Pipeline([\n",
    "    ('preproc', preproc),\n",
    "    ('rfr', RandomForestRegressor())\n",
    "])\n",
    "pipe_rfr"
   ]
  },
  {
   "cell_type": "code",
   "execution_count": 38,
   "id": "ec5d69b5",
   "metadata": {},
   "outputs": [
    {
     "data": {
      "text/plain": [
       "0.6575137826351484"
      ]
     },
     "execution_count": 38,
     "metadata": {},
     "output_type": "execute_result"
    }
   ],
   "source": [
    "pipe_rfr.fit(X_train, y_train)\n",
    "pipe_rfr.score(X_train, y_train)"
   ]
  },
  {
   "cell_type": "code",
   "execution_count": 39,
   "id": "3e3ac1da",
   "metadata": {},
   "outputs": [],
   "source": [
    "lr= LinearRegression()\n",
    "rf= RandomForestRegressor()\n",
    "sgd= SGDRegressor()\n",
    "ensemble = VotingRegressor(estimators=[('lr', lr),\n",
    "                            ('rf', rf),\n",
    "                            ('sgd',sgd)], \n",
    "                         weights=[1,1,1])"
   ]
  },
  {
   "cell_type": "code",
   "execution_count": 40,
   "id": "633f173c",
   "metadata": {},
   "outputs": [
    {
     "data": {
      "text/html": [
       "<style>#sk-dcaabe46-27bd-42d6-863a-2c310644c14d {color: black;background-color: white;}#sk-dcaabe46-27bd-42d6-863a-2c310644c14d pre{padding: 0;}#sk-dcaabe46-27bd-42d6-863a-2c310644c14d div.sk-toggleable {background-color: white;}#sk-dcaabe46-27bd-42d6-863a-2c310644c14d label.sk-toggleable__label {cursor: pointer;display: block;width: 100%;margin-bottom: 0;padding: 0.3em;box-sizing: border-box;text-align: center;}#sk-dcaabe46-27bd-42d6-863a-2c310644c14d label.sk-toggleable__label-arrow:before {content: \"▸\";float: left;margin-right: 0.25em;color: #696969;}#sk-dcaabe46-27bd-42d6-863a-2c310644c14d label.sk-toggleable__label-arrow:hover:before {color: black;}#sk-dcaabe46-27bd-42d6-863a-2c310644c14d div.sk-estimator:hover label.sk-toggleable__label-arrow:before {color: black;}#sk-dcaabe46-27bd-42d6-863a-2c310644c14d div.sk-toggleable__content {max-height: 0;max-width: 0;overflow: hidden;text-align: left;background-color: #f0f8ff;}#sk-dcaabe46-27bd-42d6-863a-2c310644c14d div.sk-toggleable__content pre {margin: 0.2em;color: black;border-radius: 0.25em;background-color: #f0f8ff;}#sk-dcaabe46-27bd-42d6-863a-2c310644c14d input.sk-toggleable__control:checked~div.sk-toggleable__content {max-height: 200px;max-width: 100%;overflow: auto;}#sk-dcaabe46-27bd-42d6-863a-2c310644c14d input.sk-toggleable__control:checked~label.sk-toggleable__label-arrow:before {content: \"▾\";}#sk-dcaabe46-27bd-42d6-863a-2c310644c14d div.sk-estimator input.sk-toggleable__control:checked~label.sk-toggleable__label {background-color: #d4ebff;}#sk-dcaabe46-27bd-42d6-863a-2c310644c14d div.sk-label input.sk-toggleable__control:checked~label.sk-toggleable__label {background-color: #d4ebff;}#sk-dcaabe46-27bd-42d6-863a-2c310644c14d input.sk-hidden--visually {border: 0;clip: rect(1px 1px 1px 1px);clip: rect(1px, 1px, 1px, 1px);height: 1px;margin: -1px;overflow: hidden;padding: 0;position: absolute;width: 1px;}#sk-dcaabe46-27bd-42d6-863a-2c310644c14d div.sk-estimator {font-family: monospace;background-color: #f0f8ff;border: 1px dotted black;border-radius: 0.25em;box-sizing: border-box;margin-bottom: 0.5em;}#sk-dcaabe46-27bd-42d6-863a-2c310644c14d div.sk-estimator:hover {background-color: #d4ebff;}#sk-dcaabe46-27bd-42d6-863a-2c310644c14d div.sk-parallel-item::after {content: \"\";width: 100%;border-bottom: 1px solid gray;flex-grow: 1;}#sk-dcaabe46-27bd-42d6-863a-2c310644c14d div.sk-label:hover label.sk-toggleable__label {background-color: #d4ebff;}#sk-dcaabe46-27bd-42d6-863a-2c310644c14d div.sk-serial::before {content: \"\";position: absolute;border-left: 1px solid gray;box-sizing: border-box;top: 2em;bottom: 0;left: 50%;}#sk-dcaabe46-27bd-42d6-863a-2c310644c14d div.sk-serial {display: flex;flex-direction: column;align-items: center;background-color: white;padding-right: 0.2em;padding-left: 0.2em;}#sk-dcaabe46-27bd-42d6-863a-2c310644c14d div.sk-item {z-index: 1;}#sk-dcaabe46-27bd-42d6-863a-2c310644c14d div.sk-parallel {display: flex;align-items: stretch;justify-content: center;background-color: white;}#sk-dcaabe46-27bd-42d6-863a-2c310644c14d div.sk-parallel::before {content: \"\";position: absolute;border-left: 1px solid gray;box-sizing: border-box;top: 2em;bottom: 0;left: 50%;}#sk-dcaabe46-27bd-42d6-863a-2c310644c14d div.sk-parallel-item {display: flex;flex-direction: column;position: relative;background-color: white;}#sk-dcaabe46-27bd-42d6-863a-2c310644c14d div.sk-parallel-item:first-child::after {align-self: flex-end;width: 50%;}#sk-dcaabe46-27bd-42d6-863a-2c310644c14d div.sk-parallel-item:last-child::after {align-self: flex-start;width: 50%;}#sk-dcaabe46-27bd-42d6-863a-2c310644c14d div.sk-parallel-item:only-child::after {width: 0;}#sk-dcaabe46-27bd-42d6-863a-2c310644c14d div.sk-dashed-wrapped {border: 1px dashed gray;margin: 0 0.4em 0.5em 0.4em;box-sizing: border-box;padding-bottom: 0.4em;background-color: white;position: relative;}#sk-dcaabe46-27bd-42d6-863a-2c310644c14d div.sk-label label {font-family: monospace;font-weight: bold;background-color: white;display: inline-block;line-height: 1.2em;}#sk-dcaabe46-27bd-42d6-863a-2c310644c14d div.sk-label-container {position: relative;z-index: 2;text-align: center;}#sk-dcaabe46-27bd-42d6-863a-2c310644c14d div.sk-container {/* jupyter's `normalize.less` sets `[hidden] { display: none; }` but bootstrap.min.css set `[hidden] { display: none !important; }` so we also need the `!important` here to be able to override the default hidden behavior on the sphinx rendered scikit-learn.org. See: https://github.com/scikit-learn/scikit-learn/issues/21755 */display: inline-block !important;position: relative;}#sk-dcaabe46-27bd-42d6-863a-2c310644c14d div.sk-text-repr-fallback {display: none;}</style><div id=\"sk-dcaabe46-27bd-42d6-863a-2c310644c14d\" class=\"sk-top-container\"><div class=\"sk-text-repr-fallback\"><pre>VotingRegressor(estimators=[(&#x27;lr&#x27;, LinearRegression()),\n",
       "                            (&#x27;rf&#x27;, RandomForestRegressor()),\n",
       "                            (&#x27;sgd&#x27;, SGDRegressor())],\n",
       "                weights=[1, 1, 1])</pre><b>Please rerun this cell to show the HTML repr or trust the notebook.</b></div><div class=\"sk-container\" hidden><div class=\"sk-item sk-dashed-wrapped\"><div class=\"sk-label-container\"><div class=\"sk-label sk-toggleable\"><input class=\"sk-toggleable__control sk-hidden--visually\" id=\"a780355d-9cef-44b6-8b16-c47afab4083e\" type=\"checkbox\" ><label for=\"a780355d-9cef-44b6-8b16-c47afab4083e\" class=\"sk-toggleable__label sk-toggleable__label-arrow\">VotingRegressor</label><div class=\"sk-toggleable__content\"><pre>VotingRegressor(estimators=[(&#x27;lr&#x27;, LinearRegression()),\n",
       "                            (&#x27;rf&#x27;, RandomForestRegressor()),\n",
       "                            (&#x27;sgd&#x27;, SGDRegressor())],\n",
       "                weights=[1, 1, 1])</pre></div></div></div><div class=\"sk-parallel\"><div class=\"sk-parallel-item\"><div class=\"sk-item\"><div class=\"sk-label-container\"><div class=\"sk-label sk-toggleable\"><label>lr</label></div></div><div class=\"sk-serial\"><div class=\"sk-item\"><div class=\"sk-estimator sk-toggleable\"><input class=\"sk-toggleable__control sk-hidden--visually\" id=\"11fe2a8d-d0a6-4087-a5b4-b908cf049433\" type=\"checkbox\" ><label for=\"11fe2a8d-d0a6-4087-a5b4-b908cf049433\" class=\"sk-toggleable__label sk-toggleable__label-arrow\">LinearRegression</label><div class=\"sk-toggleable__content\"><pre>LinearRegression()</pre></div></div></div></div></div></div><div class=\"sk-parallel-item\"><div class=\"sk-item\"><div class=\"sk-label-container\"><div class=\"sk-label sk-toggleable\"><label>rf</label></div></div><div class=\"sk-serial\"><div class=\"sk-item\"><div class=\"sk-estimator sk-toggleable\"><input class=\"sk-toggleable__control sk-hidden--visually\" id=\"8f0e428b-6703-4f9f-9416-c2e9b070b618\" type=\"checkbox\" ><label for=\"8f0e428b-6703-4f9f-9416-c2e9b070b618\" class=\"sk-toggleable__label sk-toggleable__label-arrow\">RandomForestRegressor</label><div class=\"sk-toggleable__content\"><pre>RandomForestRegressor()</pre></div></div></div></div></div></div><div class=\"sk-parallel-item\"><div class=\"sk-item\"><div class=\"sk-label-container\"><div class=\"sk-label sk-toggleable\"><label>sgd</label></div></div><div class=\"sk-serial\"><div class=\"sk-item\"><div class=\"sk-estimator sk-toggleable\"><input class=\"sk-toggleable__control sk-hidden--visually\" id=\"e606e9c4-3917-4775-8b95-83fb288700dd\" type=\"checkbox\" ><label for=\"e606e9c4-3917-4775-8b95-83fb288700dd\" class=\"sk-toggleable__label sk-toggleable__label-arrow\">SGDRegressor</label><div class=\"sk-toggleable__content\"><pre>SGDRegressor()</pre></div></div></div></div></div></div></div></div></div></div>"
      ],
      "text/plain": [
       "VotingRegressor(estimators=[('lr', LinearRegression()),\n",
       "                            ('rf', RandomForestRegressor()),\n",
       "                            ('sgd', SGDRegressor())],\n",
       "                weights=[1, 1, 1])"
      ]
     },
     "execution_count": 40,
     "metadata": {},
     "output_type": "execute_result"
    }
   ],
   "source": [
    "ensemble"
   ]
  },
  {
   "cell_type": "code",
   "execution_count": 41,
   "id": "52c8904a",
   "metadata": {
    "scrolled": true
   },
   "outputs": [
    {
     "data": {
      "text/html": [
       "<style>#sk-102b937b-27c8-45dd-8074-2544f531e413 {color: black;background-color: white;}#sk-102b937b-27c8-45dd-8074-2544f531e413 pre{padding: 0;}#sk-102b937b-27c8-45dd-8074-2544f531e413 div.sk-toggleable {background-color: white;}#sk-102b937b-27c8-45dd-8074-2544f531e413 label.sk-toggleable__label {cursor: pointer;display: block;width: 100%;margin-bottom: 0;padding: 0.3em;box-sizing: border-box;text-align: center;}#sk-102b937b-27c8-45dd-8074-2544f531e413 label.sk-toggleable__label-arrow:before {content: \"▸\";float: left;margin-right: 0.25em;color: #696969;}#sk-102b937b-27c8-45dd-8074-2544f531e413 label.sk-toggleable__label-arrow:hover:before {color: black;}#sk-102b937b-27c8-45dd-8074-2544f531e413 div.sk-estimator:hover label.sk-toggleable__label-arrow:before {color: black;}#sk-102b937b-27c8-45dd-8074-2544f531e413 div.sk-toggleable__content {max-height: 0;max-width: 0;overflow: hidden;text-align: left;background-color: #f0f8ff;}#sk-102b937b-27c8-45dd-8074-2544f531e413 div.sk-toggleable__content pre {margin: 0.2em;color: black;border-radius: 0.25em;background-color: #f0f8ff;}#sk-102b937b-27c8-45dd-8074-2544f531e413 input.sk-toggleable__control:checked~div.sk-toggleable__content {max-height: 200px;max-width: 100%;overflow: auto;}#sk-102b937b-27c8-45dd-8074-2544f531e413 input.sk-toggleable__control:checked~label.sk-toggleable__label-arrow:before {content: \"▾\";}#sk-102b937b-27c8-45dd-8074-2544f531e413 div.sk-estimator input.sk-toggleable__control:checked~label.sk-toggleable__label {background-color: #d4ebff;}#sk-102b937b-27c8-45dd-8074-2544f531e413 div.sk-label input.sk-toggleable__control:checked~label.sk-toggleable__label {background-color: #d4ebff;}#sk-102b937b-27c8-45dd-8074-2544f531e413 input.sk-hidden--visually {border: 0;clip: rect(1px 1px 1px 1px);clip: rect(1px, 1px, 1px, 1px);height: 1px;margin: -1px;overflow: hidden;padding: 0;position: absolute;width: 1px;}#sk-102b937b-27c8-45dd-8074-2544f531e413 div.sk-estimator {font-family: monospace;background-color: #f0f8ff;border: 1px dotted black;border-radius: 0.25em;box-sizing: border-box;margin-bottom: 0.5em;}#sk-102b937b-27c8-45dd-8074-2544f531e413 div.sk-estimator:hover {background-color: #d4ebff;}#sk-102b937b-27c8-45dd-8074-2544f531e413 div.sk-parallel-item::after {content: \"\";width: 100%;border-bottom: 1px solid gray;flex-grow: 1;}#sk-102b937b-27c8-45dd-8074-2544f531e413 div.sk-label:hover label.sk-toggleable__label {background-color: #d4ebff;}#sk-102b937b-27c8-45dd-8074-2544f531e413 div.sk-serial::before {content: \"\";position: absolute;border-left: 1px solid gray;box-sizing: border-box;top: 2em;bottom: 0;left: 50%;}#sk-102b937b-27c8-45dd-8074-2544f531e413 div.sk-serial {display: flex;flex-direction: column;align-items: center;background-color: white;padding-right: 0.2em;padding-left: 0.2em;}#sk-102b937b-27c8-45dd-8074-2544f531e413 div.sk-item {z-index: 1;}#sk-102b937b-27c8-45dd-8074-2544f531e413 div.sk-parallel {display: flex;align-items: stretch;justify-content: center;background-color: white;}#sk-102b937b-27c8-45dd-8074-2544f531e413 div.sk-parallel::before {content: \"\";position: absolute;border-left: 1px solid gray;box-sizing: border-box;top: 2em;bottom: 0;left: 50%;}#sk-102b937b-27c8-45dd-8074-2544f531e413 div.sk-parallel-item {display: flex;flex-direction: column;position: relative;background-color: white;}#sk-102b937b-27c8-45dd-8074-2544f531e413 div.sk-parallel-item:first-child::after {align-self: flex-end;width: 50%;}#sk-102b937b-27c8-45dd-8074-2544f531e413 div.sk-parallel-item:last-child::after {align-self: flex-start;width: 50%;}#sk-102b937b-27c8-45dd-8074-2544f531e413 div.sk-parallel-item:only-child::after {width: 0;}#sk-102b937b-27c8-45dd-8074-2544f531e413 div.sk-dashed-wrapped {border: 1px dashed gray;margin: 0 0.4em 0.5em 0.4em;box-sizing: border-box;padding-bottom: 0.4em;background-color: white;position: relative;}#sk-102b937b-27c8-45dd-8074-2544f531e413 div.sk-label label {font-family: monospace;font-weight: bold;background-color: white;display: inline-block;line-height: 1.2em;}#sk-102b937b-27c8-45dd-8074-2544f531e413 div.sk-label-container {position: relative;z-index: 2;text-align: center;}#sk-102b937b-27c8-45dd-8074-2544f531e413 div.sk-container {/* jupyter's `normalize.less` sets `[hidden] { display: none; }` but bootstrap.min.css set `[hidden] { display: none !important; }` so we also need the `!important` here to be able to override the default hidden behavior on the sphinx rendered scikit-learn.org. See: https://github.com/scikit-learn/scikit-learn/issues/21755 */display: inline-block !important;position: relative;}#sk-102b937b-27c8-45dd-8074-2544f531e413 div.sk-text-repr-fallback {display: none;}</style><div id=\"sk-102b937b-27c8-45dd-8074-2544f531e413\" class=\"sk-top-container\"><div class=\"sk-text-repr-fallback\"><pre>Pipeline(steps=[(&#x27;preproc&#x27;,\n",
       "                 ColumnTransformer(transformers=[(&#x27;ohe&#x27;, OneHotEncoder(),\n",
       "                                                  &lt;sklearn.compose._column_transformer.make_column_selector object at 0x17c4a5100&gt;)])),\n",
       "                (&#x27;ensemble&#x27;,\n",
       "                 VotingRegressor(estimators=[(&#x27;lr&#x27;, LinearRegression()),\n",
       "                                             (&#x27;rf&#x27;, RandomForestRegressor()),\n",
       "                                             (&#x27;sgd&#x27;, SGDRegressor())],\n",
       "                                 weights=[1, 1, 1]))])</pre><b>Please rerun this cell to show the HTML repr or trust the notebook.</b></div><div class=\"sk-container\" hidden><div class=\"sk-item sk-dashed-wrapped\"><div class=\"sk-label-container\"><div class=\"sk-label sk-toggleable\"><input class=\"sk-toggleable__control sk-hidden--visually\" id=\"723e95a7-ea73-43f6-b91f-4c4cdf381d68\" type=\"checkbox\" ><label for=\"723e95a7-ea73-43f6-b91f-4c4cdf381d68\" class=\"sk-toggleable__label sk-toggleable__label-arrow\">Pipeline</label><div class=\"sk-toggleable__content\"><pre>Pipeline(steps=[(&#x27;preproc&#x27;,\n",
       "                 ColumnTransformer(transformers=[(&#x27;ohe&#x27;, OneHotEncoder(),\n",
       "                                                  &lt;sklearn.compose._column_transformer.make_column_selector object at 0x17c4a5100&gt;)])),\n",
       "                (&#x27;ensemble&#x27;,\n",
       "                 VotingRegressor(estimators=[(&#x27;lr&#x27;, LinearRegression()),\n",
       "                                             (&#x27;rf&#x27;, RandomForestRegressor()),\n",
       "                                             (&#x27;sgd&#x27;, SGDRegressor())],\n",
       "                                 weights=[1, 1, 1]))])</pre></div></div></div><div class=\"sk-serial\"><div class=\"sk-item sk-dashed-wrapped\"><div class=\"sk-label-container\"><div class=\"sk-label sk-toggleable\"><input class=\"sk-toggleable__control sk-hidden--visually\" id=\"1c5393f9-2856-46c0-8ffb-e76ae9ab1768\" type=\"checkbox\" ><label for=\"1c5393f9-2856-46c0-8ffb-e76ae9ab1768\" class=\"sk-toggleable__label sk-toggleable__label-arrow\">preproc: ColumnTransformer</label><div class=\"sk-toggleable__content\"><pre>ColumnTransformer(transformers=[(&#x27;ohe&#x27;, OneHotEncoder(),\n",
       "                                 &lt;sklearn.compose._column_transformer.make_column_selector object at 0x17c4a5100&gt;)])</pre></div></div></div><div class=\"sk-parallel\"><div class=\"sk-parallel-item\"><div class=\"sk-item\"><div class=\"sk-label-container\"><div class=\"sk-label sk-toggleable\"><input class=\"sk-toggleable__control sk-hidden--visually\" id=\"26d0e018-4292-420f-953a-3a62358c618d\" type=\"checkbox\" ><label for=\"26d0e018-4292-420f-953a-3a62358c618d\" class=\"sk-toggleable__label sk-toggleable__label-arrow\">ohe</label><div class=\"sk-toggleable__content\"><pre>&lt;sklearn.compose._column_transformer.make_column_selector object at 0x17c4a5100&gt;</pre></div></div></div><div class=\"sk-serial\"><div class=\"sk-item\"><div class=\"sk-estimator sk-toggleable\"><input class=\"sk-toggleable__control sk-hidden--visually\" id=\"53d279cd-d90c-48be-9243-962a7d5a5b35\" type=\"checkbox\" ><label for=\"53d279cd-d90c-48be-9243-962a7d5a5b35\" class=\"sk-toggleable__label sk-toggleable__label-arrow\">OneHotEncoder</label><div class=\"sk-toggleable__content\"><pre>OneHotEncoder()</pre></div></div></div></div></div></div></div></div><div class=\"sk-item sk-dashed-wrapped\"><div class=\"sk-label-container\"><div class=\"sk-label sk-toggleable\"><input class=\"sk-toggleable__control sk-hidden--visually\" id=\"902a3132-98c4-4302-b91f-485d2014741e\" type=\"checkbox\" ><label for=\"902a3132-98c4-4302-b91f-485d2014741e\" class=\"sk-toggleable__label sk-toggleable__label-arrow\">ensemble: VotingRegressor</label><div class=\"sk-toggleable__content\"><pre>VotingRegressor(estimators=[(&#x27;lr&#x27;, LinearRegression()),\n",
       "                            (&#x27;rf&#x27;, RandomForestRegressor()),\n",
       "                            (&#x27;sgd&#x27;, SGDRegressor())],\n",
       "                weights=[1, 1, 1])</pre></div></div></div><div class=\"sk-parallel\"><div class=\"sk-parallel-item\"><div class=\"sk-item\"><div class=\"sk-label-container\"><div class=\"sk-label sk-toggleable\"><label>lr</label></div></div><div class=\"sk-serial\"><div class=\"sk-item\"><div class=\"sk-estimator sk-toggleable\"><input class=\"sk-toggleable__control sk-hidden--visually\" id=\"2818a212-1b1c-4c4b-90a7-d45a8bdfea7f\" type=\"checkbox\" ><label for=\"2818a212-1b1c-4c4b-90a7-d45a8bdfea7f\" class=\"sk-toggleable__label sk-toggleable__label-arrow\">LinearRegression</label><div class=\"sk-toggleable__content\"><pre>LinearRegression()</pre></div></div></div></div></div></div><div class=\"sk-parallel-item\"><div class=\"sk-item\"><div class=\"sk-label-container\"><div class=\"sk-label sk-toggleable\"><label>rf</label></div></div><div class=\"sk-serial\"><div class=\"sk-item\"><div class=\"sk-estimator sk-toggleable\"><input class=\"sk-toggleable__control sk-hidden--visually\" id=\"c261cbc5-6333-4fae-ae0a-1da3933e92e1\" type=\"checkbox\" ><label for=\"c261cbc5-6333-4fae-ae0a-1da3933e92e1\" class=\"sk-toggleable__label sk-toggleable__label-arrow\">RandomForestRegressor</label><div class=\"sk-toggleable__content\"><pre>RandomForestRegressor()</pre></div></div></div></div></div></div><div class=\"sk-parallel-item\"><div class=\"sk-item\"><div class=\"sk-label-container\"><div class=\"sk-label sk-toggleable\"><label>sgd</label></div></div><div class=\"sk-serial\"><div class=\"sk-item\"><div class=\"sk-estimator sk-toggleable\"><input class=\"sk-toggleable__control sk-hidden--visually\" id=\"d51ace5f-c219-4de2-9b0d-f47aa7373ba2\" type=\"checkbox\" ><label for=\"d51ace5f-c219-4de2-9b0d-f47aa7373ba2\" class=\"sk-toggleable__label sk-toggleable__label-arrow\">SGDRegressor</label><div class=\"sk-toggleable__content\"><pre>SGDRegressor()</pre></div></div></div></div></div></div></div></div></div></div></div></div>"
      ],
      "text/plain": [
       "Pipeline(steps=[('preproc',\n",
       "                 ColumnTransformer(transformers=[('ohe', OneHotEncoder(),\n",
       "                                                  <sklearn.compose._column_transformer.make_column_selector object at 0x17c4a5100>)])),\n",
       "                ('ensemble',\n",
       "                 VotingRegressor(estimators=[('lr', LinearRegression()),\n",
       "                                             ('rf', RandomForestRegressor()),\n",
       "                                             ('sgd', SGDRegressor())],\n",
       "                                 weights=[1, 1, 1]))])"
      ]
     },
     "execution_count": 41,
     "metadata": {},
     "output_type": "execute_result"
    }
   ],
   "source": [
    "# Voting regressor\n",
    "#model pipeline\n",
    "\n",
    "pipe_vote= Pipeline([\n",
    "    ('preproc', preproc),\n",
    "    ('ensemble', ensemble)\n",
    "])\n",
    "pipe_vote"
   ]
  },
  {
   "cell_type": "code",
   "execution_count": 42,
   "id": "d45052cf",
   "metadata": {
    "scrolled": true
   },
   "outputs": [
    {
     "data": {
      "text/html": [
       "<style>#sk-8c6a21ae-2322-44ad-b761-f29ae07f8b86 {color: black;background-color: white;}#sk-8c6a21ae-2322-44ad-b761-f29ae07f8b86 pre{padding: 0;}#sk-8c6a21ae-2322-44ad-b761-f29ae07f8b86 div.sk-toggleable {background-color: white;}#sk-8c6a21ae-2322-44ad-b761-f29ae07f8b86 label.sk-toggleable__label {cursor: pointer;display: block;width: 100%;margin-bottom: 0;padding: 0.3em;box-sizing: border-box;text-align: center;}#sk-8c6a21ae-2322-44ad-b761-f29ae07f8b86 label.sk-toggleable__label-arrow:before {content: \"▸\";float: left;margin-right: 0.25em;color: #696969;}#sk-8c6a21ae-2322-44ad-b761-f29ae07f8b86 label.sk-toggleable__label-arrow:hover:before {color: black;}#sk-8c6a21ae-2322-44ad-b761-f29ae07f8b86 div.sk-estimator:hover label.sk-toggleable__label-arrow:before {color: black;}#sk-8c6a21ae-2322-44ad-b761-f29ae07f8b86 div.sk-toggleable__content {max-height: 0;max-width: 0;overflow: hidden;text-align: left;background-color: #f0f8ff;}#sk-8c6a21ae-2322-44ad-b761-f29ae07f8b86 div.sk-toggleable__content pre {margin: 0.2em;color: black;border-radius: 0.25em;background-color: #f0f8ff;}#sk-8c6a21ae-2322-44ad-b761-f29ae07f8b86 input.sk-toggleable__control:checked~div.sk-toggleable__content {max-height: 200px;max-width: 100%;overflow: auto;}#sk-8c6a21ae-2322-44ad-b761-f29ae07f8b86 input.sk-toggleable__control:checked~label.sk-toggleable__label-arrow:before {content: \"▾\";}#sk-8c6a21ae-2322-44ad-b761-f29ae07f8b86 div.sk-estimator input.sk-toggleable__control:checked~label.sk-toggleable__label {background-color: #d4ebff;}#sk-8c6a21ae-2322-44ad-b761-f29ae07f8b86 div.sk-label input.sk-toggleable__control:checked~label.sk-toggleable__label {background-color: #d4ebff;}#sk-8c6a21ae-2322-44ad-b761-f29ae07f8b86 input.sk-hidden--visually {border: 0;clip: rect(1px 1px 1px 1px);clip: rect(1px, 1px, 1px, 1px);height: 1px;margin: -1px;overflow: hidden;padding: 0;position: absolute;width: 1px;}#sk-8c6a21ae-2322-44ad-b761-f29ae07f8b86 div.sk-estimator {font-family: monospace;background-color: #f0f8ff;border: 1px dotted black;border-radius: 0.25em;box-sizing: border-box;margin-bottom: 0.5em;}#sk-8c6a21ae-2322-44ad-b761-f29ae07f8b86 div.sk-estimator:hover {background-color: #d4ebff;}#sk-8c6a21ae-2322-44ad-b761-f29ae07f8b86 div.sk-parallel-item::after {content: \"\";width: 100%;border-bottom: 1px solid gray;flex-grow: 1;}#sk-8c6a21ae-2322-44ad-b761-f29ae07f8b86 div.sk-label:hover label.sk-toggleable__label {background-color: #d4ebff;}#sk-8c6a21ae-2322-44ad-b761-f29ae07f8b86 div.sk-serial::before {content: \"\";position: absolute;border-left: 1px solid gray;box-sizing: border-box;top: 2em;bottom: 0;left: 50%;}#sk-8c6a21ae-2322-44ad-b761-f29ae07f8b86 div.sk-serial {display: flex;flex-direction: column;align-items: center;background-color: white;padding-right: 0.2em;padding-left: 0.2em;}#sk-8c6a21ae-2322-44ad-b761-f29ae07f8b86 div.sk-item {z-index: 1;}#sk-8c6a21ae-2322-44ad-b761-f29ae07f8b86 div.sk-parallel {display: flex;align-items: stretch;justify-content: center;background-color: white;}#sk-8c6a21ae-2322-44ad-b761-f29ae07f8b86 div.sk-parallel::before {content: \"\";position: absolute;border-left: 1px solid gray;box-sizing: border-box;top: 2em;bottom: 0;left: 50%;}#sk-8c6a21ae-2322-44ad-b761-f29ae07f8b86 div.sk-parallel-item {display: flex;flex-direction: column;position: relative;background-color: white;}#sk-8c6a21ae-2322-44ad-b761-f29ae07f8b86 div.sk-parallel-item:first-child::after {align-self: flex-end;width: 50%;}#sk-8c6a21ae-2322-44ad-b761-f29ae07f8b86 div.sk-parallel-item:last-child::after {align-self: flex-start;width: 50%;}#sk-8c6a21ae-2322-44ad-b761-f29ae07f8b86 div.sk-parallel-item:only-child::after {width: 0;}#sk-8c6a21ae-2322-44ad-b761-f29ae07f8b86 div.sk-dashed-wrapped {border: 1px dashed gray;margin: 0 0.4em 0.5em 0.4em;box-sizing: border-box;padding-bottom: 0.4em;background-color: white;position: relative;}#sk-8c6a21ae-2322-44ad-b761-f29ae07f8b86 div.sk-label label {font-family: monospace;font-weight: bold;background-color: white;display: inline-block;line-height: 1.2em;}#sk-8c6a21ae-2322-44ad-b761-f29ae07f8b86 div.sk-label-container {position: relative;z-index: 2;text-align: center;}#sk-8c6a21ae-2322-44ad-b761-f29ae07f8b86 div.sk-container {/* jupyter's `normalize.less` sets `[hidden] { display: none; }` but bootstrap.min.css set `[hidden] { display: none !important; }` so we also need the `!important` here to be able to override the default hidden behavior on the sphinx rendered scikit-learn.org. See: https://github.com/scikit-learn/scikit-learn/issues/21755 */display: inline-block !important;position: relative;}#sk-8c6a21ae-2322-44ad-b761-f29ae07f8b86 div.sk-text-repr-fallback {display: none;}</style><div id=\"sk-8c6a21ae-2322-44ad-b761-f29ae07f8b86\" class=\"sk-top-container\"><div class=\"sk-text-repr-fallback\"><pre>Pipeline(steps=[(&#x27;preproc&#x27;,\n",
       "                 ColumnTransformer(transformers=[(&#x27;ohe&#x27;, OneHotEncoder(),\n",
       "                                                  &lt;sklearn.compose._column_transformer.make_column_selector object at 0x17c4a5100&gt;)])),\n",
       "                (&#x27;ensemble&#x27;,\n",
       "                 VotingRegressor(estimators=[(&#x27;lr&#x27;, LinearRegression()),\n",
       "                                             (&#x27;rf&#x27;, RandomForestRegressor()),\n",
       "                                             (&#x27;sgd&#x27;, SGDRegressor())],\n",
       "                                 weights=[1, 1, 1]))])</pre><b>Please rerun this cell to show the HTML repr or trust the notebook.</b></div><div class=\"sk-container\" hidden><div class=\"sk-item sk-dashed-wrapped\"><div class=\"sk-label-container\"><div class=\"sk-label sk-toggleable\"><input class=\"sk-toggleable__control sk-hidden--visually\" id=\"0d20464f-8cf2-485c-b4e9-07b9a1e21558\" type=\"checkbox\" ><label for=\"0d20464f-8cf2-485c-b4e9-07b9a1e21558\" class=\"sk-toggleable__label sk-toggleable__label-arrow\">Pipeline</label><div class=\"sk-toggleable__content\"><pre>Pipeline(steps=[(&#x27;preproc&#x27;,\n",
       "                 ColumnTransformer(transformers=[(&#x27;ohe&#x27;, OneHotEncoder(),\n",
       "                                                  &lt;sklearn.compose._column_transformer.make_column_selector object at 0x17c4a5100&gt;)])),\n",
       "                (&#x27;ensemble&#x27;,\n",
       "                 VotingRegressor(estimators=[(&#x27;lr&#x27;, LinearRegression()),\n",
       "                                             (&#x27;rf&#x27;, RandomForestRegressor()),\n",
       "                                             (&#x27;sgd&#x27;, SGDRegressor())],\n",
       "                                 weights=[1, 1, 1]))])</pre></div></div></div><div class=\"sk-serial\"><div class=\"sk-item sk-dashed-wrapped\"><div class=\"sk-label-container\"><div class=\"sk-label sk-toggleable\"><input class=\"sk-toggleable__control sk-hidden--visually\" id=\"d3513d01-985a-4a65-b477-6af1db07b06f\" type=\"checkbox\" ><label for=\"d3513d01-985a-4a65-b477-6af1db07b06f\" class=\"sk-toggleable__label sk-toggleable__label-arrow\">preproc: ColumnTransformer</label><div class=\"sk-toggleable__content\"><pre>ColumnTransformer(transformers=[(&#x27;ohe&#x27;, OneHotEncoder(),\n",
       "                                 &lt;sklearn.compose._column_transformer.make_column_selector object at 0x17c4a5100&gt;)])</pre></div></div></div><div class=\"sk-parallel\"><div class=\"sk-parallel-item\"><div class=\"sk-item\"><div class=\"sk-label-container\"><div class=\"sk-label sk-toggleable\"><input class=\"sk-toggleable__control sk-hidden--visually\" id=\"5060a194-ce2f-4a54-b0fa-7660f0ad1301\" type=\"checkbox\" ><label for=\"5060a194-ce2f-4a54-b0fa-7660f0ad1301\" class=\"sk-toggleable__label sk-toggleable__label-arrow\">ohe</label><div class=\"sk-toggleable__content\"><pre>&lt;sklearn.compose._column_transformer.make_column_selector object at 0x17c4a5100&gt;</pre></div></div></div><div class=\"sk-serial\"><div class=\"sk-item\"><div class=\"sk-estimator sk-toggleable\"><input class=\"sk-toggleable__control sk-hidden--visually\" id=\"8af1586f-c62b-424b-bd7e-6577e9407d65\" type=\"checkbox\" ><label for=\"8af1586f-c62b-424b-bd7e-6577e9407d65\" class=\"sk-toggleable__label sk-toggleable__label-arrow\">OneHotEncoder</label><div class=\"sk-toggleable__content\"><pre>OneHotEncoder()</pre></div></div></div></div></div></div></div></div><div class=\"sk-item sk-dashed-wrapped\"><div class=\"sk-label-container\"><div class=\"sk-label sk-toggleable\"><input class=\"sk-toggleable__control sk-hidden--visually\" id=\"f6706eb9-b920-40eb-b756-7e5f90f247f3\" type=\"checkbox\" ><label for=\"f6706eb9-b920-40eb-b756-7e5f90f247f3\" class=\"sk-toggleable__label sk-toggleable__label-arrow\">ensemble: VotingRegressor</label><div class=\"sk-toggleable__content\"><pre>VotingRegressor(estimators=[(&#x27;lr&#x27;, LinearRegression()),\n",
       "                            (&#x27;rf&#x27;, RandomForestRegressor()),\n",
       "                            (&#x27;sgd&#x27;, SGDRegressor())],\n",
       "                weights=[1, 1, 1])</pre></div></div></div><div class=\"sk-parallel\"><div class=\"sk-parallel-item\"><div class=\"sk-item\"><div class=\"sk-label-container\"><div class=\"sk-label sk-toggleable\"><label>lr</label></div></div><div class=\"sk-serial\"><div class=\"sk-item\"><div class=\"sk-estimator sk-toggleable\"><input class=\"sk-toggleable__control sk-hidden--visually\" id=\"09a7cd09-0c54-41f5-a242-d937337c5a60\" type=\"checkbox\" ><label for=\"09a7cd09-0c54-41f5-a242-d937337c5a60\" class=\"sk-toggleable__label sk-toggleable__label-arrow\">LinearRegression</label><div class=\"sk-toggleable__content\"><pre>LinearRegression()</pre></div></div></div></div></div></div><div class=\"sk-parallel-item\"><div class=\"sk-item\"><div class=\"sk-label-container\"><div class=\"sk-label sk-toggleable\"><label>rf</label></div></div><div class=\"sk-serial\"><div class=\"sk-item\"><div class=\"sk-estimator sk-toggleable\"><input class=\"sk-toggleable__control sk-hidden--visually\" id=\"37b5a514-dd32-478a-a5b1-d12b74ecb084\" type=\"checkbox\" ><label for=\"37b5a514-dd32-478a-a5b1-d12b74ecb084\" class=\"sk-toggleable__label sk-toggleable__label-arrow\">RandomForestRegressor</label><div class=\"sk-toggleable__content\"><pre>RandomForestRegressor()</pre></div></div></div></div></div></div><div class=\"sk-parallel-item\"><div class=\"sk-item\"><div class=\"sk-label-container\"><div class=\"sk-label sk-toggleable\"><label>sgd</label></div></div><div class=\"sk-serial\"><div class=\"sk-item\"><div class=\"sk-estimator sk-toggleable\"><input class=\"sk-toggleable__control sk-hidden--visually\" id=\"956cd4f4-f6cf-43dc-82e9-02475547fe7d\" type=\"checkbox\" ><label for=\"956cd4f4-f6cf-43dc-82e9-02475547fe7d\" class=\"sk-toggleable__label sk-toggleable__label-arrow\">SGDRegressor</label><div class=\"sk-toggleable__content\"><pre>SGDRegressor()</pre></div></div></div></div></div></div></div></div></div></div></div></div>"
      ],
      "text/plain": [
       "Pipeline(steps=[('preproc',\n",
       "                 ColumnTransformer(transformers=[('ohe', OneHotEncoder(),\n",
       "                                                  <sklearn.compose._column_transformer.make_column_selector object at 0x17c4a5100>)])),\n",
       "                ('ensemble',\n",
       "                 VotingRegressor(estimators=[('lr', LinearRegression()),\n",
       "                                             ('rf', RandomForestRegressor()),\n",
       "                                             ('sgd', SGDRegressor())],\n",
       "                                 weights=[1, 1, 1]))])"
      ]
     },
     "execution_count": 42,
     "metadata": {},
     "output_type": "execute_result"
    }
   ],
   "source": [
    "pipe_vote.fit(X_train, y_train)"
   ]
  },
  {
   "cell_type": "code",
   "execution_count": 43,
   "id": "2f3d3237",
   "metadata": {
    "scrolled": true
   },
   "outputs": [
    {
     "data": {
      "text/plain": [
       "0.5919463605899684"
      ]
     },
     "execution_count": 43,
     "metadata": {},
     "output_type": "execute_result"
    }
   ],
   "source": [
    "pipe_vote.score(X_test, y_test)"
   ]
  },
  {
   "cell_type": "code",
   "execution_count": 47,
   "id": "37780f2b",
   "metadata": {},
   "outputs": [],
   "source": [
    "import lightgbm as ltb"
   ]
  },
  {
   "cell_type": "code",
   "execution_count": 48,
   "id": "7bd84ca4",
   "metadata": {},
   "outputs": [
    {
     "data": {
      "text/html": [
       "<style>#sk-9f2fc788-bf95-4cc7-a5c0-260e40e2f753 {color: black;background-color: white;}#sk-9f2fc788-bf95-4cc7-a5c0-260e40e2f753 pre{padding: 0;}#sk-9f2fc788-bf95-4cc7-a5c0-260e40e2f753 div.sk-toggleable {background-color: white;}#sk-9f2fc788-bf95-4cc7-a5c0-260e40e2f753 label.sk-toggleable__label {cursor: pointer;display: block;width: 100%;margin-bottom: 0;padding: 0.3em;box-sizing: border-box;text-align: center;}#sk-9f2fc788-bf95-4cc7-a5c0-260e40e2f753 label.sk-toggleable__label-arrow:before {content: \"▸\";float: left;margin-right: 0.25em;color: #696969;}#sk-9f2fc788-bf95-4cc7-a5c0-260e40e2f753 label.sk-toggleable__label-arrow:hover:before {color: black;}#sk-9f2fc788-bf95-4cc7-a5c0-260e40e2f753 div.sk-estimator:hover label.sk-toggleable__label-arrow:before {color: black;}#sk-9f2fc788-bf95-4cc7-a5c0-260e40e2f753 div.sk-toggleable__content {max-height: 0;max-width: 0;overflow: hidden;text-align: left;background-color: #f0f8ff;}#sk-9f2fc788-bf95-4cc7-a5c0-260e40e2f753 div.sk-toggleable__content pre {margin: 0.2em;color: black;border-radius: 0.25em;background-color: #f0f8ff;}#sk-9f2fc788-bf95-4cc7-a5c0-260e40e2f753 input.sk-toggleable__control:checked~div.sk-toggleable__content {max-height: 200px;max-width: 100%;overflow: auto;}#sk-9f2fc788-bf95-4cc7-a5c0-260e40e2f753 input.sk-toggleable__control:checked~label.sk-toggleable__label-arrow:before {content: \"▾\";}#sk-9f2fc788-bf95-4cc7-a5c0-260e40e2f753 div.sk-estimator input.sk-toggleable__control:checked~label.sk-toggleable__label {background-color: #d4ebff;}#sk-9f2fc788-bf95-4cc7-a5c0-260e40e2f753 div.sk-label input.sk-toggleable__control:checked~label.sk-toggleable__label {background-color: #d4ebff;}#sk-9f2fc788-bf95-4cc7-a5c0-260e40e2f753 input.sk-hidden--visually {border: 0;clip: rect(1px 1px 1px 1px);clip: rect(1px, 1px, 1px, 1px);height: 1px;margin: -1px;overflow: hidden;padding: 0;position: absolute;width: 1px;}#sk-9f2fc788-bf95-4cc7-a5c0-260e40e2f753 div.sk-estimator {font-family: monospace;background-color: #f0f8ff;border: 1px dotted black;border-radius: 0.25em;box-sizing: border-box;margin-bottom: 0.5em;}#sk-9f2fc788-bf95-4cc7-a5c0-260e40e2f753 div.sk-estimator:hover {background-color: #d4ebff;}#sk-9f2fc788-bf95-4cc7-a5c0-260e40e2f753 div.sk-parallel-item::after {content: \"\";width: 100%;border-bottom: 1px solid gray;flex-grow: 1;}#sk-9f2fc788-bf95-4cc7-a5c0-260e40e2f753 div.sk-label:hover label.sk-toggleable__label {background-color: #d4ebff;}#sk-9f2fc788-bf95-4cc7-a5c0-260e40e2f753 div.sk-serial::before {content: \"\";position: absolute;border-left: 1px solid gray;box-sizing: border-box;top: 2em;bottom: 0;left: 50%;}#sk-9f2fc788-bf95-4cc7-a5c0-260e40e2f753 div.sk-serial {display: flex;flex-direction: column;align-items: center;background-color: white;padding-right: 0.2em;padding-left: 0.2em;}#sk-9f2fc788-bf95-4cc7-a5c0-260e40e2f753 div.sk-item {z-index: 1;}#sk-9f2fc788-bf95-4cc7-a5c0-260e40e2f753 div.sk-parallel {display: flex;align-items: stretch;justify-content: center;background-color: white;}#sk-9f2fc788-bf95-4cc7-a5c0-260e40e2f753 div.sk-parallel::before {content: \"\";position: absolute;border-left: 1px solid gray;box-sizing: border-box;top: 2em;bottom: 0;left: 50%;}#sk-9f2fc788-bf95-4cc7-a5c0-260e40e2f753 div.sk-parallel-item {display: flex;flex-direction: column;position: relative;background-color: white;}#sk-9f2fc788-bf95-4cc7-a5c0-260e40e2f753 div.sk-parallel-item:first-child::after {align-self: flex-end;width: 50%;}#sk-9f2fc788-bf95-4cc7-a5c0-260e40e2f753 div.sk-parallel-item:last-child::after {align-self: flex-start;width: 50%;}#sk-9f2fc788-bf95-4cc7-a5c0-260e40e2f753 div.sk-parallel-item:only-child::after {width: 0;}#sk-9f2fc788-bf95-4cc7-a5c0-260e40e2f753 div.sk-dashed-wrapped {border: 1px dashed gray;margin: 0 0.4em 0.5em 0.4em;box-sizing: border-box;padding-bottom: 0.4em;background-color: white;position: relative;}#sk-9f2fc788-bf95-4cc7-a5c0-260e40e2f753 div.sk-label label {font-family: monospace;font-weight: bold;background-color: white;display: inline-block;line-height: 1.2em;}#sk-9f2fc788-bf95-4cc7-a5c0-260e40e2f753 div.sk-label-container {position: relative;z-index: 2;text-align: center;}#sk-9f2fc788-bf95-4cc7-a5c0-260e40e2f753 div.sk-container {/* jupyter's `normalize.less` sets `[hidden] { display: none; }` but bootstrap.min.css set `[hidden] { display: none !important; }` so we also need the `!important` here to be able to override the default hidden behavior on the sphinx rendered scikit-learn.org. See: https://github.com/scikit-learn/scikit-learn/issues/21755 */display: inline-block !important;position: relative;}#sk-9f2fc788-bf95-4cc7-a5c0-260e40e2f753 div.sk-text-repr-fallback {display: none;}</style><div id=\"sk-9f2fc788-bf95-4cc7-a5c0-260e40e2f753\" class=\"sk-top-container\"><div class=\"sk-text-repr-fallback\"><pre>Pipeline(steps=[(&#x27;preproc&#x27;,\n",
       "                 ColumnTransformer(transformers=[(&#x27;ohe&#x27;, OneHotEncoder(),\n",
       "                                                  &lt;sklearn.compose._column_transformer.make_column_selector object at 0x17c4a5100&gt;)])),\n",
       "                (&#x27;lgtbm&#x27;, LGBMRegressor())])</pre><b>Please rerun this cell to show the HTML repr or trust the notebook.</b></div><div class=\"sk-container\" hidden><div class=\"sk-item sk-dashed-wrapped\"><div class=\"sk-label-container\"><div class=\"sk-label sk-toggleable\"><input class=\"sk-toggleable__control sk-hidden--visually\" id=\"7ccb5919-d8e2-49eb-8c6c-af8b8c6c5874\" type=\"checkbox\" ><label for=\"7ccb5919-d8e2-49eb-8c6c-af8b8c6c5874\" class=\"sk-toggleable__label sk-toggleable__label-arrow\">Pipeline</label><div class=\"sk-toggleable__content\"><pre>Pipeline(steps=[(&#x27;preproc&#x27;,\n",
       "                 ColumnTransformer(transformers=[(&#x27;ohe&#x27;, OneHotEncoder(),\n",
       "                                                  &lt;sklearn.compose._column_transformer.make_column_selector object at 0x17c4a5100&gt;)])),\n",
       "                (&#x27;lgtbm&#x27;, LGBMRegressor())])</pre></div></div></div><div class=\"sk-serial\"><div class=\"sk-item sk-dashed-wrapped\"><div class=\"sk-label-container\"><div class=\"sk-label sk-toggleable\"><input class=\"sk-toggleable__control sk-hidden--visually\" id=\"22e03676-cd09-4b01-8b7d-82bd9770b5bc\" type=\"checkbox\" ><label for=\"22e03676-cd09-4b01-8b7d-82bd9770b5bc\" class=\"sk-toggleable__label sk-toggleable__label-arrow\">preproc: ColumnTransformer</label><div class=\"sk-toggleable__content\"><pre>ColumnTransformer(transformers=[(&#x27;ohe&#x27;, OneHotEncoder(),\n",
       "                                 &lt;sklearn.compose._column_transformer.make_column_selector object at 0x17c4a5100&gt;)])</pre></div></div></div><div class=\"sk-parallel\"><div class=\"sk-parallel-item\"><div class=\"sk-item\"><div class=\"sk-label-container\"><div class=\"sk-label sk-toggleable\"><input class=\"sk-toggleable__control sk-hidden--visually\" id=\"42bbbd71-5b68-4770-a4cf-7980be621a84\" type=\"checkbox\" ><label for=\"42bbbd71-5b68-4770-a4cf-7980be621a84\" class=\"sk-toggleable__label sk-toggleable__label-arrow\">ohe</label><div class=\"sk-toggleable__content\"><pre>&lt;sklearn.compose._column_transformer.make_column_selector object at 0x17c4a5100&gt;</pre></div></div></div><div class=\"sk-serial\"><div class=\"sk-item\"><div class=\"sk-estimator sk-toggleable\"><input class=\"sk-toggleable__control sk-hidden--visually\" id=\"8281ac99-2d5f-4bbd-9923-7d9e07c7aaa9\" type=\"checkbox\" ><label for=\"8281ac99-2d5f-4bbd-9923-7d9e07c7aaa9\" class=\"sk-toggleable__label sk-toggleable__label-arrow\">OneHotEncoder</label><div class=\"sk-toggleable__content\"><pre>OneHotEncoder()</pre></div></div></div></div></div></div></div></div><div class=\"sk-item\"><div class=\"sk-estimator sk-toggleable\"><input class=\"sk-toggleable__control sk-hidden--visually\" id=\"df02eeee-9537-410c-bc47-71928fe07e09\" type=\"checkbox\" ><label for=\"df02eeee-9537-410c-bc47-71928fe07e09\" class=\"sk-toggleable__label sk-toggleable__label-arrow\">LGBMRegressor</label><div class=\"sk-toggleable__content\"><pre>LGBMRegressor()</pre></div></div></div></div></div></div></div>"
      ],
      "text/plain": [
       "Pipeline(steps=[('preproc',\n",
       "                 ColumnTransformer(transformers=[('ohe', OneHotEncoder(),\n",
       "                                                  <sklearn.compose._column_transformer.make_column_selector object at 0x17c4a5100>)])),\n",
       "                ('lgtbm', LGBMRegressor())])"
      ]
     },
     "execution_count": 48,
     "metadata": {},
     "output_type": "execute_result"
    }
   ],
   "source": [
    "# LGTBM regressor\n",
    "#model pipeline\n",
    "pipe_ltb = Pipeline([\n",
    "    ('preproc', preproc),\n",
    "    ('lgtbm', ltb.LGBMRegressor())\n",
    "])\n",
    "pipe_ltb"
   ]
  },
  {
   "cell_type": "code",
   "execution_count": 50,
   "id": "56fbd83e",
   "metadata": {},
   "outputs": [
    {
     "data": {
      "text/plain": [
       "0.646835924812113"
      ]
     },
     "execution_count": 50,
     "metadata": {},
     "output_type": "execute_result"
    }
   ],
   "source": [
    "pipe_ltb.fit(X_train, y_train)\n",
    "pipe_ltb.score(X_train, y_train)"
   ]
  },
  {
   "cell_type": "markdown",
   "id": "b8f1865b",
   "metadata": {},
   "source": [
    "# Tuning "
   ]
  },
  {
   "cell_type": "code",
   "execution_count": 55,
   "id": "48d13ffc",
   "metadata": {},
   "outputs": [
    {
     "data": {
      "text/plain": [
       "{'memory': None,\n",
       " 'steps': [('preproc',\n",
       "   ColumnTransformer(transformers=[('ohe', OneHotEncoder(),\n",
       "                                    <sklearn.compose._column_transformer.make_column_selector object at 0x17c4a5100>)])),\n",
       "  ('rfr', RandomForestRegressor())],\n",
       " 'verbose': False,\n",
       " 'preproc': ColumnTransformer(transformers=[('ohe', OneHotEncoder(),\n",
       "                                  <sklearn.compose._column_transformer.make_column_selector object at 0x17c4a5100>)]),\n",
       " 'rfr': RandomForestRegressor(),\n",
       " 'preproc__n_jobs': None,\n",
       " 'preproc__remainder': 'drop',\n",
       " 'preproc__sparse_threshold': 0.3,\n",
       " 'preproc__transformer_weights': None,\n",
       " 'preproc__transformers': [('ohe',\n",
       "   OneHotEncoder(),\n",
       "   <sklearn.compose._column_transformer.make_column_selector at 0x17c4a5100>)],\n",
       " 'preproc__verbose': False,\n",
       " 'preproc__verbose_feature_names_out': True,\n",
       " 'preproc__ohe': OneHotEncoder(),\n",
       " 'preproc__ohe__categories': 'auto',\n",
       " 'preproc__ohe__drop': None,\n",
       " 'preproc__ohe__dtype': numpy.float64,\n",
       " 'preproc__ohe__handle_unknown': 'error',\n",
       " 'preproc__ohe__sparse': True,\n",
       " 'rfr__bootstrap': True,\n",
       " 'rfr__ccp_alpha': 0.0,\n",
       " 'rfr__criterion': 'squared_error',\n",
       " 'rfr__max_depth': None,\n",
       " 'rfr__max_features': 'auto',\n",
       " 'rfr__max_leaf_nodes': None,\n",
       " 'rfr__max_samples': None,\n",
       " 'rfr__min_impurity_decrease': 0.0,\n",
       " 'rfr__min_samples_leaf': 1,\n",
       " 'rfr__min_samples_split': 2,\n",
       " 'rfr__min_weight_fraction_leaf': 0.0,\n",
       " 'rfr__n_estimators': 100,\n",
       " 'rfr__n_jobs': None,\n",
       " 'rfr__oob_score': False,\n",
       " 'rfr__random_state': None,\n",
       " 'rfr__verbose': 0,\n",
       " 'rfr__warm_start': False}"
      ]
     },
     "execution_count": 55,
     "metadata": {},
     "output_type": "execute_result"
    }
   ],
   "source": [
    " pipe_rfr.get_params()"
   ]
  },
  {
   "cell_type": "code",
   "execution_count": 66,
   "id": "b5fada83",
   "metadata": {
    "scrolled": true
   },
   "outputs": [
    {
     "data": {
      "text/plain": [
       "{'n_estimators': [200, 800, 1400, 2000],\n",
       " 'max_depth': [10, 35, 60, 85, 110, None],\n",
       " 'min_samples_split': [2, 5, 10],\n",
       " 'min_samples_leaf': [1, 2, 4]}"
      ]
     },
     "execution_count": 66,
     "metadata": {},
     "output_type": "execute_result"
    }
   ],
   "source": [
    "# grid search \n",
    "# Number of trees in random forest\n",
    "n_estimators = [int(x) for x in np.linspace(start = 200, stop = 2000, num = 4)]\n",
    "# Number of features to consider at every split\n",
    "#max_features = ['auto', 'sqrt']\n",
    "# Maximum number of levels in tree\n",
    "max_depth = [int(x) for x in np.linspace(10, 110, num = 5)]\n",
    "max_depth.append(None)\n",
    "# Minimum number of samples required to split a node\n",
    "min_samples_split = [2, 5, 10]\n",
    "# Minimum number of samples required at each leaf node\n",
    "min_samples_leaf = [1, 2, 4]\n",
    "# Method of selecting samples for training each tree\n",
    "#bootstrap = [True, False]\n",
    "\n",
    "# Create the random grid\n",
    "random_grid = {'n_estimators': n_estimators,\n",
    "               'max_depth': max_depth,\n",
    "               'min_samples_split': min_samples_split,\n",
    "               'min_samples_leaf': min_samples_leaf\n",
    "               }\n",
    "random_grid"
   ]
  },
  {
   "cell_type": "code",
   "execution_count": 65,
   "id": "b64191a2",
   "metadata": {},
   "outputs": [
    {
     "name": "stdout",
     "output_type": "stream",
     "text": [
      "Fitting 3 folds for each of 1080 candidates, totalling 3240 fits\n"
     ]
    },
    {
     "ename": "KeyboardInterrupt",
     "evalue": "",
     "output_type": "error",
     "traceback": [
      "\u001b[0;31m---------------------------------------------------------------------------\u001b[0m",
      "\u001b[0;31mKeyboardInterrupt\u001b[0m                         Traceback (most recent call last)",
      "\u001b[0;32m/var/folders/_5/rhjg3s115y30bg6bd3kvpsj00000gn/T/ipykernel_20261/3852967046.py\u001b[0m in \u001b[0;36m<module>\u001b[0;34m\u001b[0m\n\u001b[1;32m      5\u001b[0m                             \u001b[0mverbose\u001b[0m\u001b[0;34m=\u001b[0m\u001b[0;36m2\u001b[0m\u001b[0;34m,\u001b[0m\u001b[0;34m\u001b[0m\u001b[0;34m\u001b[0m\u001b[0m\n\u001b[1;32m      6\u001b[0m                             n_jobs = -1)\n\u001b[0;32m----> 7\u001b[0;31m \u001b[0msearch\u001b[0m\u001b[0;34m.\u001b[0m\u001b[0mfit\u001b[0m\u001b[0;34m(\u001b[0m\u001b[0mX_train\u001b[0m\u001b[0;34m,\u001b[0m \u001b[0my_train\u001b[0m\u001b[0;34m)\u001b[0m\u001b[0;34m\u001b[0m\u001b[0;34m\u001b[0m\u001b[0m\n\u001b[0m",
      "\u001b[0;32m~/.pyenv/versions/3.8.6/envs/pix2pix/lib/python3.8/site-packages/sklearn/model_selection/_search.py\u001b[0m in \u001b[0;36mfit\u001b[0;34m(self, X, y, groups, **fit_params)\u001b[0m\n\u001b[1;32m    889\u001b[0m                 \u001b[0;32mreturn\u001b[0m \u001b[0mresults\u001b[0m\u001b[0;34m\u001b[0m\u001b[0;34m\u001b[0m\u001b[0m\n\u001b[1;32m    890\u001b[0m \u001b[0;34m\u001b[0m\u001b[0m\n\u001b[0;32m--> 891\u001b[0;31m             \u001b[0mself\u001b[0m\u001b[0;34m.\u001b[0m\u001b[0m_run_search\u001b[0m\u001b[0;34m(\u001b[0m\u001b[0mevaluate_candidates\u001b[0m\u001b[0;34m)\u001b[0m\u001b[0;34m\u001b[0m\u001b[0;34m\u001b[0m\u001b[0m\n\u001b[0m\u001b[1;32m    892\u001b[0m \u001b[0;34m\u001b[0m\u001b[0m\n\u001b[1;32m    893\u001b[0m             \u001b[0;31m# multimetric is determined here because in the case of a callable\u001b[0m\u001b[0;34m\u001b[0m\u001b[0;34m\u001b[0m\u001b[0;34m\u001b[0m\u001b[0m\n",
      "\u001b[0;32m~/.pyenv/versions/3.8.6/envs/pix2pix/lib/python3.8/site-packages/sklearn/model_selection/_search.py\u001b[0m in \u001b[0;36m_run_search\u001b[0;34m(self, evaluate_candidates)\u001b[0m\n\u001b[1;32m   1390\u001b[0m     \u001b[0;32mdef\u001b[0m \u001b[0m_run_search\u001b[0m\u001b[0;34m(\u001b[0m\u001b[0mself\u001b[0m\u001b[0;34m,\u001b[0m \u001b[0mevaluate_candidates\u001b[0m\u001b[0;34m)\u001b[0m\u001b[0;34m:\u001b[0m\u001b[0;34m\u001b[0m\u001b[0;34m\u001b[0m\u001b[0m\n\u001b[1;32m   1391\u001b[0m         \u001b[0;34m\"\"\"Search all candidates in param_grid\"\"\"\u001b[0m\u001b[0;34m\u001b[0m\u001b[0;34m\u001b[0m\u001b[0m\n\u001b[0;32m-> 1392\u001b[0;31m         \u001b[0mevaluate_candidates\u001b[0m\u001b[0;34m(\u001b[0m\u001b[0mParameterGrid\u001b[0m\u001b[0;34m(\u001b[0m\u001b[0mself\u001b[0m\u001b[0;34m.\u001b[0m\u001b[0mparam_grid\u001b[0m\u001b[0;34m)\u001b[0m\u001b[0;34m)\u001b[0m\u001b[0;34m\u001b[0m\u001b[0;34m\u001b[0m\u001b[0m\n\u001b[0m\u001b[1;32m   1393\u001b[0m \u001b[0;34m\u001b[0m\u001b[0m\n\u001b[1;32m   1394\u001b[0m \u001b[0;34m\u001b[0m\u001b[0m\n",
      "\u001b[0;32m~/.pyenv/versions/3.8.6/envs/pix2pix/lib/python3.8/site-packages/sklearn/model_selection/_search.py\u001b[0m in \u001b[0;36mevaluate_candidates\u001b[0;34m(candidate_params, cv, more_results)\u001b[0m\n\u001b[1;32m    836\u001b[0m                     )\n\u001b[1;32m    837\u001b[0m \u001b[0;34m\u001b[0m\u001b[0m\n\u001b[0;32m--> 838\u001b[0;31m                 out = parallel(\n\u001b[0m\u001b[1;32m    839\u001b[0m                     delayed(_fit_and_score)(\n\u001b[1;32m    840\u001b[0m                         \u001b[0mclone\u001b[0m\u001b[0;34m(\u001b[0m\u001b[0mbase_estimator\u001b[0m\u001b[0;34m)\u001b[0m\u001b[0;34m,\u001b[0m\u001b[0;34m\u001b[0m\u001b[0;34m\u001b[0m\u001b[0m\n",
      "\u001b[0;32m~/.pyenv/versions/3.8.6/envs/pix2pix/lib/python3.8/site-packages/joblib/parallel.py\u001b[0m in \u001b[0;36m__call__\u001b[0;34m(self, iterable)\u001b[0m\n\u001b[1;32m   1052\u001b[0m \u001b[0;34m\u001b[0m\u001b[0m\n\u001b[1;32m   1053\u001b[0m             \u001b[0;32mwith\u001b[0m \u001b[0mself\u001b[0m\u001b[0;34m.\u001b[0m\u001b[0m_backend\u001b[0m\u001b[0;34m.\u001b[0m\u001b[0mretrieval_context\u001b[0m\u001b[0;34m(\u001b[0m\u001b[0;34m)\u001b[0m\u001b[0;34m:\u001b[0m\u001b[0;34m\u001b[0m\u001b[0;34m\u001b[0m\u001b[0m\n\u001b[0;32m-> 1054\u001b[0;31m                 \u001b[0mself\u001b[0m\u001b[0;34m.\u001b[0m\u001b[0mretrieve\u001b[0m\u001b[0;34m(\u001b[0m\u001b[0;34m)\u001b[0m\u001b[0;34m\u001b[0m\u001b[0;34m\u001b[0m\u001b[0m\n\u001b[0m\u001b[1;32m   1055\u001b[0m             \u001b[0;31m# Make sure that we get a last message telling us we are done\u001b[0m\u001b[0;34m\u001b[0m\u001b[0;34m\u001b[0m\u001b[0;34m\u001b[0m\u001b[0m\n\u001b[1;32m   1056\u001b[0m             \u001b[0melapsed_time\u001b[0m \u001b[0;34m=\u001b[0m \u001b[0mtime\u001b[0m\u001b[0;34m.\u001b[0m\u001b[0mtime\u001b[0m\u001b[0;34m(\u001b[0m\u001b[0;34m)\u001b[0m \u001b[0;34m-\u001b[0m \u001b[0mself\u001b[0m\u001b[0;34m.\u001b[0m\u001b[0m_start_time\u001b[0m\u001b[0;34m\u001b[0m\u001b[0;34m\u001b[0m\u001b[0m\n",
      "\u001b[0;32m~/.pyenv/versions/3.8.6/envs/pix2pix/lib/python3.8/site-packages/joblib/parallel.py\u001b[0m in \u001b[0;36mretrieve\u001b[0;34m(self)\u001b[0m\n\u001b[1;32m    931\u001b[0m             \u001b[0;32mtry\u001b[0m\u001b[0;34m:\u001b[0m\u001b[0;34m\u001b[0m\u001b[0;34m\u001b[0m\u001b[0m\n\u001b[1;32m    932\u001b[0m                 \u001b[0;32mif\u001b[0m \u001b[0mgetattr\u001b[0m\u001b[0;34m(\u001b[0m\u001b[0mself\u001b[0m\u001b[0;34m.\u001b[0m\u001b[0m_backend\u001b[0m\u001b[0;34m,\u001b[0m \u001b[0;34m'supports_timeout'\u001b[0m\u001b[0;34m,\u001b[0m \u001b[0;32mFalse\u001b[0m\u001b[0;34m)\u001b[0m\u001b[0;34m:\u001b[0m\u001b[0;34m\u001b[0m\u001b[0;34m\u001b[0m\u001b[0m\n\u001b[0;32m--> 933\u001b[0;31m                     \u001b[0mself\u001b[0m\u001b[0;34m.\u001b[0m\u001b[0m_output\u001b[0m\u001b[0;34m.\u001b[0m\u001b[0mextend\u001b[0m\u001b[0;34m(\u001b[0m\u001b[0mjob\u001b[0m\u001b[0;34m.\u001b[0m\u001b[0mget\u001b[0m\u001b[0;34m(\u001b[0m\u001b[0mtimeout\u001b[0m\u001b[0;34m=\u001b[0m\u001b[0mself\u001b[0m\u001b[0;34m.\u001b[0m\u001b[0mtimeout\u001b[0m\u001b[0;34m)\u001b[0m\u001b[0;34m)\u001b[0m\u001b[0;34m\u001b[0m\u001b[0;34m\u001b[0m\u001b[0m\n\u001b[0m\u001b[1;32m    934\u001b[0m                 \u001b[0;32melse\u001b[0m\u001b[0;34m:\u001b[0m\u001b[0;34m\u001b[0m\u001b[0;34m\u001b[0m\u001b[0m\n\u001b[1;32m    935\u001b[0m                     \u001b[0mself\u001b[0m\u001b[0;34m.\u001b[0m\u001b[0m_output\u001b[0m\u001b[0;34m.\u001b[0m\u001b[0mextend\u001b[0m\u001b[0;34m(\u001b[0m\u001b[0mjob\u001b[0m\u001b[0;34m.\u001b[0m\u001b[0mget\u001b[0m\u001b[0;34m(\u001b[0m\u001b[0;34m)\u001b[0m\u001b[0;34m)\u001b[0m\u001b[0;34m\u001b[0m\u001b[0;34m\u001b[0m\u001b[0m\n",
      "\u001b[0;32m~/.pyenv/versions/3.8.6/envs/pix2pix/lib/python3.8/site-packages/joblib/_parallel_backends.py\u001b[0m in \u001b[0;36mwrap_future_result\u001b[0;34m(future, timeout)\u001b[0m\n\u001b[1;32m    540\u001b[0m         AsyncResults.get from multiprocessing.\"\"\"\n\u001b[1;32m    541\u001b[0m         \u001b[0;32mtry\u001b[0m\u001b[0;34m:\u001b[0m\u001b[0;34m\u001b[0m\u001b[0;34m\u001b[0m\u001b[0m\n\u001b[0;32m--> 542\u001b[0;31m             \u001b[0;32mreturn\u001b[0m \u001b[0mfuture\u001b[0m\u001b[0;34m.\u001b[0m\u001b[0mresult\u001b[0m\u001b[0;34m(\u001b[0m\u001b[0mtimeout\u001b[0m\u001b[0;34m=\u001b[0m\u001b[0mtimeout\u001b[0m\u001b[0;34m)\u001b[0m\u001b[0;34m\u001b[0m\u001b[0;34m\u001b[0m\u001b[0m\n\u001b[0m\u001b[1;32m    543\u001b[0m         \u001b[0;32mexcept\u001b[0m \u001b[0mCfTimeoutError\u001b[0m \u001b[0;32mas\u001b[0m \u001b[0me\u001b[0m\u001b[0;34m:\u001b[0m\u001b[0;34m\u001b[0m\u001b[0;34m\u001b[0m\u001b[0m\n\u001b[1;32m    544\u001b[0m             \u001b[0;32mraise\u001b[0m \u001b[0mTimeoutError\u001b[0m \u001b[0;32mfrom\u001b[0m \u001b[0me\u001b[0m\u001b[0;34m\u001b[0m\u001b[0;34m\u001b[0m\u001b[0m\n",
      "\u001b[0;32m~/.pyenv/versions/3.8.6/lib/python3.8/concurrent/futures/_base.py\u001b[0m in \u001b[0;36mresult\u001b[0;34m(self, timeout)\u001b[0m\n\u001b[1;32m    432\u001b[0m                 \u001b[0;32mreturn\u001b[0m \u001b[0mself\u001b[0m\u001b[0;34m.\u001b[0m\u001b[0m__get_result\u001b[0m\u001b[0;34m(\u001b[0m\u001b[0;34m)\u001b[0m\u001b[0;34m\u001b[0m\u001b[0;34m\u001b[0m\u001b[0m\n\u001b[1;32m    433\u001b[0m \u001b[0;34m\u001b[0m\u001b[0m\n\u001b[0;32m--> 434\u001b[0;31m             \u001b[0mself\u001b[0m\u001b[0;34m.\u001b[0m\u001b[0m_condition\u001b[0m\u001b[0;34m.\u001b[0m\u001b[0mwait\u001b[0m\u001b[0;34m(\u001b[0m\u001b[0mtimeout\u001b[0m\u001b[0;34m)\u001b[0m\u001b[0;34m\u001b[0m\u001b[0;34m\u001b[0m\u001b[0m\n\u001b[0m\u001b[1;32m    435\u001b[0m \u001b[0;34m\u001b[0m\u001b[0m\n\u001b[1;32m    436\u001b[0m             \u001b[0;32mif\u001b[0m \u001b[0mself\u001b[0m\u001b[0;34m.\u001b[0m\u001b[0m_state\u001b[0m \u001b[0;32min\u001b[0m \u001b[0;34m[\u001b[0m\u001b[0mCANCELLED\u001b[0m\u001b[0;34m,\u001b[0m \u001b[0mCANCELLED_AND_NOTIFIED\u001b[0m\u001b[0;34m]\u001b[0m\u001b[0;34m:\u001b[0m\u001b[0;34m\u001b[0m\u001b[0;34m\u001b[0m\u001b[0m\n",
      "\u001b[0;32m~/.pyenv/versions/3.8.6/lib/python3.8/threading.py\u001b[0m in \u001b[0;36mwait\u001b[0;34m(self, timeout)\u001b[0m\n\u001b[1;32m    300\u001b[0m         \u001b[0;32mtry\u001b[0m\u001b[0;34m:\u001b[0m    \u001b[0;31m# restore state no matter what (e.g., KeyboardInterrupt)\u001b[0m\u001b[0;34m\u001b[0m\u001b[0;34m\u001b[0m\u001b[0m\n\u001b[1;32m    301\u001b[0m             \u001b[0;32mif\u001b[0m \u001b[0mtimeout\u001b[0m \u001b[0;32mis\u001b[0m \u001b[0;32mNone\u001b[0m\u001b[0;34m:\u001b[0m\u001b[0;34m\u001b[0m\u001b[0;34m\u001b[0m\u001b[0m\n\u001b[0;32m--> 302\u001b[0;31m                 \u001b[0mwaiter\u001b[0m\u001b[0;34m.\u001b[0m\u001b[0macquire\u001b[0m\u001b[0;34m(\u001b[0m\u001b[0;34m)\u001b[0m\u001b[0;34m\u001b[0m\u001b[0;34m\u001b[0m\u001b[0m\n\u001b[0m\u001b[1;32m    303\u001b[0m                 \u001b[0mgotit\u001b[0m \u001b[0;34m=\u001b[0m \u001b[0;32mTrue\u001b[0m\u001b[0;34m\u001b[0m\u001b[0;34m\u001b[0m\u001b[0m\n\u001b[1;32m    304\u001b[0m             \u001b[0;32melse\u001b[0m\u001b[0;34m:\u001b[0m\u001b[0;34m\u001b[0m\u001b[0;34m\u001b[0m\u001b[0m\n",
      "\u001b[0;31mKeyboardInterrupt\u001b[0m: "
     ]
    }
   ],
   "source": [
    "search = GridSearchCV(estimator = rf, \n",
    "                            param_grid = random_grid, \n",
    "                            scoring=\"r2\",\n",
    "                            cv = 3, \n",
    "                            verbose=2, \n",
    "                            n_jobs = -1)\n",
    "search.fit(X_train, y_train)"
   ]
  },
  {
   "cell_type": "markdown",
   "id": "c9940a03",
   "metadata": {},
   "source": [
    "# Forecasting "
   ]
  }
 ],
 "metadata": {
  "kernelspec": {
   "display_name": "Python 3 (ipykernel)",
   "language": "python",
   "name": "python3"
  },
  "language_info": {
   "codemirror_mode": {
    "name": "ipython",
    "version": 3
   },
   "file_extension": ".py",
   "mimetype": "text/x-python",
   "name": "python",
   "nbconvert_exporter": "python",
   "pygments_lexer": "ipython3",
   "version": "3.8.6"
  },
  "toc": {
   "base_numbering": 1,
   "nav_menu": {},
   "number_sections": true,
   "sideBar": true,
   "skip_h1_title": false,
   "title_cell": "Table of Contents",
   "title_sidebar": "Contents",
   "toc_cell": false,
   "toc_position": {},
   "toc_section_display": true,
   "toc_window_display": false
  }
 },
 "nbformat": 4,
 "nbformat_minor": 5
}
