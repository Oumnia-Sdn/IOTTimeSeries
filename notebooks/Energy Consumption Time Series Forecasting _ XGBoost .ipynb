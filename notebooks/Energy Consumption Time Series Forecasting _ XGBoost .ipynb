{
 "cells": [
  {
   "cell_type": "markdown",
   "id": "d116a721",
   "metadata": {},
   "source": [
    "# Context\n",
    "The data was collected from an apartment unit in San Jose for one plus year of one of Kaggle's community members. The collection was done with smart meters and shared by his energy company. This is time-series data by nature and can be used for various time-series Machine Learning experiments.\n",
    "\n",
    "## Description of Data\n",
    "The data contains eight attributes.\n",
    "\n",
    "- TYPE - This is an information column. The value is 'Electric usage' for all the observations.\n",
    "- DATE - Date of electric consumption. There is no timestamp in this field.\n",
    "- START TIME - Start time of the consumption.\n",
    "- END TIME - End time of the consumption\n",
    "- USAGE - Consumption in kWh\n",
    "- UNITS - This column denotes measurement unit. It is kWh for all the observations.\n",
    "- COST - Cost of consumption in $.\n",
    "- NOTES - Mostly an empty column"
   ]
  },
  {
   "cell_type": "markdown",
   "id": "a4154930",
   "metadata": {},
   "source": [
    "# Environment "
   ]
  },
  {
   "cell_type": "code",
   "execution_count": 1,
   "id": "099384dd",
   "metadata": {},
   "outputs": [],
   "source": [
    "#setting environment \n",
    "import pandas as pd\n",
    "import numpy as np\n",
    "''' Data visualisation'''\n",
    "import matplotlib.pyplot as plt\n",
    "import seaborn as sns\n",
    "import warnings\n",
    "''' Scikit-Learn'''\n",
    "from sklearn.model_selection import train_test_split\n",
    "from sklearn.preprocessing import StandardScaler, RobustScaler\n",
    "from sklearn.preprocessing import OneHotEncoder\n",
    "from sklearn.model_selection import cross_validate, cross_val_score\n",
    "from sklearn.model_selection import GridSearchCV\n",
    "from sklearn.model_selection import RandomizedSearchCV\n",
    "from sklearn import set_config\n",
    "\n",
    "set_config(display='diagram')\n",
    "from sklearn.compose import ColumnTransformer\n",
    "from sklearn.compose import make_column_selector\n",
    "from sklearn.metrics import confusion_matrix\n",
    "''' Imbalanced Classes'''\n",
    "import imblearn\n",
    "from imblearn.over_sampling import SMOTE\n",
    "from imblearn.under_sampling import RandomUnderSampler\n",
    "from imblearn.pipeline import Pipeline"
   ]
  },
  {
   "cell_type": "code",
   "execution_count": 2,
   "id": "efecb6ed",
   "metadata": {},
   "outputs": [],
   "source": [
    "import warnings\n",
    "warnings.filterwarnings(\"ignore\", category=FutureWarning)"
   ]
  },
  {
   "cell_type": "markdown",
   "id": "e5d82779",
   "metadata": {},
   "source": [
    "# EDA"
   ]
  },
  {
   "cell_type": "code",
   "execution_count": 3,
   "id": "4599ab7d",
   "metadata": {
    "scrolled": true
   },
   "outputs": [
    {
     "data": {
      "text/html": [
       "<div>\n",
       "<style scoped>\n",
       "    .dataframe tbody tr th:only-of-type {\n",
       "        vertical-align: middle;\n",
       "    }\n",
       "\n",
       "    .dataframe tbody tr th {\n",
       "        vertical-align: top;\n",
       "    }\n",
       "\n",
       "    .dataframe thead th {\n",
       "        text-align: right;\n",
       "    }\n",
       "</style>\n",
       "<table border=\"1\" class=\"dataframe\">\n",
       "  <thead>\n",
       "    <tr style=\"text-align: right;\">\n",
       "      <th></th>\n",
       "      <th>TYPE</th>\n",
       "      <th>DATE</th>\n",
       "      <th>START TIME</th>\n",
       "      <th>END TIME</th>\n",
       "      <th>USAGE</th>\n",
       "      <th>UNITS</th>\n",
       "      <th>COST</th>\n",
       "      <th>NOTES</th>\n",
       "    </tr>\n",
       "  </thead>\n",
       "  <tbody>\n",
       "    <tr>\n",
       "      <th>0</th>\n",
       "      <td>Electric usage</td>\n",
       "      <td>10/22/2016</td>\n",
       "      <td>0:00</td>\n",
       "      <td>0:14</td>\n",
       "      <td>0.01</td>\n",
       "      <td>kWh</td>\n",
       "      <td>$0.00</td>\n",
       "      <td>NaN</td>\n",
       "    </tr>\n",
       "    <tr>\n",
       "      <th>1</th>\n",
       "      <td>Electric usage</td>\n",
       "      <td>10/22/2016</td>\n",
       "      <td>0:15</td>\n",
       "      <td>0:29</td>\n",
       "      <td>0.01</td>\n",
       "      <td>kWh</td>\n",
       "      <td>$0.00</td>\n",
       "      <td>NaN</td>\n",
       "    </tr>\n",
       "    <tr>\n",
       "      <th>2</th>\n",
       "      <td>Electric usage</td>\n",
       "      <td>10/22/2016</td>\n",
       "      <td>0:30</td>\n",
       "      <td>0:44</td>\n",
       "      <td>0.01</td>\n",
       "      <td>kWh</td>\n",
       "      <td>$0.00</td>\n",
       "      <td>NaN</td>\n",
       "    </tr>\n",
       "    <tr>\n",
       "      <th>3</th>\n",
       "      <td>Electric usage</td>\n",
       "      <td>10/22/2016</td>\n",
       "      <td>0:45</td>\n",
       "      <td>0:59</td>\n",
       "      <td>0.01</td>\n",
       "      <td>kWh</td>\n",
       "      <td>$0.00</td>\n",
       "      <td>NaN</td>\n",
       "    </tr>\n",
       "    <tr>\n",
       "      <th>4</th>\n",
       "      <td>Electric usage</td>\n",
       "      <td>10/22/2016</td>\n",
       "      <td>1:00</td>\n",
       "      <td>1:14</td>\n",
       "      <td>0.01</td>\n",
       "      <td>kWh</td>\n",
       "      <td>$0.00</td>\n",
       "      <td>NaN</td>\n",
       "    </tr>\n",
       "  </tbody>\n",
       "</table>\n",
       "</div>"
      ],
      "text/plain": [
       "             TYPE        DATE START TIME END TIME  USAGE UNITS    COST  NOTES\n",
       "0  Electric usage  10/22/2016       0:00     0:14   0.01   kWh  $0.00     NaN\n",
       "1  Electric usage  10/22/2016       0:15     0:29   0.01   kWh  $0.00     NaN\n",
       "2  Electric usage  10/22/2016       0:30     0:44   0.01   kWh  $0.00     NaN\n",
       "3  Electric usage  10/22/2016       0:45     0:59   0.01   kWh  $0.00     NaN\n",
       "4  Electric usage  10/22/2016       1:00     1:14   0.01   kWh  $0.00     NaN"
      ]
     },
     "execution_count": 3,
     "metadata": {},
     "output_type": "execute_result"
    }
   ],
   "source": [
    "data= pd.read_csv(\"../IOTTimeSeries/Data/D202.csv\", parse_dates=True)\n",
    "data.head()"
   ]
  },
  {
   "cell_type": "code",
   "execution_count": 4,
   "id": "ff724a29",
   "metadata": {
    "scrolled": true
   },
   "outputs": [
    {
     "name": "stdout",
     "output_type": "stream",
     "text": [
      "<class 'pandas.core.frame.DataFrame'>\n",
      "RangeIndex: 70368 entries, 0 to 70367\n",
      "Data columns (total 8 columns):\n",
      " #   Column      Non-Null Count  Dtype  \n",
      "---  ------      --------------  -----  \n",
      " 0   TYPE        70368 non-null  object \n",
      " 1   DATE        70368 non-null  object \n",
      " 2   START TIME  70368 non-null  object \n",
      " 3   END TIME    70368 non-null  object \n",
      " 4   USAGE       70368 non-null  float64\n",
      " 5   UNITS       70368 non-null  object \n",
      " 6   COST        70368 non-null  object \n",
      " 7   NOTES       0 non-null      float64\n",
      "dtypes: float64(2), object(6)\n",
      "memory usage: 4.3+ MB\n"
     ]
    }
   ],
   "source": [
    "data.info()"
   ]
  },
  {
   "cell_type": "code",
   "execution_count": 5,
   "id": "2a54c361",
   "metadata": {},
   "outputs": [
    {
     "data": {
      "text/plain": [
       "0"
      ]
     },
     "execution_count": 5,
     "metadata": {},
     "output_type": "execute_result"
    }
   ],
   "source": [
    "data.duplicated().sum()"
   ]
  },
  {
   "cell_type": "code",
   "execution_count": 6,
   "id": "90ad6a4b",
   "metadata": {
    "scrolled": true
   },
   "outputs": [
    {
     "data": {
      "text/plain": [
       "TYPE              0\n",
       "DATE              0\n",
       "START TIME        0\n",
       "END TIME          0\n",
       "USAGE             0\n",
       "UNITS             0\n",
       "COST              0\n",
       "NOTES         70368\n",
       "dtype: int64"
      ]
     },
     "execution_count": 6,
     "metadata": {},
     "output_type": "execute_result"
    }
   ],
   "source": [
    "data.isnull().sum()"
   ]
  },
  {
   "cell_type": "code",
   "execution_count": 7,
   "id": "e9f8e3d3",
   "metadata": {
    "scrolled": true
   },
   "outputs": [
    {
     "name": "stdout",
     "output_type": "stream",
     "text": [
      "             TYPE        DATE START TIME END TIME  USAGE UNITS    COST  NOTES\n",
      "0  Electric usage  10/22/2016       0:00     0:14   0.01   kWh  $0.00     NaN\n",
      "1  Electric usage  10/22/2016       0:15     0:29   0.01   kWh  $0.00     NaN\n",
      "2  Electric usage  10/22/2016       0:30     0:44   0.01   kWh  $0.00     NaN\n",
      "3  Electric usage  10/22/2016       0:45     0:59   0.01   kWh  $0.00     NaN\n",
      "4  Electric usage  10/22/2016       1:00     1:14   0.01   kWh  $0.00     NaN\n",
      "Index(['TYPE', 'DATE', 'START TIME', 'END TIME', 'USAGE', 'UNITS', 'COST',\n",
      "       'NOTES'],\n",
      "      dtype='object')\n"
     ]
    }
   ],
   "source": [
    "print(data.head())\n",
    "print(data.columns)"
   ]
  },
  {
   "cell_type": "code",
   "execution_count": 8,
   "id": "6ce173bc",
   "metadata": {
    "scrolled": true
   },
   "outputs": [
    {
     "data": {
      "text/html": [
       "<div>\n",
       "<style scoped>\n",
       "    .dataframe tbody tr th:only-of-type {\n",
       "        vertical-align: middle;\n",
       "    }\n",
       "\n",
       "    .dataframe tbody tr th {\n",
       "        vertical-align: top;\n",
       "    }\n",
       "\n",
       "    .dataframe thead th {\n",
       "        text-align: right;\n",
       "    }\n",
       "</style>\n",
       "<table border=\"1\" class=\"dataframe\">\n",
       "  <thead>\n",
       "    <tr style=\"text-align: right;\">\n",
       "      <th></th>\n",
       "      <th>type</th>\n",
       "      <th>date</th>\n",
       "      <th>start time</th>\n",
       "      <th>end time</th>\n",
       "      <th>usage</th>\n",
       "      <th>units</th>\n",
       "      <th>cost</th>\n",
       "      <th>notes</th>\n",
       "    </tr>\n",
       "  </thead>\n",
       "  <tbody>\n",
       "    <tr>\n",
       "      <th>0</th>\n",
       "      <td>Electric usage</td>\n",
       "      <td>2016-10-22</td>\n",
       "      <td>0:00</td>\n",
       "      <td>0:14</td>\n",
       "      <td>0.01</td>\n",
       "      <td>kWh</td>\n",
       "      <td>$0.00</td>\n",
       "      <td>NaN</td>\n",
       "    </tr>\n",
       "    <tr>\n",
       "      <th>1</th>\n",
       "      <td>Electric usage</td>\n",
       "      <td>2016-10-22</td>\n",
       "      <td>0:15</td>\n",
       "      <td>0:29</td>\n",
       "      <td>0.01</td>\n",
       "      <td>kWh</td>\n",
       "      <td>$0.00</td>\n",
       "      <td>NaN</td>\n",
       "    </tr>\n",
       "    <tr>\n",
       "      <th>2</th>\n",
       "      <td>Electric usage</td>\n",
       "      <td>2016-10-22</td>\n",
       "      <td>0:30</td>\n",
       "      <td>0:44</td>\n",
       "      <td>0.01</td>\n",
       "      <td>kWh</td>\n",
       "      <td>$0.00</td>\n",
       "      <td>NaN</td>\n",
       "    </tr>\n",
       "    <tr>\n",
       "      <th>3</th>\n",
       "      <td>Electric usage</td>\n",
       "      <td>2016-10-22</td>\n",
       "      <td>0:45</td>\n",
       "      <td>0:59</td>\n",
       "      <td>0.01</td>\n",
       "      <td>kWh</td>\n",
       "      <td>$0.00</td>\n",
       "      <td>NaN</td>\n",
       "    </tr>\n",
       "    <tr>\n",
       "      <th>4</th>\n",
       "      <td>Electric usage</td>\n",
       "      <td>2016-10-22</td>\n",
       "      <td>1:00</td>\n",
       "      <td>1:14</td>\n",
       "      <td>0.01</td>\n",
       "      <td>kWh</td>\n",
       "      <td>$0.00</td>\n",
       "      <td>NaN</td>\n",
       "    </tr>\n",
       "  </tbody>\n",
       "</table>\n",
       "</div>"
      ],
      "text/plain": [
       "             type       date start time end time  usage units    cost  notes\n",
       "0  Electric usage 2016-10-22       0:00     0:14   0.01   kWh  $0.00     NaN\n",
       "1  Electric usage 2016-10-22       0:15     0:29   0.01   kWh  $0.00     NaN\n",
       "2  Electric usage 2016-10-22       0:30     0:44   0.01   kWh  $0.00     NaN\n",
       "3  Electric usage 2016-10-22       0:45     0:59   0.01   kWh  $0.00     NaN\n",
       "4  Electric usage 2016-10-22       1:00     1:14   0.01   kWh  $0.00     NaN"
      ]
     },
     "execution_count": 8,
     "metadata": {},
     "output_type": "execute_result"
    }
   ],
   "source": [
    "#converting date column to datetime object\n",
    "data['DATE']= pd.to_datetime(data.DATE)\n",
    "data.columns=data.columns.str.lower()\n",
    "data.head()"
   ]
  },
  {
   "cell_type": "code",
   "execution_count": 9,
   "id": "4bb89180",
   "metadata": {
    "scrolled": true
   },
   "outputs": [
    {
     "data": {
      "text/html": [
       "<div>\n",
       "<style scoped>\n",
       "    .dataframe tbody tr th:only-of-type {\n",
       "        vertical-align: middle;\n",
       "    }\n",
       "\n",
       "    .dataframe tbody tr th {\n",
       "        vertical-align: top;\n",
       "    }\n",
       "\n",
       "    .dataframe thead th {\n",
       "        text-align: right;\n",
       "    }\n",
       "</style>\n",
       "<table border=\"1\" class=\"dataframe\">\n",
       "  <thead>\n",
       "    <tr style=\"text-align: right;\">\n",
       "      <th></th>\n",
       "      <th>usage</th>\n",
       "    </tr>\n",
       "    <tr>\n",
       "      <th>date</th>\n",
       "      <th></th>\n",
       "    </tr>\n",
       "  </thead>\n",
       "  <tbody>\n",
       "    <tr>\n",
       "      <th>2016-10-22</th>\n",
       "      <td>9</td>\n",
       "    </tr>\n",
       "    <tr>\n",
       "      <th>2016-10-23</th>\n",
       "      <td>17</td>\n",
       "    </tr>\n",
       "    <tr>\n",
       "      <th>2016-10-24</th>\n",
       "      <td>12</td>\n",
       "    </tr>\n",
       "    <tr>\n",
       "      <th>2016-10-25</th>\n",
       "      <td>13</td>\n",
       "    </tr>\n",
       "    <tr>\n",
       "      <th>2016-10-26</th>\n",
       "      <td>8</td>\n",
       "    </tr>\n",
       "    <tr>\n",
       "      <th>...</th>\n",
       "      <td>...</td>\n",
       "    </tr>\n",
       "    <tr>\n",
       "      <th>2018-10-20</th>\n",
       "      <td>8</td>\n",
       "    </tr>\n",
       "    <tr>\n",
       "      <th>2018-10-21</th>\n",
       "      <td>4</td>\n",
       "    </tr>\n",
       "    <tr>\n",
       "      <th>2018-10-22</th>\n",
       "      <td>3</td>\n",
       "    </tr>\n",
       "    <tr>\n",
       "      <th>2018-10-23</th>\n",
       "      <td>3</td>\n",
       "    </tr>\n",
       "    <tr>\n",
       "      <th>2018-10-24</th>\n",
       "      <td>3</td>\n",
       "    </tr>\n",
       "  </tbody>\n",
       "</table>\n",
       "<p>733 rows × 1 columns</p>\n",
       "</div>"
      ],
      "text/plain": [
       "            usage\n",
       "date             \n",
       "2016-10-22      9\n",
       "2016-10-23     17\n",
       "2016-10-24     12\n",
       "2016-10-25     13\n",
       "2016-10-26      8\n",
       "...           ...\n",
       "2018-10-20      8\n",
       "2018-10-21      4\n",
       "2018-10-22      3\n",
       "2018-10-23      3\n",
       "2018-10-24      3\n",
       "\n",
       "[733 rows x 1 columns]"
      ]
     },
     "execution_count": 9,
     "metadata": {},
     "output_type": "execute_result"
    }
   ],
   "source": [
    "#getting daily freq\n",
    "res = data.groupby('date')['usage'].nunique()\n",
    "res= res.to_frame()\n",
    "res"
   ]
  },
  {
   "cell_type": "code",
   "execution_count": 10,
   "id": "506d2711",
   "metadata": {},
   "outputs": [
    {
     "data": {
      "text/plain": [
       "<AxesSubplot:xlabel='date'>"
      ]
     },
     "execution_count": 10,
     "metadata": {},
     "output_type": "execute_result"
    },
    {
     "data": {
      "image/png": "[encoded data removed]",
      "text/plain": [
       "<Figure size 432x288 with 1 Axes>"
      ]
     },
     "metadata": {},
     "output_type": "display_data"
    }
   ],
   "source": [
    "#plot data \n",
    "res.plot()"
   ]
  },
  {
   "cell_type": "code",
   "execution_count": 11,
   "id": "650b0a23",
   "metadata": {},
   "outputs": [
    {
     "data": {
      "image/png": "[encoded data removed]",
      "text/plain": [
       "<Figure size 1080x360 with 1 Axes>"
      ]
     },
     "metadata": {},
     "output_type": "display_data"
    }
   ],
   "source": [
    "color_pal = [\"#F8766D\", \"#D39200\",\n",
    "             \"#93AA00\", \"#00BA38\",\n",
    "             \"#00C19F\", \"#00B9E3\",\n",
    "             \"#619CFF\", \"#DB72FB\"]\n",
    "_ = res.plot(style='.',\n",
    "             figsize=(15,5),\n",
    "             color=color_pal[0],\n",
    "             title='sale')"
   ]
  },
  {
   "cell_type": "code",
   "execution_count": 12,
   "id": "ee5a7c73",
   "metadata": {
    "scrolled": false
   },
   "outputs": [
    {
     "name": "stdout",
     "output_type": "stream",
     "text": [
      "2018-10-24 00:00:00\n",
      "2016-10-22 00:00:00\n"
     ]
    }
   ],
   "source": [
    "#data conversions\n",
    "print(res.index.max())\n",
    "print(res.index.min())"
   ]
  },
  {
   "cell_type": "markdown",
   "id": "5222c761",
   "metadata": {},
   "source": [
    "# XGBoost"
   ]
  },
  {
   "cell_type": "code",
   "execution_count": 13,
   "id": "e01b6f97",
   "metadata": {},
   "outputs": [],
   "source": [
    "# data split\n",
    "split_date = '2018-01-01'\n",
    "train= res.loc[res.index <= split_date].copy()\n",
    "test= res.loc[res.index > split_date].copy()"
   ]
  },
  {
   "cell_type": "code",
   "execution_count": 14,
   "id": "c309702b",
   "metadata": {
    "scrolled": true
   },
   "outputs": [
    {
     "name": "stdout",
     "output_type": "stream",
     "text": [
      "(437, 1) (296, 1)\n"
     ]
    }
   ],
   "source": [
    "print(train.shape, test.shape)"
   ]
  },
  {
   "cell_type": "code",
   "execution_count": 15,
   "id": "cfb8963c",
   "metadata": {
    "scrolled": false
   },
   "outputs": [
    {
     "data": {
      "image/png": "[encoded data removed]",
      "text/plain": [
       "<Figure size 1080x360 with 1 Axes>"
      ]
     },
     "metadata": {},
     "output_type": "display_data"
    }
   ],
   "source": [
    "#plot train and test density plot \n",
    "_ = test \\\n",
    "    .rename(columns={'usage': 'TEST SET'}) \\\n",
    "    .join(train.rename(columns={'usage': 'TRAINING SET'}), how='outer') \\\n",
    "    .plot(figsize=(15,5), title='energy usage', style='.')"
   ]
  },
  {
   "cell_type": "markdown",
   "id": "d5e6ca64",
   "metadata": {},
   "source": [
    "## features engineering"
   ]
  },
  {
   "cell_type": "code",
   "execution_count": 16,
   "id": "f9906e8b",
   "metadata": {},
   "outputs": [],
   "source": [
    "# feature creation from ds \n",
    "def create_features(df, label=None):\n",
    "    df['date'] = df.index\n",
    "    df['hour'] = df['date'].dt.hour\n",
    "    df['dayofweek'] = df['date'].dt.dayofweek\n",
    "    df['quarter'] = df['date'].dt.quarter\n",
    "    df['month'] = df['date'].dt.month\n",
    "    df['year'] = df['date'].dt.year\n",
    "    df['dayofyear'] = df['date'].dt.dayofyear\n",
    "    df['dayofmonth'] = df['date'].dt.day\n",
    "    df['weekofyear'] = df['date'].dt.weekofyear\n",
    "    \n",
    "    X = df[['hour','dayofweek','quarter','month','year',\n",
    "           'dayofyear','dayofmonth','weekofyear']]\n",
    "    if label:\n",
    "        y = df[label]\n",
    "        return X, y\n",
    "    return X"
   ]
  },
  {
   "cell_type": "code",
   "execution_count": 17,
   "id": "48ab701a",
   "metadata": {
    "scrolled": true
   },
   "outputs": [
    {
     "data": {
      "text/html": [
       "<div>\n",
       "<style scoped>\n",
       "    .dataframe tbody tr th:only-of-type {\n",
       "        vertical-align: middle;\n",
       "    }\n",
       "\n",
       "    .dataframe tbody tr th {\n",
       "        vertical-align: top;\n",
       "    }\n",
       "\n",
       "    .dataframe thead th {\n",
       "        text-align: right;\n",
       "    }\n",
       "</style>\n",
       "<table border=\"1\" class=\"dataframe\">\n",
       "  <thead>\n",
       "    <tr style=\"text-align: right;\">\n",
       "      <th></th>\n",
       "      <th>hour</th>\n",
       "      <th>dayofweek</th>\n",
       "      <th>quarter</th>\n",
       "      <th>month</th>\n",
       "      <th>year</th>\n",
       "      <th>dayofyear</th>\n",
       "      <th>dayofmonth</th>\n",
       "      <th>weekofyear</th>\n",
       "    </tr>\n",
       "    <tr>\n",
       "      <th>date</th>\n",
       "      <th></th>\n",
       "      <th></th>\n",
       "      <th></th>\n",
       "      <th></th>\n",
       "      <th></th>\n",
       "      <th></th>\n",
       "      <th></th>\n",
       "      <th></th>\n",
       "    </tr>\n",
       "  </thead>\n",
       "  <tbody>\n",
       "    <tr>\n",
       "      <th>2016-10-22</th>\n",
       "      <td>0</td>\n",
       "      <td>5</td>\n",
       "      <td>4</td>\n",
       "      <td>10</td>\n",
       "      <td>2016</td>\n",
       "      <td>296</td>\n",
       "      <td>22</td>\n",
       "      <td>42</td>\n",
       "    </tr>\n",
       "    <tr>\n",
       "      <th>2016-10-23</th>\n",
       "      <td>0</td>\n",
       "      <td>6</td>\n",
       "      <td>4</td>\n",
       "      <td>10</td>\n",
       "      <td>2016</td>\n",
       "      <td>297</td>\n",
       "      <td>23</td>\n",
       "      <td>42</td>\n",
       "    </tr>\n",
       "    <tr>\n",
       "      <th>2016-10-24</th>\n",
       "      <td>0</td>\n",
       "      <td>0</td>\n",
       "      <td>4</td>\n",
       "      <td>10</td>\n",
       "      <td>2016</td>\n",
       "      <td>298</td>\n",
       "      <td>24</td>\n",
       "      <td>43</td>\n",
       "    </tr>\n",
       "    <tr>\n",
       "      <th>2016-10-25</th>\n",
       "      <td>0</td>\n",
       "      <td>1</td>\n",
       "      <td>4</td>\n",
       "      <td>10</td>\n",
       "      <td>2016</td>\n",
       "      <td>299</td>\n",
       "      <td>25</td>\n",
       "      <td>43</td>\n",
       "    </tr>\n",
       "    <tr>\n",
       "      <th>2016-10-26</th>\n",
       "      <td>0</td>\n",
       "      <td>2</td>\n",
       "      <td>4</td>\n",
       "      <td>10</td>\n",
       "      <td>2016</td>\n",
       "      <td>300</td>\n",
       "      <td>26</td>\n",
       "      <td>43</td>\n",
       "    </tr>\n",
       "    <tr>\n",
       "      <th>...</th>\n",
       "      <td>...</td>\n",
       "      <td>...</td>\n",
       "      <td>...</td>\n",
       "      <td>...</td>\n",
       "      <td>...</td>\n",
       "      <td>...</td>\n",
       "      <td>...</td>\n",
       "      <td>...</td>\n",
       "    </tr>\n",
       "    <tr>\n",
       "      <th>2017-12-28</th>\n",
       "      <td>0</td>\n",
       "      <td>3</td>\n",
       "      <td>4</td>\n",
       "      <td>12</td>\n",
       "      <td>2017</td>\n",
       "      <td>362</td>\n",
       "      <td>28</td>\n",
       "      <td>52</td>\n",
       "    </tr>\n",
       "    <tr>\n",
       "      <th>2017-12-29</th>\n",
       "      <td>0</td>\n",
       "      <td>4</td>\n",
       "      <td>4</td>\n",
       "      <td>12</td>\n",
       "      <td>2017</td>\n",
       "      <td>363</td>\n",
       "      <td>29</td>\n",
       "      <td>52</td>\n",
       "    </tr>\n",
       "    <tr>\n",
       "      <th>2017-12-30</th>\n",
       "      <td>0</td>\n",
       "      <td>5</td>\n",
       "      <td>4</td>\n",
       "      <td>12</td>\n",
       "      <td>2017</td>\n",
       "      <td>364</td>\n",
       "      <td>30</td>\n",
       "      <td>52</td>\n",
       "    </tr>\n",
       "    <tr>\n",
       "      <th>2017-12-31</th>\n",
       "      <td>0</td>\n",
       "      <td>6</td>\n",
       "      <td>4</td>\n",
       "      <td>12</td>\n",
       "      <td>2017</td>\n",
       "      <td>365</td>\n",
       "      <td>31</td>\n",
       "      <td>52</td>\n",
       "    </tr>\n",
       "    <tr>\n",
       "      <th>2018-01-01</th>\n",
       "      <td>0</td>\n",
       "      <td>0</td>\n",
       "      <td>1</td>\n",
       "      <td>1</td>\n",
       "      <td>2018</td>\n",
       "      <td>1</td>\n",
       "      <td>1</td>\n",
       "      <td>1</td>\n",
       "    </tr>\n",
       "  </tbody>\n",
       "</table>\n",
       "<p>437 rows × 8 columns</p>\n",
       "</div>"
      ],
      "text/plain": [
       "            hour  dayofweek  quarter  month  year  dayofyear  dayofmonth  \\\n",
       "date                                                                       \n",
       "2016-10-22     0          5        4     10  2016        296          22   \n",
       "2016-10-23     0          6        4     10  2016        297          23   \n",
       "2016-10-24     0          0        4     10  2016        298          24   \n",
       "2016-10-25     0          1        4     10  2016        299          25   \n",
       "2016-10-26     0          2        4     10  2016        300          26   \n",
       "...          ...        ...      ...    ...   ...        ...         ...   \n",
       "2017-12-28     0          3        4     12  2017        362          28   \n",
       "2017-12-29     0          4        4     12  2017        363          29   \n",
       "2017-12-30     0          5        4     12  2017        364          30   \n",
       "2017-12-31     0          6        4     12  2017        365          31   \n",
       "2018-01-01     0          0        1      1  2018          1           1   \n",
       "\n",
       "            weekofyear  \n",
       "date                    \n",
       "2016-10-22          42  \n",
       "2016-10-23          42  \n",
       "2016-10-24          43  \n",
       "2016-10-25          43  \n",
       "2016-10-26          43  \n",
       "...                ...  \n",
       "2017-12-28          52  \n",
       "2017-12-29          52  \n",
       "2017-12-30          52  \n",
       "2017-12-31          52  \n",
       "2018-01-01           1  \n",
       "\n",
       "[437 rows x 8 columns]"
      ]
     },
     "execution_count": 17,
     "metadata": {},
     "output_type": "execute_result"
    }
   ],
   "source": [
    "X_train, y_train = create_features(train, label='usage')\n",
    "X_test, y_test = create_features(test, label='usage')\n",
    "X_train"
   ]
  },
  {
   "cell_type": "code",
   "execution_count": 18,
   "id": "471bf724",
   "metadata": {
    "scrolled": true
   },
   "outputs": [
    {
     "name": "stdout",
     "output_type": "stream",
     "text": [
      "(437, 8) (296, 8) (437,) (296,)\n"
     ]
    }
   ],
   "source": [
    "print(X_train.shape, X_test.shape, y_train.shape, y_test.shape)"
   ]
  },
  {
   "cell_type": "markdown",
   "id": "70a0a150",
   "metadata": {},
   "source": [
    "## Model "
   ]
  },
  {
   "cell_type": "code",
   "execution_count": 20,
   "id": "91c7dd6c",
   "metadata": {
    "scrolled": true
   },
   "outputs": [
    {
     "name": "stdout",
     "output_type": "stream",
     "text": [
      "[0]\tvalidation_0-rmse:8.55258\tvalidation_1-rmse:9.03593\n",
      "[1]\tvalidation_0-rmse:6.25056\tvalidation_1-rmse:6.81588\n",
      "[2]\tvalidation_0-rmse:4.65518\tvalidation_1-rmse:5.39709\n",
      "[3]\tvalidation_0-rmse:3.55001\tvalidation_1-rmse:4.46932\n",
      "[4]\tvalidation_0-rmse:2.80352\tvalidation_1-rmse:3.86294\n",
      "[5]\tvalidation_0-rmse:2.30685\tvalidation_1-rmse:3.52733\n",
      "[6]\tvalidation_0-rmse:2.00648\tvalidation_1-rmse:3.31095\n",
      "[7]\tvalidation_0-rmse:1.79905\tvalidation_1-rmse:3.16667\n",
      "[8]\tvalidation_0-rmse:1.66287\tvalidation_1-rmse:3.07480\n",
      "[9]\tvalidation_0-rmse:1.55426\tvalidation_1-rmse:3.02910\n",
      "[10]\tvalidation_0-rmse:1.48836\tvalidation_1-rmse:3.01574\n",
      "[11]\tvalidation_0-rmse:1.42794\tvalidation_1-rmse:3.02058\n",
      "[12]\tvalidation_0-rmse:1.35736\tvalidation_1-rmse:3.00587\n",
      "[13]\tvalidation_0-rmse:1.31721\tvalidation_1-rmse:3.01231\n",
      "[14]\tvalidation_0-rmse:1.27803\tvalidation_1-rmse:3.01378\n",
      "[15]\tvalidation_0-rmse:1.24035\tvalidation_1-rmse:3.01318\n",
      "[16]\tvalidation_0-rmse:1.22229\tvalidation_1-rmse:3.02109\n",
      "[17]\tvalidation_0-rmse:1.14893\tvalidation_1-rmse:3.04364\n",
      "[18]\tvalidation_0-rmse:1.14012\tvalidation_1-rmse:3.04134\n",
      "[19]\tvalidation_0-rmse:1.12117\tvalidation_1-rmse:3.04844\n",
      "[20]\tvalidation_0-rmse:1.09664\tvalidation_1-rmse:3.05774\n",
      "[21]\tvalidation_0-rmse:1.08831\tvalidation_1-rmse:3.06322\n",
      "[22]\tvalidation_0-rmse:1.06589\tvalidation_1-rmse:3.06645\n",
      "[23]\tvalidation_0-rmse:1.03168\tvalidation_1-rmse:3.07979\n",
      "[24]\tvalidation_0-rmse:1.00442\tvalidation_1-rmse:3.08519\n",
      "[25]\tvalidation_0-rmse:0.96313\tvalidation_1-rmse:3.10946\n",
      "[26]\tvalidation_0-rmse:0.95300\tvalidation_1-rmse:3.11657\n",
      "[27]\tvalidation_0-rmse:0.92618\tvalidation_1-rmse:3.12287\n",
      "[28]\tvalidation_0-rmse:0.90986\tvalidation_1-rmse:3.13342\n",
      "[29]\tvalidation_0-rmse:0.89740\tvalidation_1-rmse:3.13880\n",
      "[30]\tvalidation_0-rmse:0.88557\tvalidation_1-rmse:3.14846\n",
      "[31]\tvalidation_0-rmse:0.87972\tvalidation_1-rmse:3.14846\n",
      "[32]\tvalidation_0-rmse:0.83315\tvalidation_1-rmse:3.15698\n",
      "[33]\tvalidation_0-rmse:0.81658\tvalidation_1-rmse:3.15847\n",
      "[34]\tvalidation_0-rmse:0.79937\tvalidation_1-rmse:3.17013\n",
      "[35]\tvalidation_0-rmse:0.77564\tvalidation_1-rmse:3.17752\n",
      "[36]\tvalidation_0-rmse:0.75734\tvalidation_1-rmse:3.17835\n",
      "[37]\tvalidation_0-rmse:0.73256\tvalidation_1-rmse:3.18332\n",
      "[38]\tvalidation_0-rmse:0.72873\tvalidation_1-rmse:3.18315\n",
      "[39]\tvalidation_0-rmse:0.72137\tvalidation_1-rmse:3.18690\n",
      "[40]\tvalidation_0-rmse:0.70383\tvalidation_1-rmse:3.19385\n",
      "[41]\tvalidation_0-rmse:0.68782\tvalidation_1-rmse:3.19877\n"
     ]
    },
    {
     "data": {
      "text/html": [
       "<style>#sk-34322eb0-f727-4145-b5f8-a8ea5d606c83 {color: black;background-color: white;}#sk-34322eb0-f727-4145-b5f8-a8ea5d606c83 pre{padding: 0;}#sk-34322eb0-f727-4145-b5f8-a8ea5d606c83 div.sk-toggleable {background-color: white;}#sk-34322eb0-f727-4145-b5f8-a8ea5d606c83 label.sk-toggleable__label {cursor: pointer;display: block;width: 100%;margin-bottom: 0;padding: 0.3em;box-sizing: border-box;text-align: center;}#sk-34322eb0-f727-4145-b5f8-a8ea5d606c83 label.sk-toggleable__label-arrow:before {content: \"▸\";float: left;margin-right: 0.25em;color: #696969;}#sk-34322eb0-f727-4145-b5f8-a8ea5d606c83 label.sk-toggleable__label-arrow:hover:before {color: black;}#sk-34322eb0-f727-4145-b5f8-a8ea5d606c83 div.sk-estimator:hover label.sk-toggleable__label-arrow:before {color: black;}#sk-34322eb0-f727-4145-b5f8-a8ea5d606c83 div.sk-toggleable__content {max-height: 0;max-width: 0;overflow: hidden;text-align: left;background-color: #f0f8ff;}#sk-34322eb0-f727-4145-b5f8-a8ea5d606c83 div.sk-toggleable__content pre {margin: 0.2em;color: black;border-radius: 0.25em;background-color: #f0f8ff;}#sk-34322eb0-f727-4145-b5f8-a8ea5d606c83 input.sk-toggleable__control:checked~div.sk-toggleable__content {max-height: 200px;max-width: 100%;overflow: auto;}#sk-34322eb0-f727-4145-b5f8-a8ea5d606c83 input.sk-toggleable__control:checked~label.sk-toggleable__label-arrow:before {content: \"▾\";}#sk-34322eb0-f727-4145-b5f8-a8ea5d606c83 div.sk-estimator input.sk-toggleable__control:checked~label.sk-toggleable__label {background-color: #d4ebff;}#sk-34322eb0-f727-4145-b5f8-a8ea5d606c83 div.sk-label input.sk-toggleable__control:checked~label.sk-toggleable__label {background-color: #d4ebff;}#sk-34322eb0-f727-4145-b5f8-a8ea5d606c83 input.sk-hidden--visually {border: 0;clip: rect(1px 1px 1px 1px);clip: rect(1px, 1px, 1px, 1px);height: 1px;margin: -1px;overflow: hidden;padding: 0;position: absolute;width: 1px;}#sk-34322eb0-f727-4145-b5f8-a8ea5d606c83 div.sk-estimator {font-family: monospace;background-color: #f0f8ff;border: 1px dotted black;border-radius: 0.25em;box-sizing: border-box;margin-bottom: 0.5em;}#sk-34322eb0-f727-4145-b5f8-a8ea5d606c83 div.sk-estimator:hover {background-color: #d4ebff;}#sk-34322eb0-f727-4145-b5f8-a8ea5d606c83 div.sk-parallel-item::after {content: \"\";width: 100%;border-bottom: 1px solid gray;flex-grow: 1;}#sk-34322eb0-f727-4145-b5f8-a8ea5d606c83 div.sk-label:hover label.sk-toggleable__label {background-color: #d4ebff;}#sk-34322eb0-f727-4145-b5f8-a8ea5d606c83 div.sk-serial::before {content: \"\";position: absolute;border-left: 1px solid gray;box-sizing: border-box;top: 2em;bottom: 0;left: 50%;}#sk-34322eb0-f727-4145-b5f8-a8ea5d606c83 div.sk-serial {display: flex;flex-direction: column;align-items: center;background-color: white;padding-right: 0.2em;padding-left: 0.2em;}#sk-34322eb0-f727-4145-b5f8-a8ea5d606c83 div.sk-item {z-index: 1;}#sk-34322eb0-f727-4145-b5f8-a8ea5d606c83 div.sk-parallel {display: flex;align-items: stretch;justify-content: center;background-color: white;}#sk-34322eb0-f727-4145-b5f8-a8ea5d606c83 div.sk-parallel::before {content: \"\";position: absolute;border-left: 1px solid gray;box-sizing: border-box;top: 2em;bottom: 0;left: 50%;}#sk-34322eb0-f727-4145-b5f8-a8ea5d606c83 div.sk-parallel-item {display: flex;flex-direction: column;position: relative;background-color: white;}#sk-34322eb0-f727-4145-b5f8-a8ea5d606c83 div.sk-parallel-item:first-child::after {align-self: flex-end;width: 50%;}#sk-34322eb0-f727-4145-b5f8-a8ea5d606c83 div.sk-parallel-item:last-child::after {align-self: flex-start;width: 50%;}#sk-34322eb0-f727-4145-b5f8-a8ea5d606c83 div.sk-parallel-item:only-child::after {width: 0;}#sk-34322eb0-f727-4145-b5f8-a8ea5d606c83 div.sk-dashed-wrapped {border: 1px dashed gray;margin: 0 0.4em 0.5em 0.4em;box-sizing: border-box;padding-bottom: 0.4em;background-color: white;position: relative;}#sk-34322eb0-f727-4145-b5f8-a8ea5d606c83 div.sk-label label {font-family: monospace;font-weight: bold;background-color: white;display: inline-block;line-height: 1.2em;}#sk-34322eb0-f727-4145-b5f8-a8ea5d606c83 div.sk-label-container {position: relative;z-index: 2;text-align: center;}#sk-34322eb0-f727-4145-b5f8-a8ea5d606c83 div.sk-container {/* jupyter's `normalize.less` sets `[hidden] { display: none; }` but bootstrap.min.css set `[hidden] { display: none !important; }` so we also need the `!important` here to be able to override the default hidden behavior on the sphinx rendered scikit-learn.org. See: https://github.com/scikit-learn/scikit-learn/issues/21755 */display: inline-block !important;position: relative;}#sk-34322eb0-f727-4145-b5f8-a8ea5d606c83 div.sk-text-repr-fallback {display: none;}</style><div id=\"sk-34322eb0-f727-4145-b5f8-a8ea5d606c83\" class=\"sk-top-container\"><div class=\"sk-text-repr-fallback\"><pre>XGBRegressor(base_score=0.5, booster=&#x27;gbtree&#x27;, colsample_bylevel=1,\n",
       "             colsample_bynode=1, colsample_bytree=1, enable_categorical=False,\n",
       "             gamma=0, gpu_id=-1, importance_type=None,\n",
       "             interaction_constraints=&#x27;&#x27;, learning_rate=0.300000012,\n",
       "             max_delta_step=0, max_depth=6, min_child_weight=1, missing=nan,\n",
       "             monotone_constraints=&#x27;()&#x27;, n_estimators=1000, n_jobs=8,\n",
       "             num_parallel_tree=1, predictor=&#x27;auto&#x27;, random_state=0, reg_alpha=0,\n",
       "             reg_lambda=1, scale_pos_weight=1, subsample=1, tree_method=&#x27;exact&#x27;,\n",
       "             validate_parameters=1, verbosity=None)</pre><b>Please rerun this cell to show the HTML repr or trust the notebook.</b></div><div class=\"sk-container\" hidden><div class=\"sk-item\"><div class=\"sk-estimator sk-toggleable\"><input class=\"sk-toggleable__control sk-hidden--visually\" id=\"83ca1f48-918c-408c-9b19-8864a0fbc3c9\" type=\"checkbox\" checked><label for=\"83ca1f48-918c-408c-9b19-8864a0fbc3c9\" class=\"sk-toggleable__label sk-toggleable__label-arrow\">XGBRegressor</label><div class=\"sk-toggleable__content\"><pre>XGBRegressor(base_score=0.5, booster=&#x27;gbtree&#x27;, colsample_bylevel=1,\n",
       "             colsample_bynode=1, colsample_bytree=1, enable_categorical=False,\n",
       "             gamma=0, gpu_id=-1, importance_type=None,\n",
       "             interaction_constraints=&#x27;&#x27;, learning_rate=0.300000012,\n",
       "             max_delta_step=0, max_depth=6, min_child_weight=1, missing=nan,\n",
       "             monotone_constraints=&#x27;()&#x27;, n_estimators=1000, n_jobs=8,\n",
       "             num_parallel_tree=1, predictor=&#x27;auto&#x27;, random_state=0, reg_alpha=0,\n",
       "             reg_lambda=1, scale_pos_weight=1, subsample=1, tree_method=&#x27;exact&#x27;,\n",
       "             validate_parameters=1, verbosity=None)</pre></div></div></div></div></div>"
      ],
      "text/plain": [
       "XGBRegressor(base_score=0.5, booster='gbtree', colsample_bylevel=1,\n",
       "             colsample_bynode=1, colsample_bytree=1, enable_categorical=False,\n",
       "             gamma=0, gpu_id=-1, importance_type=None,\n",
       "             interaction_constraints='', learning_rate=0.300000012,\n",
       "             max_delta_step=0, max_depth=6, min_child_weight=1, missing=nan,\n",
       "             monotone_constraints='()', n_estimators=1000, n_jobs=8,\n",
       "             num_parallel_tree=1, predictor='auto', random_state=0, reg_alpha=0,\n",
       "             reg_lambda=1, scale_pos_weight=1, subsample=1, tree_method='exact',\n",
       "             validate_parameters=1, verbosity=None)"
      ]
     },
     "execution_count": 20,
     "metadata": {},
     "output_type": "execute_result"
    }
   ],
   "source": [
    "#import xgboost \n",
    "import xgboost as xgb\n",
    "from xgboost import plot_importance, plot_tree\n",
    "from sklearn.metrics import mean_squared_error, mean_absolute_error\n",
    "\n",
    "#instantiate\n",
    "xgb = xgb.XGBRegressor(n_estimators=1000)\n",
    "\n",
    "#fitting\n",
    "xgb.fit(X_train, y_train,\n",
    "        eval_set=[(X_train, y_train), (X_test, y_test)],\n",
    "        early_stopping_rounds=30,\n",
    "       verbose=True)"
   ]
  },
  {
   "cell_type": "markdown",
   "id": "6a11b70a",
   "metadata": {},
   "source": [
    "## Features importance"
   ]
  },
  {
   "cell_type": "code",
   "execution_count": 21,
   "id": "e5734b2e",
   "metadata": {
    "scrolled": false
   },
   "outputs": [
    {
     "data": {
      "text/plain": [
       "<AxesSubplot:title={'center':'Feature importance'}, xlabel='F score', ylabel='Features'>"
      ]
     },
     "execution_count": 21,
     "metadata": {},
     "output_type": "execute_result"
    },
    {
     "data": {
      "image/png": "[encoded data removed]",
      "text/plain": [
       "<Figure size 432x288 with 1 Axes>"
      ]
     },
     "metadata": {},
     "output_type": "display_data"
    }
   ],
   "source": [
    "#feature selection\n",
    "plot_importance(xgb, height= 0.9)"
   ]
  },
  {
   "cell_type": "markdown",
   "id": "d3e0b6fc",
   "metadata": {},
   "source": [
    "## Forecasting on test set "
   ]
  },
  {
   "cell_type": "code",
   "execution_count": 22,
   "id": "b5aab1ed",
   "metadata": {
    "scrolled": true
   },
   "outputs": [
    {
     "data": {
      "text/plain": [
       "<AxesSubplot:xlabel='date'>"
      ]
     },
     "execution_count": 22,
     "metadata": {},
     "output_type": "execute_result"
    },
    {
     "data": {
      "image/png": "[encoded data removed]",
      "text/plain": [
       "<Figure size 1080x360 with 1 Axes>"
      ]
     },
     "metadata": {},
     "output_type": "display_data"
    }
   ],
   "source": [
    "#forecasting\n",
    "test['usage_pred']= xgb.predict(X_test)\n",
    "data_all = pd.concat([test, train], sort=False)\n",
    "\n",
    "#plot\n",
    "data_all[['usage','usage_pred']].plot(figsize=(15, 5))"
   ]
  },
  {
   "cell_type": "markdown",
   "id": "2560131d",
   "metadata": {},
   "source": [
    "## Error metrics"
   ]
  },
  {
   "cell_type": "code",
   "execution_count": 23,
   "id": "a8c41a8d",
   "metadata": {
    "scrolled": true
   },
   "outputs": [
    {
     "name": "stdout",
     "output_type": "stream",
     "text": [
      "rmse score is:  3.005872754637811\n",
      "mae score is:  2.3666275610794894\n",
      "mape score is  22.676708442248714\n",
      "mean: 12.43918918918919\n"
     ]
    }
   ],
   "source": [
    "#errors\n",
    "#mse\n",
    "print('rmse score is: ', np.sqrt(mean_squared_error(y_true=test['usage'],\n",
    "                   y_pred=test['usage_pred'])))\n",
    "\n",
    "#mae\n",
    "print('mae score is: ', mean_absolute_error(y_true=test['usage'],\n",
    "                   y_pred=test['usage_pred']))\n",
    "      \n",
    "# mean absolute percent error because it gives an easy way to interperate percentage showing how off the predictions are. \n",
    "# MAPE isn't included in sklearn so we need to use a custom function.\n",
    "def mean_absolute_percentage_error(y_true, y_pred): \n",
    "    \"\"\"Calculates MAPE given y_true and y_pred\"\"\"\n",
    "    y_true, y_pred = np.array(y_true), np.array(y_pred)\n",
    "    return np.mean(np.abs((y_true - y_pred) / y_true)) * 100\n",
    "\n",
    "print('mape score is ',mean_absolute_percentage_error(y_true=test['usage'],\n",
    "                   y_pred=test['usage_pred']))\n",
    "\n",
    "print('mean:', y_test.mean())"
   ]
  },
  {
   "cell_type": "markdown",
   "id": "807e8212",
   "metadata": {},
   "source": [
    "We see that the RMSE is quite low compared to the mean (9% of the size of the mean overall), which means that XGBoost did quite a good job at predicting the values of the test set."
   ]
  },
  {
   "cell_type": "markdown",
   "id": "1a0b02a3",
   "metadata": {},
   "source": [
    "## Worst and Best predicted days "
   ]
  },
  {
   "cell_type": "code",
   "execution_count": 25,
   "id": "7c2cdeef",
   "metadata": {},
   "outputs": [
    {
     "data": {
      "text/html": [
       "<div>\n",
       "<style scoped>\n",
       "    .dataframe tbody tr th:only-of-type {\n",
       "        vertical-align: middle;\n",
       "    }\n",
       "\n",
       "    .dataframe tbody tr th {\n",
       "        vertical-align: top;\n",
       "    }\n",
       "\n",
       "    .dataframe thead th {\n",
       "        text-align: right;\n",
       "    }\n",
       "</style>\n",
       "<table border=\"1\" class=\"dataframe\">\n",
       "  <thead>\n",
       "    <tr style=\"text-align: right;\">\n",
       "      <th></th>\n",
       "      <th></th>\n",
       "      <th></th>\n",
       "      <th>usage</th>\n",
       "      <th>usage_pred</th>\n",
       "      <th>error</th>\n",
       "      <th>abs_error</th>\n",
       "    </tr>\n",
       "    <tr>\n",
       "      <th>year</th>\n",
       "      <th>month</th>\n",
       "      <th>dayofmonth</th>\n",
       "      <th></th>\n",
       "      <th></th>\n",
       "      <th></th>\n",
       "      <th></th>\n",
       "    </tr>\n",
       "  </thead>\n",
       "  <tbody>\n",
       "    <tr>\n",
       "      <th rowspan=\"10\" valign=\"top\">2018</th>\n",
       "      <th rowspan=\"2\" valign=\"top\">5</th>\n",
       "      <th>27</th>\n",
       "      <td>2.0</td>\n",
       "      <td>11.106812</td>\n",
       "      <td>-9.106812</td>\n",
       "      <td>9.106812</td>\n",
       "    </tr>\n",
       "    <tr>\n",
       "      <th>26</th>\n",
       "      <td>3.0</td>\n",
       "      <td>11.373481</td>\n",
       "      <td>-8.373481</td>\n",
       "      <td>8.373481</td>\n",
       "    </tr>\n",
       "    <tr>\n",
       "      <th rowspan=\"3\" valign=\"top\">10</th>\n",
       "      <th>22</th>\n",
       "      <td>3.0</td>\n",
       "      <td>10.941949</td>\n",
       "      <td>-7.941949</td>\n",
       "      <td>7.941949</td>\n",
       "    </tr>\n",
       "    <tr>\n",
       "      <th>23</th>\n",
       "      <td>3.0</td>\n",
       "      <td>10.941949</td>\n",
       "      <td>-7.941949</td>\n",
       "      <td>7.941949</td>\n",
       "    </tr>\n",
       "    <tr>\n",
       "      <th>24</th>\n",
       "      <td>3.0</td>\n",
       "      <td>10.662539</td>\n",
       "      <td>-7.662539</td>\n",
       "      <td>7.662539</td>\n",
       "    </tr>\n",
       "    <tr>\n",
       "      <th>9</th>\n",
       "      <th>3</th>\n",
       "      <td>8.0</td>\n",
       "      <td>14.609943</td>\n",
       "      <td>-6.609943</td>\n",
       "      <td>6.609943</td>\n",
       "    </tr>\n",
       "    <tr>\n",
       "      <th>10</th>\n",
       "      <th>21</th>\n",
       "      <td>4.0</td>\n",
       "      <td>10.232221</td>\n",
       "      <td>-6.232221</td>\n",
       "      <td>6.232221</td>\n",
       "    </tr>\n",
       "    <tr>\n",
       "      <th>9</th>\n",
       "      <th>4</th>\n",
       "      <td>9.0</td>\n",
       "      <td>14.468779</td>\n",
       "      <td>-5.468779</td>\n",
       "      <td>5.468779</td>\n",
       "    </tr>\n",
       "    <tr>\n",
       "      <th rowspan=\"2\" valign=\"top\">1</th>\n",
       "      <th>28</th>\n",
       "      <td>12.0</td>\n",
       "      <td>17.439327</td>\n",
       "      <td>-5.439327</td>\n",
       "      <td>5.439327</td>\n",
       "    </tr>\n",
       "    <tr>\n",
       "      <th>14</th>\n",
       "      <td>12.0</td>\n",
       "      <td>17.276054</td>\n",
       "      <td>-5.276054</td>\n",
       "      <td>5.276054</td>\n",
       "    </tr>\n",
       "  </tbody>\n",
       "</table>\n",
       "</div>"
      ],
      "text/plain": [
       "                       usage  usage_pred     error  abs_error\n",
       "year month dayofmonth                                        \n",
       "2018 5     27            2.0   11.106812 -9.106812   9.106812\n",
       "           26            3.0   11.373481 -8.373481   8.373481\n",
       "     10    22            3.0   10.941949 -7.941949   7.941949\n",
       "           23            3.0   10.941949 -7.941949   7.941949\n",
       "           24            3.0   10.662539 -7.662539   7.662539\n",
       "     9     3             8.0   14.609943 -6.609943   6.609943\n",
       "     10    21            4.0   10.232221 -6.232221   6.232221\n",
       "     9     4             9.0   14.468779 -5.468779   5.468779\n",
       "     1     28           12.0   17.439327 -5.439327   5.439327\n",
       "           14           12.0   17.276054 -5.276054   5.276054"
      ]
     },
     "execution_count": 25,
     "metadata": {},
     "output_type": "execute_result"
    }
   ],
   "source": [
    "# worst predicted day \n",
    "test['error'] = test['usage'] - test['usage_pred']\n",
    "test['abs_error'] = test['error'].apply(np.abs)\n",
    "error_by_day = test.groupby(['year','month','dayofmonth']) \\\n",
    "    .mean()[['usage','usage_pred','error','abs_error']]\n",
    "\n",
    "# Over forecasted days\n",
    "error_by_day.sort_values('error', ascending=True).head(10)"
   ]
  },
  {
   "cell_type": "code",
   "execution_count": 26,
   "id": "426e636a",
   "metadata": {},
   "outputs": [
    {
     "data": {
      "text/html": [
       "<div>\n",
       "<style scoped>\n",
       "    .dataframe tbody tr th:only-of-type {\n",
       "        vertical-align: middle;\n",
       "    }\n",
       "\n",
       "    .dataframe tbody tr th {\n",
       "        vertical-align: top;\n",
       "    }\n",
       "\n",
       "    .dataframe thead th {\n",
       "        text-align: right;\n",
       "    }\n",
       "</style>\n",
       "<table border=\"1\" class=\"dataframe\">\n",
       "  <thead>\n",
       "    <tr style=\"text-align: right;\">\n",
       "      <th></th>\n",
       "      <th></th>\n",
       "      <th></th>\n",
       "      <th>usage</th>\n",
       "      <th>usage_pred</th>\n",
       "      <th>error</th>\n",
       "      <th>abs_error</th>\n",
       "    </tr>\n",
       "    <tr>\n",
       "      <th>year</th>\n",
       "      <th>month</th>\n",
       "      <th>dayofmonth</th>\n",
       "      <th></th>\n",
       "      <th></th>\n",
       "      <th></th>\n",
       "      <th></th>\n",
       "    </tr>\n",
       "  </thead>\n",
       "  <tbody>\n",
       "    <tr>\n",
       "      <th rowspan=\"10\" valign=\"top\">2018</th>\n",
       "      <th>5</th>\n",
       "      <th>27</th>\n",
       "      <td>2.0</td>\n",
       "      <td>11.106812</td>\n",
       "      <td>-9.106812</td>\n",
       "      <td>9.106812</td>\n",
       "    </tr>\n",
       "    <tr>\n",
       "      <th>6</th>\n",
       "      <th>30</th>\n",
       "      <td>19.0</td>\n",
       "      <td>10.222401</td>\n",
       "      <td>8.777599</td>\n",
       "      <td>8.777599</td>\n",
       "    </tr>\n",
       "    <tr>\n",
       "      <th>5</th>\n",
       "      <th>26</th>\n",
       "      <td>3.0</td>\n",
       "      <td>11.373481</td>\n",
       "      <td>-8.373481</td>\n",
       "      <td>8.373481</td>\n",
       "    </tr>\n",
       "    <tr>\n",
       "      <th rowspan=\"3\" valign=\"top\">10</th>\n",
       "      <th>23</th>\n",
       "      <td>3.0</td>\n",
       "      <td>10.941949</td>\n",
       "      <td>-7.941949</td>\n",
       "      <td>7.941949</td>\n",
       "    </tr>\n",
       "    <tr>\n",
       "      <th>22</th>\n",
       "      <td>3.0</td>\n",
       "      <td>10.941949</td>\n",
       "      <td>-7.941949</td>\n",
       "      <td>7.941949</td>\n",
       "    </tr>\n",
       "    <tr>\n",
       "      <th>24</th>\n",
       "      <td>3.0</td>\n",
       "      <td>10.662539</td>\n",
       "      <td>-7.662539</td>\n",
       "      <td>7.662539</td>\n",
       "    </tr>\n",
       "    <tr>\n",
       "      <th>6</th>\n",
       "      <th>6</th>\n",
       "      <td>16.0</td>\n",
       "      <td>8.819135</td>\n",
       "      <td>7.180865</td>\n",
       "      <td>7.180865</td>\n",
       "    </tr>\n",
       "    <tr>\n",
       "      <th>4</th>\n",
       "      <th>12</th>\n",
       "      <td>17.0</td>\n",
       "      <td>10.286831</td>\n",
       "      <td>6.713169</td>\n",
       "      <td>6.713169</td>\n",
       "    </tr>\n",
       "    <tr>\n",
       "      <th>9</th>\n",
       "      <th>3</th>\n",
       "      <td>8.0</td>\n",
       "      <td>14.609943</td>\n",
       "      <td>-6.609943</td>\n",
       "      <td>6.609943</td>\n",
       "    </tr>\n",
       "    <tr>\n",
       "      <th>6</th>\n",
       "      <th>8</th>\n",
       "      <td>16.0</td>\n",
       "      <td>9.396789</td>\n",
       "      <td>6.603211</td>\n",
       "      <td>6.603211</td>\n",
       "    </tr>\n",
       "  </tbody>\n",
       "</table>\n",
       "</div>"
      ],
      "text/plain": [
       "                       usage  usage_pred     error  abs_error\n",
       "year month dayofmonth                                        \n",
       "2018 5     27            2.0   11.106812 -9.106812   9.106812\n",
       "     6     30           19.0   10.222401  8.777599   8.777599\n",
       "     5     26            3.0   11.373481 -8.373481   8.373481\n",
       "     10    23            3.0   10.941949 -7.941949   7.941949\n",
       "           22            3.0   10.941949 -7.941949   7.941949\n",
       "           24            3.0   10.662539 -7.662539   7.662539\n",
       "     6     6            16.0    8.819135  7.180865   7.180865\n",
       "     4     12           17.0   10.286831  6.713169   6.713169\n",
       "     9     3             8.0   14.609943 -6.609943   6.609943\n",
       "     6     8            16.0    9.396789  6.603211   6.603211"
      ]
     },
     "execution_count": 26,
     "metadata": {},
     "output_type": "execute_result"
    }
   ],
   "source": [
    "# Worst absolute predicted days\n",
    "error_by_day.sort_values('abs_error', ascending=False).head(10)"
   ]
  },
  {
   "cell_type": "code",
   "execution_count": 29,
   "id": "1717d526",
   "metadata": {},
   "outputs": [
    {
     "data": {
      "image/png": "[encoded data removed]",
      "text/plain": [
       "<Figure size 1080x360 with 1 Axes>"
      ]
     },
     "metadata": {},
     "output_type": "display_data"
    }
   ],
   "source": [
    "#plotof the worst predicted day\n",
    "_ = data_all[\"2018-05-26\":\"2018-05-28\"][['usage','usage_pred']].plot(figsize=(15, 5),\n",
    "                                              style=['-','-'])\n",
    "plot = plt.suptitle('May 27th, 2018 - Worst Predicted Day')\n"
   ]
  },
  {
   "cell_type": "code",
   "execution_count": 30,
   "id": "eaf72dde",
   "metadata": {
    "scrolled": true
   },
   "outputs": [
    {
     "data": {
      "text/html": [
       "<div>\n",
       "<style scoped>\n",
       "    .dataframe tbody tr th:only-of-type {\n",
       "        vertical-align: middle;\n",
       "    }\n",
       "\n",
       "    .dataframe tbody tr th {\n",
       "        vertical-align: top;\n",
       "    }\n",
       "\n",
       "    .dataframe thead th {\n",
       "        text-align: right;\n",
       "    }\n",
       "</style>\n",
       "<table border=\"1\" class=\"dataframe\">\n",
       "  <thead>\n",
       "    <tr style=\"text-align: right;\">\n",
       "      <th></th>\n",
       "      <th></th>\n",
       "      <th></th>\n",
       "      <th>usage</th>\n",
       "      <th>usage_pred</th>\n",
       "      <th>error</th>\n",
       "      <th>abs_error</th>\n",
       "    </tr>\n",
       "    <tr>\n",
       "      <th>year</th>\n",
       "      <th>month</th>\n",
       "      <th>dayofmonth</th>\n",
       "      <th></th>\n",
       "      <th></th>\n",
       "      <th></th>\n",
       "      <th></th>\n",
       "    </tr>\n",
       "  </thead>\n",
       "  <tbody>\n",
       "    <tr>\n",
       "      <th rowspan=\"10\" valign=\"top\">2018</th>\n",
       "      <th>7</th>\n",
       "      <th>27</th>\n",
       "      <td>12.0</td>\n",
       "      <td>11.983238</td>\n",
       "      <td>0.016762</td>\n",
       "      <td>0.016762</td>\n",
       "    </tr>\n",
       "    <tr>\n",
       "      <th>3</th>\n",
       "      <th>1</th>\n",
       "      <td>11.0</td>\n",
       "      <td>11.028106</td>\n",
       "      <td>-0.028106</td>\n",
       "      <td>0.028106</td>\n",
       "    </tr>\n",
       "    <tr>\n",
       "      <th>5</th>\n",
       "      <th>14</th>\n",
       "      <td>11.0</td>\n",
       "      <td>11.030883</td>\n",
       "      <td>-0.030883</td>\n",
       "      <td>0.030883</td>\n",
       "    </tr>\n",
       "    <tr>\n",
       "      <th rowspan=\"2\" valign=\"top\">7</th>\n",
       "      <th>9</th>\n",
       "      <td>12.0</td>\n",
       "      <td>12.032393</td>\n",
       "      <td>-0.032393</td>\n",
       "      <td>0.032393</td>\n",
       "    </tr>\n",
       "    <tr>\n",
       "      <th>2</th>\n",
       "      <td>11.0</td>\n",
       "      <td>11.049782</td>\n",
       "      <td>-0.049782</td>\n",
       "      <td>0.049782</td>\n",
       "    </tr>\n",
       "    <tr>\n",
       "      <th>3</th>\n",
       "      <th>19</th>\n",
       "      <td>11.0</td>\n",
       "      <td>11.061200</td>\n",
       "      <td>-0.061200</td>\n",
       "      <td>0.061200</td>\n",
       "    </tr>\n",
       "    <tr>\n",
       "      <th>9</th>\n",
       "      <th>24</th>\n",
       "      <td>10.0</td>\n",
       "      <td>9.861597</td>\n",
       "      <td>0.138403</td>\n",
       "      <td>0.138403</td>\n",
       "    </tr>\n",
       "    <tr>\n",
       "      <th>3</th>\n",
       "      <th>8</th>\n",
       "      <td>11.0</td>\n",
       "      <td>11.189339</td>\n",
       "      <td>-0.189339</td>\n",
       "      <td>0.189339</td>\n",
       "    </tr>\n",
       "    <tr>\n",
       "      <th>7</th>\n",
       "      <th>21</th>\n",
       "      <td>12.0</td>\n",
       "      <td>12.207019</td>\n",
       "      <td>-0.207019</td>\n",
       "      <td>0.207019</td>\n",
       "    </tr>\n",
       "    <tr>\n",
       "      <th>4</th>\n",
       "      <th>15</th>\n",
       "      <td>11.0</td>\n",
       "      <td>10.785243</td>\n",
       "      <td>0.214757</td>\n",
       "      <td>0.214757</td>\n",
       "    </tr>\n",
       "  </tbody>\n",
       "</table>\n",
       "</div>"
      ],
      "text/plain": [
       "                       usage  usage_pred     error  abs_error\n",
       "year month dayofmonth                                        \n",
       "2018 7     27           12.0   11.983238  0.016762   0.016762\n",
       "     3     1            11.0   11.028106 -0.028106   0.028106\n",
       "     5     14           11.0   11.030883 -0.030883   0.030883\n",
       "     7     9            12.0   12.032393 -0.032393   0.032393\n",
       "           2            11.0   11.049782 -0.049782   0.049782\n",
       "     3     19           11.0   11.061200 -0.061200   0.061200\n",
       "     9     24           10.0    9.861597  0.138403   0.138403\n",
       "     3     8            11.0   11.189339 -0.189339   0.189339\n",
       "     7     21           12.0   12.207019 -0.207019   0.207019\n",
       "     4     15           11.0   10.785243  0.214757   0.214757"
      ]
     },
     "execution_count": 30,
     "metadata": {},
     "output_type": "execute_result"
    }
   ],
   "source": [
    "# Best predicted days\n",
    "error_by_day.sort_values('abs_error', ascending=True).head(10)"
   ]
  },
  {
   "cell_type": "markdown",
   "id": "39a3314f",
   "metadata": {},
   "source": [
    "# Conclusion\n",
    "Our model captures pretty well training time series info and does a good job forecasting on the test set. \n",
    "- one further step would be to try out fitting the model on selected features. As we saw earlier, the week/year/ & quarter features don't hold much variance into explaining the energy usage. \n",
    "- do some hyperparameter tuning to better off our model's performance "
   ]
  }
 ],
 "metadata": {
  "kernelspec": {
   "display_name": "Python 3 (ipykernel)",
   "language": "python",
   "name": "python3"
  },
  "language_info": {
   "codemirror_mode": {
    "name": "ipython",
    "version": 3
   },
   "file_extension": ".py",
   "mimetype": "text/x-python",
   "name": "python",
   "nbconvert_exporter": "python",
   "pygments_lexer": "ipython3",
   "version": "3.8.6"
  },
  "toc": {
   "base_numbering": 1,
   "nav_menu": {},
   "number_sections": true,
   "sideBar": true,
   "skip_h1_title": false,
   "title_cell": "Table of Contents",
   "title_sidebar": "Contents",
   "toc_cell": false,
   "toc_position": {},
   "toc_section_display": true,
   "toc_window_display": false
  }
 },
 "nbformat": 4,
 "nbformat_minor": 5
}
